{
 "cells": [
  {
   "cell_type": "code",
   "execution_count": 7,
   "id": "777a30cd",
   "metadata": {},
   "outputs": [
    {
     "ename": "NameError",
     "evalue": "name 'init_printing' is not defined",
     "output_type": "error",
     "traceback": [
      "\u001b[1;31m---------------------------------------------------------------------------\u001b[0m",
      "\u001b[1;31mNameError\u001b[0m                                 Traceback (most recent call last)",
      "\u001b[1;32mC:\\Users\\UPORAB~1\\AppData\\Local\\Temp/ipykernel_33140/3492006123.py\u001b[0m in \u001b[0;36m<module>\u001b[1;34m\u001b[0m\n\u001b[0;32m      5\u001b[0m \u001b[1;32mfrom\u001b[0m \u001b[0msympy\u001b[0m \u001b[1;32mimport\u001b[0m \u001b[0mnsimplify\u001b[0m\u001b[1;33m\u001b[0m\u001b[1;33m\u001b[0m\u001b[0m\n\u001b[0;32m      6\u001b[0m \u001b[1;32mimport\u001b[0m \u001b[0msympy\u001b[0m \u001b[1;32mas\u001b[0m \u001b[0msye\u001b[0m\u001b[1;33m\u001b[0m\u001b[1;33m\u001b[0m\u001b[0m\n\u001b[1;32m----> 7\u001b[1;33m \u001b[0minit_printing\u001b[0m\u001b[1;33m(\u001b[0m\u001b[0muse_unicode\u001b[0m\u001b[1;33m=\u001b[0m\u001b[1;32mTrue\u001b[0m\u001b[1;33m)\u001b[0m\u001b[1;33m\u001b[0m\u001b[1;33m\u001b[0m\u001b[0m\n\u001b[0m\u001b[0;32m      8\u001b[0m \u001b[1;33m\u001b[0m\u001b[0m\n\u001b[0;32m      9\u001b[0m \u001b[1;33m\u001b[0m\u001b[0m\n",
      "\u001b[1;31mNameError\u001b[0m: name 'init_printing' is not defined"
     ]
    }
   ],
   "source": [
    "from sympy import lambdify\n",
    "import numpy as np\n",
    "import symengine as sym\n",
    "import time\n",
    "from sympy import nsimplify\n",
    "import sympy as sye\n",
    "init_printing(use_unicode=True)\n",
    "\n",
    "\n",
    "zacetek1 = time.time()\n",
    "theta1, theta2, theta3, theta4, theta5, theta6, theta7 = sym.symbols('theta1,theta2,theta3,theta4,theta5,theta6,theta7')\n",
    "\n",
    "\n",
    "class Joint:\n",
    "    def __init__(self, a, d, alpha):\n",
    "        self.a = a\n",
    "        self.d = d\n",
    "        self.alpha = alpha\n",
    "\n",
    "\n",
    "joint1 = Joint(0, 0.333, 0)\n",
    "joint2 = Joint(0, 0, -np.pi/2)\n",
    "joint3 = Joint(0, 0.316, np.pi/2)\n",
    "joint4 = Joint(0.0825, 0, np.pi/2)\n",
    "joint5 = Joint(-0.0825, 0.384, -np.pi/2)\n",
    "joint6 = Joint(0, 0, np.pi/2)\n",
    "joint7 = Joint(0.088, 0, np.pi/2)\n",
    "Flange = Joint(0, 0.107, 0)\n",
    "\n",
    "\n",
    "def DH(theta, alpha, d, a):\n",
    "    st = sym.sin(theta)\n",
    "    ct = sym.cos(theta)\n",
    "    sa = sym.sin(alpha)\n",
    "    ca = sym.cos(alpha)\n",
    "#spremeni to matriko \n",
    "    matrika = sym.Matrix([[ct, -st, 0, a],\n",
    "                          [st*ca, ct*ca, -sa, -d*sa],\n",
    "                          [st*sa, ct*sa, ca, d*ca],\n",
    "                          [0, 0, 0, 1]])\n",
    "\n",
    "    return matrika\n",
    "\n",
    "\n",
    "T01 = DH(theta1, joint1.alpha, joint1.d, joint1.a)\n",
    "T12 = DH(theta2, joint2.alpha, joint2.d, joint2.a)\n",
    "T23 = DH(theta3, joint3.alpha, joint3.d, joint3.a)\n",
    "T34 = DH(theta4, joint4.alpha, joint4.d, joint4.a)\n",
    "T45 = DH(theta5, joint5.alpha, joint5.d, joint5.a)\n",
    "T56 = DH(theta6, joint6.alpha, joint6.d, joint6.a)\n",
    "T67 = DH(theta7, joint7.alpha, joint7.d, joint7.a)\n",
    "\n",
    "T0F = T01*T12*T23*T34*T45*T56*T67\n",
    "\n",
    "x,y,z = T0F[:-1,3:]\n",
    "\n",
    "#parcialni odvodi x,y,z po spremenljivkah theta\n",
    "\n",
    "seznam_theta = [theta1, theta2, theta3, theta4, theta5, theta6, theta7]\n",
    "\n",
    "odvodi_x =[]\n",
    "odvodi_y =[]\n",
    "odvodi_z =[]\n",
    "\n",
    "for i in range(len(seznam_theta)):\n",
    "    odvod = sym.diff(x,seznam_theta[i])\n",
    "    odvodi_x.append(odvod)\n",
    "\n",
    "for i in range(len(seznam_theta)):\n",
    "    odvod = sym.diff(y,seznam_theta[i])\n",
    "    odvodi_y.append(odvod)\n",
    "\n",
    "for i in range(len(seznam_theta)):\n",
    "    odvod = sym.diff(z,seznam_theta[i])\n",
    "    odvodi_z.append(odvod)\n",
    "\n",
    "posamezne_transformacije = [T01,T12,T23,T34,T45,T56,T67]\n",
    "\n",
    "kinematicna_veriga = []\n",
    "\n",
    "for i in range(len(posamezne_transformacije)):\n",
    "    if i==0:\n",
    "        kinematicna_veriga.append(posamezne_transformacije[i])\n",
    "            \n",
    "    else:\n",
    "        veriga = kinematicna_veriga[i-1]*posamezne_transformacije[i]\n",
    "        kinematicna_veriga.append(veriga)\n",
    "\n",
    "\n",
    "#rotacija okoli z [:-1,2:-1][:]\n",
    "#rotacija okoli y [:-1,1:-2][:]\n",
    "#rotacija okoli x [:-1,:-3][:]\n",
    "\n",
    "omega1 = kinematicna_veriga[0][:-1,2:-1][:] \n",
    "omega2 = kinematicna_veriga[1][:-1,1:-2][:]\n",
    "omega3 = kinematicna_veriga[2][:-1,2:-1][:]\n",
    "omega4 = kinematicna_veriga[3][:-1,1:-2][:]\n",
    "omega5 = kinematicna_veriga[4][:-1,2:-1][:]\n",
    "omega6 = kinematicna_veriga[5][:-1,1:-2][:]\n",
    "omega7 = kinematicna_veriga[6][:-1,2:-1][:]\n",
    "\n",
    "omega = [omega1,omega2, omega3, omega4, omega5, omega6, omega7]"
   ]
  },
  {
   "cell_type": "code",
   "execution_count": 3,
   "id": "904223f9",
   "metadata": {},
   "outputs": [
    {
     "name": "stdout",
     "output_type": "stream",
     "text": [
      "[[0, 0, 1], [-6.12323399573677e-17*sin(theta1)*cos(theta2) - sin(theta2)*cos(theta1), -sin(theta2)*sin(theta1) + 6.12323399573677e-17*cos(theta2)*cos(theta1), -1.0*cos(theta2)], [-1.0*(-6.12323399573677e-17*sin(theta1)*cos(theta2) - sin(theta2)*cos(theta1)) - 6.12323399573677e-17*sin(theta1), -1.0*(-sin(theta2)*sin(theta1) + 6.12323399573677e-17*cos(theta2)*cos(theta1)) + 6.12323399573677e-17*cos(theta1), 3.74939945665464e-33 + 1.0*cos(theta2)], [-sin(theta4)*(6.12323399573677e-17*sin(theta3)*(-6.12323399573677e-17*sin(theta1)*cos(theta2) - sin(theta2)*cos(theta1)) - 1.0*sin(theta3)*sin(theta1) + cos(theta3)*(-6.12323399573677e-17*sin(theta2)*sin(theta1) + cos(theta2)*cos(theta1))) + 1.0*cos(theta4)*(-1.0*(-6.12323399573677e-17*sin(theta1)*cos(theta2) - sin(theta2)*cos(theta1)) - 6.12323399573677e-17*sin(theta1)) + 6.12323399573677e-17*cos(theta4)*(-1.0*sin(theta1)*cos(theta3) - sin(theta3)*(-6.12323399573677e-17*sin(theta2)*sin(theta1) + cos(theta2)*cos(theta1)) + 6.12323399573677e-17*cos(theta3)*(-6.12323399573677e-17*sin(theta1)*cos(theta2) - sin(theta2)*cos(theta1))), -sin(theta4)*(6.12323399573677e-17*sin(theta3)*(-sin(theta2)*sin(theta1) + 6.12323399573677e-17*cos(theta2)*cos(theta1)) + 1.0*sin(theta3)*cos(theta1) + cos(theta3)*(sin(theta1)*cos(theta2) + 6.12323399573677e-17*sin(theta2)*cos(theta1))) + 1.0*cos(theta4)*(-1.0*(-sin(theta2)*sin(theta1) + 6.12323399573677e-17*cos(theta2)*cos(theta1)) + 6.12323399573677e-17*cos(theta1)) + 6.12323399573677e-17*cos(theta4)*(-sin(theta3)*(sin(theta1)*cos(theta2) + 6.12323399573677e-17*sin(theta2)*cos(theta1)) + 6.12323399573677e-17*cos(theta3)*(-sin(theta2)*sin(theta1) + 6.12323399573677e-17*cos(theta2)*cos(theta1)) + 1.0*cos(theta3)*cos(theta1)), 6.12323399573677e-17*(1.0*sin(theta2)*sin(theta3) - 6.12323399573677e-17*cos(theta2)*cos(theta3) + 6.12323399573677e-17*cos(theta3))*cos(theta4) - sin(theta4)*(-1.0*sin(theta2)*cos(theta3) - 6.12323399573677e-17*sin(theta3)*cos(theta2) + 6.12323399573677e-17*sin(theta3)) + 1.0*cos(theta4)*(3.74939945665464e-33 + 1.0*cos(theta2))], [6.12323399573677e-17*(6.12323399573677e-17*(-1.0*(-6.12323399573677e-17*sin(theta1)*cos(theta2) - sin(theta2)*cos(theta1)) - 6.12323399573677e-17*sin(theta1)) - 1.0*(-1.0*sin(theta1)*cos(theta3) - sin(theta3)*(-6.12323399573677e-17*sin(theta2)*sin(theta1) + cos(theta2)*cos(theta1)) + 6.12323399573677e-17*cos(theta3)*(-6.12323399573677e-17*sin(theta1)*cos(theta2) - sin(theta2)*cos(theta1)))) + 1.0*(-sin(theta4)*(6.12323399573677e-17*sin(theta3)*(-6.12323399573677e-17*sin(theta1)*cos(theta2) - sin(theta2)*cos(theta1)) - 1.0*sin(theta3)*sin(theta1) + cos(theta3)*(-6.12323399573677e-17*sin(theta2)*sin(theta1) + cos(theta2)*cos(theta1))) + 1.0*cos(theta4)*(-1.0*(-6.12323399573677e-17*sin(theta1)*cos(theta2) - sin(theta2)*cos(theta1)) - 6.12323399573677e-17*sin(theta1)) + 6.12323399573677e-17*cos(theta4)*(-1.0*sin(theta1)*cos(theta3) - sin(theta3)*(-6.12323399573677e-17*sin(theta2)*sin(theta1) + cos(theta2)*cos(theta1)) + 6.12323399573677e-17*cos(theta3)*(-6.12323399573677e-17*sin(theta1)*cos(theta2) - sin(theta2)*cos(theta1)))), 6.12323399573677e-17*(6.12323399573677e-17*(-1.0*(-sin(theta2)*sin(theta1) + 6.12323399573677e-17*cos(theta2)*cos(theta1)) + 6.12323399573677e-17*cos(theta1)) - 1.0*(-sin(theta3)*(sin(theta1)*cos(theta2) + 6.12323399573677e-17*sin(theta2)*cos(theta1)) + 6.12323399573677e-17*cos(theta3)*(-sin(theta2)*sin(theta1) + 6.12323399573677e-17*cos(theta2)*cos(theta1)) + 1.0*cos(theta3)*cos(theta1))) + 1.0*(-sin(theta4)*(6.12323399573677e-17*sin(theta3)*(-sin(theta2)*sin(theta1) + 6.12323399573677e-17*cos(theta2)*cos(theta1)) + 1.0*sin(theta3)*cos(theta1) + cos(theta3)*(sin(theta1)*cos(theta2) + 6.12323399573677e-17*sin(theta2)*cos(theta1))) + 1.0*cos(theta4)*(-1.0*(-sin(theta2)*sin(theta1) + 6.12323399573677e-17*cos(theta2)*cos(theta1)) + 6.12323399573677e-17*cos(theta1)) + 6.12323399573677e-17*cos(theta4)*(-sin(theta3)*(sin(theta1)*cos(theta2) + 6.12323399573677e-17*sin(theta2)*cos(theta1)) + 6.12323399573677e-17*cos(theta3)*(-sin(theta2)*sin(theta1) + 6.12323399573677e-17*cos(theta2)*cos(theta1)) + 1.0*cos(theta3)*cos(theta1))), 6.12323399573677e-17*(6.12323399573677e-17*(3.74939945665464e-33 + 1.0*cos(theta2)) - 1.0*(1.0*sin(theta2)*sin(theta3) - 6.12323399573677e-17*cos(theta2)*cos(theta3) + 6.12323399573677e-17*cos(theta3))) + 1.0*(6.12323399573677e-17*(1.0*sin(theta2)*sin(theta3) - 6.12323399573677e-17*cos(theta2)*cos(theta3) + 6.12323399573677e-17*cos(theta3))*cos(theta4) - sin(theta4)*(-1.0*sin(theta2)*cos(theta3) - 6.12323399573677e-17*sin(theta3)*cos(theta2) + 6.12323399573677e-17*sin(theta3)) + 1.0*cos(theta4)*(3.74939945665464e-33 + 1.0*cos(theta2)))], [-sin(theta6)*(-1.0*sin(theta5)*(6.12323399573677e-17*(-1.0*(-6.12323399573677e-17*sin(theta1)*cos(theta2) - sin(theta2)*cos(theta1)) - 6.12323399573677e-17*sin(theta1)) - 1.0*(-1.0*sin(theta1)*cos(theta3) - sin(theta3)*(-6.12323399573677e-17*sin(theta2)*sin(theta1) + cos(theta2)*cos(theta1)) + 6.12323399573677e-17*cos(theta3)*(-6.12323399573677e-17*sin(theta1)*cos(theta2) - sin(theta2)*cos(theta1)))) + 6.12323399573677e-17*sin(theta5)*(-sin(theta4)*(6.12323399573677e-17*sin(theta3)*(-6.12323399573677e-17*sin(theta1)*cos(theta2) - sin(theta2)*cos(theta1)) - 1.0*sin(theta3)*sin(theta1) + cos(theta3)*(-6.12323399573677e-17*sin(theta2)*sin(theta1) + cos(theta2)*cos(theta1))) + 1.0*cos(theta4)*(-1.0*(-6.12323399573677e-17*sin(theta1)*cos(theta2) - sin(theta2)*cos(theta1)) - 6.12323399573677e-17*sin(theta1)) + 6.12323399573677e-17*cos(theta4)*(-1.0*sin(theta1)*cos(theta3) - sin(theta3)*(-6.12323399573677e-17*sin(theta2)*sin(theta1) + cos(theta2)*cos(theta1)) + 6.12323399573677e-17*cos(theta3)*(-6.12323399573677e-17*sin(theta1)*cos(theta2) - sin(theta2)*cos(theta1)))) + cos(theta5)*(1.0*sin(theta4)*(-1.0*(-6.12323399573677e-17*sin(theta1)*cos(theta2) - sin(theta2)*cos(theta1)) - 6.12323399573677e-17*sin(theta1)) + 6.12323399573677e-17*sin(theta4)*(-1.0*sin(theta1)*cos(theta3) - sin(theta3)*(-6.12323399573677e-17*sin(theta2)*sin(theta1) + cos(theta2)*cos(theta1)) + 6.12323399573677e-17*cos(theta3)*(-6.12323399573677e-17*sin(theta1)*cos(theta2) - sin(theta2)*cos(theta1))) + cos(theta4)*(6.12323399573677e-17*sin(theta3)*(-6.12323399573677e-17*sin(theta1)*cos(theta2) - sin(theta2)*cos(theta1)) - 1.0*sin(theta3)*sin(theta1) + cos(theta3)*(-6.12323399573677e-17*sin(theta2)*sin(theta1) + cos(theta2)*cos(theta1))))) + 1.0*cos(theta6)*(6.12323399573677e-17*(6.12323399573677e-17*(-1.0*(-6.12323399573677e-17*sin(theta1)*cos(theta2) - sin(theta2)*cos(theta1)) - 6.12323399573677e-17*sin(theta1)) - 1.0*(-1.0*sin(theta1)*cos(theta3) - sin(theta3)*(-6.12323399573677e-17*sin(theta2)*sin(theta1) + cos(theta2)*cos(theta1)) + 6.12323399573677e-17*cos(theta3)*(-6.12323399573677e-17*sin(theta1)*cos(theta2) - sin(theta2)*cos(theta1)))) + 1.0*(-sin(theta4)*(6.12323399573677e-17*sin(theta3)*(-6.12323399573677e-17*sin(theta1)*cos(theta2) - sin(theta2)*cos(theta1)) - 1.0*sin(theta3)*sin(theta1) + cos(theta3)*(-6.12323399573677e-17*sin(theta2)*sin(theta1) + cos(theta2)*cos(theta1))) + 1.0*cos(theta4)*(-1.0*(-6.12323399573677e-17*sin(theta1)*cos(theta2) - sin(theta2)*cos(theta1)) - 6.12323399573677e-17*sin(theta1)) + 6.12323399573677e-17*cos(theta4)*(-1.0*sin(theta1)*cos(theta3) - sin(theta3)*(-6.12323399573677e-17*sin(theta2)*sin(theta1) + cos(theta2)*cos(theta1)) + 6.12323399573677e-17*cos(theta3)*(-6.12323399573677e-17*sin(theta1)*cos(theta2) - sin(theta2)*cos(theta1))))) + 6.12323399573677e-17*cos(theta6)*(-sin(theta5)*(1.0*sin(theta4)*(-1.0*(-6.12323399573677e-17*sin(theta1)*cos(theta2) - sin(theta2)*cos(theta1)) - 6.12323399573677e-17*sin(theta1)) + 6.12323399573677e-17*sin(theta4)*(-1.0*sin(theta1)*cos(theta3) - sin(theta3)*(-6.12323399573677e-17*sin(theta2)*sin(theta1) + cos(theta2)*cos(theta1)) + 6.12323399573677e-17*cos(theta3)*(-6.12323399573677e-17*sin(theta1)*cos(theta2) - sin(theta2)*cos(theta1))) + cos(theta4)*(6.12323399573677e-17*sin(theta3)*(-6.12323399573677e-17*sin(theta1)*cos(theta2) - sin(theta2)*cos(theta1)) - 1.0*sin(theta3)*sin(theta1) + cos(theta3)*(-6.12323399573677e-17*sin(theta2)*sin(theta1) + cos(theta2)*cos(theta1)))) - 1.0*cos(theta5)*(6.12323399573677e-17*(-1.0*(-6.12323399573677e-17*sin(theta1)*cos(theta2) - sin(theta2)*cos(theta1)) - 6.12323399573677e-17*sin(theta1)) - 1.0*(-1.0*sin(theta1)*cos(theta3) - sin(theta3)*(-6.12323399573677e-17*sin(theta2)*sin(theta1) + cos(theta2)*cos(theta1)) + 6.12323399573677e-17*cos(theta3)*(-6.12323399573677e-17*sin(theta1)*cos(theta2) - sin(theta2)*cos(theta1)))) + 6.12323399573677e-17*cos(theta5)*(-sin(theta4)*(6.12323399573677e-17*sin(theta3)*(-6.12323399573677e-17*sin(theta1)*cos(theta2) - sin(theta2)*cos(theta1)) - 1.0*sin(theta3)*sin(theta1) + cos(theta3)*(-6.12323399573677e-17*sin(theta2)*sin(theta1) + cos(theta2)*cos(theta1))) + 1.0*cos(theta4)*(-1.0*(-6.12323399573677e-17*sin(theta1)*cos(theta2) - sin(theta2)*cos(theta1)) - 6.12323399573677e-17*sin(theta1)) + 6.12323399573677e-17*cos(theta4)*(-1.0*sin(theta1)*cos(theta3) - sin(theta3)*(-6.12323399573677e-17*sin(theta2)*sin(theta1) + cos(theta2)*cos(theta1)) + 6.12323399573677e-17*cos(theta3)*(-6.12323399573677e-17*sin(theta1)*cos(theta2) - sin(theta2)*cos(theta1))))), 1.0*(6.12323399573677e-17*(6.12323399573677e-17*(-1.0*(-sin(theta2)*sin(theta1) + 6.12323399573677e-17*cos(theta2)*cos(theta1)) + 6.12323399573677e-17*cos(theta1)) - 1.0*(-sin(theta3)*(sin(theta1)*cos(theta2) + 6.12323399573677e-17*sin(theta2)*cos(theta1)) + 6.12323399573677e-17*cos(theta3)*(-sin(theta2)*sin(theta1) + 6.12323399573677e-17*cos(theta2)*cos(theta1)) + 1.0*cos(theta3)*cos(theta1))) + 1.0*(-sin(theta4)*(6.12323399573677e-17*sin(theta3)*(-sin(theta2)*sin(theta1) + 6.12323399573677e-17*cos(theta2)*cos(theta1)) + 1.0*sin(theta3)*cos(theta1) + cos(theta3)*(sin(theta1)*cos(theta2) + 6.12323399573677e-17*sin(theta2)*cos(theta1))) + 1.0*cos(theta4)*(-1.0*(-sin(theta2)*sin(theta1) + 6.12323399573677e-17*cos(theta2)*cos(theta1)) + 6.12323399573677e-17*cos(theta1)) + 6.12323399573677e-17*cos(theta4)*(-sin(theta3)*(sin(theta1)*cos(theta2) + 6.12323399573677e-17*sin(theta2)*cos(theta1)) + 6.12323399573677e-17*cos(theta3)*(-sin(theta2)*sin(theta1) + 6.12323399573677e-17*cos(theta2)*cos(theta1)) + 1.0*cos(theta3)*cos(theta1))))*cos(theta6) - sin(theta6)*(-1.0*sin(theta5)*(6.12323399573677e-17*(-1.0*(-sin(theta2)*sin(theta1) + 6.12323399573677e-17*cos(theta2)*cos(theta1)) + 6.12323399573677e-17*cos(theta1)) - 1.0*(-sin(theta3)*(sin(theta1)*cos(theta2) + 6.12323399573677e-17*sin(theta2)*cos(theta1)) + 6.12323399573677e-17*cos(theta3)*(-sin(theta2)*sin(theta1) + 6.12323399573677e-17*cos(theta2)*cos(theta1)) + 1.0*cos(theta3)*cos(theta1))) + 6.12323399573677e-17*sin(theta5)*(-sin(theta4)*(6.12323399573677e-17*sin(theta3)*(-sin(theta2)*sin(theta1) + 6.12323399573677e-17*cos(theta2)*cos(theta1)) + 1.0*sin(theta3)*cos(theta1) + cos(theta3)*(sin(theta1)*cos(theta2) + 6.12323399573677e-17*sin(theta2)*cos(theta1))) + 1.0*cos(theta4)*(-1.0*(-sin(theta2)*sin(theta1) + 6.12323399573677e-17*cos(theta2)*cos(theta1)) + 6.12323399573677e-17*cos(theta1)) + 6.12323399573677e-17*cos(theta4)*(-sin(theta3)*(sin(theta1)*cos(theta2) + 6.12323399573677e-17*sin(theta2)*cos(theta1)) + 6.12323399573677e-17*cos(theta3)*(-sin(theta2)*sin(theta1) + 6.12323399573677e-17*cos(theta2)*cos(theta1)) + 1.0*cos(theta3)*cos(theta1))) + cos(theta5)*(1.0*sin(theta4)*(-1.0*(-sin(theta2)*sin(theta1) + 6.12323399573677e-17*cos(theta2)*cos(theta1)) + 6.12323399573677e-17*cos(theta1)) + 6.12323399573677e-17*sin(theta4)*(-sin(theta3)*(sin(theta1)*cos(theta2) + 6.12323399573677e-17*sin(theta2)*cos(theta1)) + 6.12323399573677e-17*cos(theta3)*(-sin(theta2)*sin(theta1) + 6.12323399573677e-17*cos(theta2)*cos(theta1)) + 1.0*cos(theta3)*cos(theta1)) + cos(theta4)*(6.12323399573677e-17*sin(theta3)*(-sin(theta2)*sin(theta1) + 6.12323399573677e-17*cos(theta2)*cos(theta1)) + 1.0*sin(theta3)*cos(theta1) + cos(theta3)*(sin(theta1)*cos(theta2) + 6.12323399573677e-17*sin(theta2)*cos(theta1))))) + 6.12323399573677e-17*cos(theta6)*(-sin(theta5)*(1.0*sin(theta4)*(-1.0*(-sin(theta2)*sin(theta1) + 6.12323399573677e-17*cos(theta2)*cos(theta1)) + 6.12323399573677e-17*cos(theta1)) + 6.12323399573677e-17*sin(theta4)*(-sin(theta3)*(sin(theta1)*cos(theta2) + 6.12323399573677e-17*sin(theta2)*cos(theta1)) + 6.12323399573677e-17*cos(theta3)*(-sin(theta2)*sin(theta1) + 6.12323399573677e-17*cos(theta2)*cos(theta1)) + 1.0*cos(theta3)*cos(theta1)) + cos(theta4)*(6.12323399573677e-17*sin(theta3)*(-sin(theta2)*sin(theta1) + 6.12323399573677e-17*cos(theta2)*cos(theta1)) + 1.0*sin(theta3)*cos(theta1) + cos(theta3)*(sin(theta1)*cos(theta2) + 6.12323399573677e-17*sin(theta2)*cos(theta1)))) - 1.0*cos(theta5)*(6.12323399573677e-17*(-1.0*(-sin(theta2)*sin(theta1) + 6.12323399573677e-17*cos(theta2)*cos(theta1)) + 6.12323399573677e-17*cos(theta1)) - 1.0*(-sin(theta3)*(sin(theta1)*cos(theta2) + 6.12323399573677e-17*sin(theta2)*cos(theta1)) + 6.12323399573677e-17*cos(theta3)*(-sin(theta2)*sin(theta1) + 6.12323399573677e-17*cos(theta2)*cos(theta1)) + 1.0*cos(theta3)*cos(theta1))) + 6.12323399573677e-17*cos(theta5)*(-sin(theta4)*(6.12323399573677e-17*sin(theta3)*(-sin(theta2)*sin(theta1) + 6.12323399573677e-17*cos(theta2)*cos(theta1)) + 1.0*sin(theta3)*cos(theta1) + cos(theta3)*(sin(theta1)*cos(theta2) + 6.12323399573677e-17*sin(theta2)*cos(theta1))) + 1.0*cos(theta4)*(-1.0*(-sin(theta2)*sin(theta1) + 6.12323399573677e-17*cos(theta2)*cos(theta1)) + 6.12323399573677e-17*cos(theta1)) + 6.12323399573677e-17*cos(theta4)*(-sin(theta3)*(sin(theta1)*cos(theta2) + 6.12323399573677e-17*sin(theta2)*cos(theta1)) + 6.12323399573677e-17*cos(theta3)*(-sin(theta2)*sin(theta1) + 6.12323399573677e-17*cos(theta2)*cos(theta1)) + 1.0*cos(theta3)*cos(theta1)))), 1.0*(6.12323399573677e-17*(6.12323399573677e-17*(3.74939945665464e-33 + 1.0*cos(theta2)) - 1.0*(1.0*sin(theta2)*sin(theta3) - 6.12323399573677e-17*cos(theta2)*cos(theta3) + 6.12323399573677e-17*cos(theta3))) + 1.0*(6.12323399573677e-17*(1.0*sin(theta2)*sin(theta3) - 6.12323399573677e-17*cos(theta2)*cos(theta3) + 6.12323399573677e-17*cos(theta3))*cos(theta4) - sin(theta4)*(-1.0*sin(theta2)*cos(theta3) - 6.12323399573677e-17*sin(theta3)*cos(theta2) + 6.12323399573677e-17*sin(theta3)) + 1.0*cos(theta4)*(3.74939945665464e-33 + 1.0*cos(theta2))))*cos(theta6) - sin(theta6)*(-1.0*sin(theta5)*(6.12323399573677e-17*(3.74939945665464e-33 + 1.0*cos(theta2)) - 1.0*(1.0*sin(theta2)*sin(theta3) - 6.12323399573677e-17*cos(theta2)*cos(theta3) + 6.12323399573677e-17*cos(theta3))) + 6.12323399573677e-17*sin(theta5)*(6.12323399573677e-17*(1.0*sin(theta2)*sin(theta3) - 6.12323399573677e-17*cos(theta2)*cos(theta3) + 6.12323399573677e-17*cos(theta3))*cos(theta4) - sin(theta4)*(-1.0*sin(theta2)*cos(theta3) - 6.12323399573677e-17*sin(theta3)*cos(theta2) + 6.12323399573677e-17*sin(theta3)) + 1.0*cos(theta4)*(3.74939945665464e-33 + 1.0*cos(theta2))) + cos(theta5)*(6.12323399573677e-17*(1.0*sin(theta2)*sin(theta3) - 6.12323399573677e-17*cos(theta2)*cos(theta3) + 6.12323399573677e-17*cos(theta3))*sin(theta4) + 1.0*sin(theta4)*(3.74939945665464e-33 + 1.0*cos(theta2)) + cos(theta4)*(-1.0*sin(theta2)*cos(theta3) - 6.12323399573677e-17*sin(theta3)*cos(theta2) + 6.12323399573677e-17*sin(theta3)))) + 6.12323399573677e-17*cos(theta6)*(-sin(theta5)*(6.12323399573677e-17*(1.0*sin(theta2)*sin(theta3) - 6.12323399573677e-17*cos(theta2)*cos(theta3) + 6.12323399573677e-17*cos(theta3))*sin(theta4) + 1.0*sin(theta4)*(3.74939945665464e-33 + 1.0*cos(theta2)) + cos(theta4)*(-1.0*sin(theta2)*cos(theta3) - 6.12323399573677e-17*sin(theta3)*cos(theta2) + 6.12323399573677e-17*sin(theta3))) - 1.0*cos(theta5)*(6.12323399573677e-17*(3.74939945665464e-33 + 1.0*cos(theta2)) - 1.0*(1.0*sin(theta2)*sin(theta3) - 6.12323399573677e-17*cos(theta2)*cos(theta3) + 6.12323399573677e-17*cos(theta3))) + 6.12323399573677e-17*cos(theta5)*(6.12323399573677e-17*(1.0*sin(theta2)*sin(theta3) - 6.12323399573677e-17*cos(theta2)*cos(theta3) + 6.12323399573677e-17*cos(theta3))*cos(theta4) - sin(theta4)*(-1.0*sin(theta2)*cos(theta3) - 6.12323399573677e-17*sin(theta3)*cos(theta2) + 6.12323399573677e-17*sin(theta3)) + 1.0*cos(theta4)*(3.74939945665464e-33 + 1.0*cos(theta2))))], [6.12323399573677e-17*(6.12323399573677e-17*(6.12323399573677e-17*(6.12323399573677e-17*(-1.0*(-6.12323399573677e-17*sin(theta1)*cos(theta2) - sin(theta2)*cos(theta1)) - 6.12323399573677e-17*sin(theta1)) - 1.0*(-1.0*sin(theta1)*cos(theta3) - sin(theta3)*(-6.12323399573677e-17*sin(theta2)*sin(theta1) + cos(theta2)*cos(theta1)) + 6.12323399573677e-17*cos(theta3)*(-6.12323399573677e-17*sin(theta1)*cos(theta2) - sin(theta2)*cos(theta1)))) + 1.0*(-sin(theta4)*(6.12323399573677e-17*sin(theta3)*(-6.12323399573677e-17*sin(theta1)*cos(theta2) - sin(theta2)*cos(theta1)) - 1.0*sin(theta3)*sin(theta1) + cos(theta3)*(-6.12323399573677e-17*sin(theta2)*sin(theta1) + cos(theta2)*cos(theta1))) + 1.0*cos(theta4)*(-1.0*(-6.12323399573677e-17*sin(theta1)*cos(theta2) - sin(theta2)*cos(theta1)) - 6.12323399573677e-17*sin(theta1)) + 6.12323399573677e-17*cos(theta4)*(-1.0*sin(theta1)*cos(theta3) - sin(theta3)*(-6.12323399573677e-17*sin(theta2)*sin(theta1) + cos(theta2)*cos(theta1)) + 6.12323399573677e-17*cos(theta3)*(-6.12323399573677e-17*sin(theta1)*cos(theta2) - sin(theta2)*cos(theta1))))) - 1.0*(-sin(theta5)*(1.0*sin(theta4)*(-1.0*(-6.12323399573677e-17*sin(theta1)*cos(theta2) - sin(theta2)*cos(theta1)) - 6.12323399573677e-17*sin(theta1)) + 6.12323399573677e-17*sin(theta4)*(-1.0*sin(theta1)*cos(theta3) - sin(theta3)*(-6.12323399573677e-17*sin(theta2)*sin(theta1) + cos(theta2)*cos(theta1)) + 6.12323399573677e-17*cos(theta3)*(-6.12323399573677e-17*sin(theta1)*cos(theta2) - sin(theta2)*cos(theta1))) + cos(theta4)*(6.12323399573677e-17*sin(theta3)*(-6.12323399573677e-17*sin(theta1)*cos(theta2) - sin(theta2)*cos(theta1)) - 1.0*sin(theta3)*sin(theta1) + cos(theta3)*(-6.12323399573677e-17*sin(theta2)*sin(theta1) + cos(theta2)*cos(theta1)))) - 1.0*cos(theta5)*(6.12323399573677e-17*(-1.0*(-6.12323399573677e-17*sin(theta1)*cos(theta2) - sin(theta2)*cos(theta1)) - 6.12323399573677e-17*sin(theta1)) - 1.0*(-1.0*sin(theta1)*cos(theta3) - sin(theta3)*(-6.12323399573677e-17*sin(theta2)*sin(theta1) + cos(theta2)*cos(theta1)) + 6.12323399573677e-17*cos(theta3)*(-6.12323399573677e-17*sin(theta1)*cos(theta2) - sin(theta2)*cos(theta1)))) + 6.12323399573677e-17*cos(theta5)*(-sin(theta4)*(6.12323399573677e-17*sin(theta3)*(-6.12323399573677e-17*sin(theta1)*cos(theta2) - sin(theta2)*cos(theta1)) - 1.0*sin(theta3)*sin(theta1) + cos(theta3)*(-6.12323399573677e-17*sin(theta2)*sin(theta1) + cos(theta2)*cos(theta1))) + 1.0*cos(theta4)*(-1.0*(-6.12323399573677e-17*sin(theta1)*cos(theta2) - sin(theta2)*cos(theta1)) - 6.12323399573677e-17*sin(theta1)) + 6.12323399573677e-17*cos(theta4)*(-1.0*sin(theta1)*cos(theta3) - sin(theta3)*(-6.12323399573677e-17*sin(theta2)*sin(theta1) + cos(theta2)*cos(theta1)) + 6.12323399573677e-17*cos(theta3)*(-6.12323399573677e-17*sin(theta1)*cos(theta2) - sin(theta2)*cos(theta1)))))) - 1.0*(-sin(theta6)*(-1.0*sin(theta5)*(6.12323399573677e-17*(-1.0*(-6.12323399573677e-17*sin(theta1)*cos(theta2) - sin(theta2)*cos(theta1)) - 6.12323399573677e-17*sin(theta1)) - 1.0*(-1.0*sin(theta1)*cos(theta3) - sin(theta3)*(-6.12323399573677e-17*sin(theta2)*sin(theta1) + cos(theta2)*cos(theta1)) + 6.12323399573677e-17*cos(theta3)*(-6.12323399573677e-17*sin(theta1)*cos(theta2) - sin(theta2)*cos(theta1)))) + 6.12323399573677e-17*sin(theta5)*(-sin(theta4)*(6.12323399573677e-17*sin(theta3)*(-6.12323399573677e-17*sin(theta1)*cos(theta2) - sin(theta2)*cos(theta1)) - 1.0*sin(theta3)*sin(theta1) + cos(theta3)*(-6.12323399573677e-17*sin(theta2)*sin(theta1) + cos(theta2)*cos(theta1))) + 1.0*cos(theta4)*(-1.0*(-6.12323399573677e-17*sin(theta1)*cos(theta2) - sin(theta2)*cos(theta1)) - 6.12323399573677e-17*sin(theta1)) + 6.12323399573677e-17*cos(theta4)*(-1.0*sin(theta1)*cos(theta3) - sin(theta3)*(-6.12323399573677e-17*sin(theta2)*sin(theta1) + cos(theta2)*cos(theta1)) + 6.12323399573677e-17*cos(theta3)*(-6.12323399573677e-17*sin(theta1)*cos(theta2) - sin(theta2)*cos(theta1)))) + cos(theta5)*(1.0*sin(theta4)*(-1.0*(-6.12323399573677e-17*sin(theta1)*cos(theta2) - sin(theta2)*cos(theta1)) - 6.12323399573677e-17*sin(theta1)) + 6.12323399573677e-17*sin(theta4)*(-1.0*sin(theta1)*cos(theta3) - sin(theta3)*(-6.12323399573677e-17*sin(theta2)*sin(theta1) + cos(theta2)*cos(theta1)) + 6.12323399573677e-17*cos(theta3)*(-6.12323399573677e-17*sin(theta1)*cos(theta2) - sin(theta2)*cos(theta1))) + cos(theta4)*(6.12323399573677e-17*sin(theta3)*(-6.12323399573677e-17*sin(theta1)*cos(theta2) - sin(theta2)*cos(theta1)) - 1.0*sin(theta3)*sin(theta1) + cos(theta3)*(-6.12323399573677e-17*sin(theta2)*sin(theta1) + cos(theta2)*cos(theta1))))) + 1.0*cos(theta6)*(6.12323399573677e-17*(6.12323399573677e-17*(-1.0*(-6.12323399573677e-17*sin(theta1)*cos(theta2) - sin(theta2)*cos(theta1)) - 6.12323399573677e-17*sin(theta1)) - 1.0*(-1.0*sin(theta1)*cos(theta3) - sin(theta3)*(-6.12323399573677e-17*sin(theta2)*sin(theta1) + cos(theta2)*cos(theta1)) + 6.12323399573677e-17*cos(theta3)*(-6.12323399573677e-17*sin(theta1)*cos(theta2) - sin(theta2)*cos(theta1)))) + 1.0*(-sin(theta4)*(6.12323399573677e-17*sin(theta3)*(-6.12323399573677e-17*sin(theta1)*cos(theta2) - sin(theta2)*cos(theta1)) - 1.0*sin(theta3)*sin(theta1) + cos(theta3)*(-6.12323399573677e-17*sin(theta2)*sin(theta1) + cos(theta2)*cos(theta1))) + 1.0*cos(theta4)*(-1.0*(-6.12323399573677e-17*sin(theta1)*cos(theta2) - sin(theta2)*cos(theta1)) - 6.12323399573677e-17*sin(theta1)) + 6.12323399573677e-17*cos(theta4)*(-1.0*sin(theta1)*cos(theta3) - sin(theta3)*(-6.12323399573677e-17*sin(theta2)*sin(theta1) + cos(theta2)*cos(theta1)) + 6.12323399573677e-17*cos(theta3)*(-6.12323399573677e-17*sin(theta1)*cos(theta2) - sin(theta2)*cos(theta1))))) + 6.12323399573677e-17*cos(theta6)*(-sin(theta5)*(1.0*sin(theta4)*(-1.0*(-6.12323399573677e-17*sin(theta1)*cos(theta2) - sin(theta2)*cos(theta1)) - 6.12323399573677e-17*sin(theta1)) + 6.12323399573677e-17*sin(theta4)*(-1.0*sin(theta1)*cos(theta3) - sin(theta3)*(-6.12323399573677e-17*sin(theta2)*sin(theta1) + cos(theta2)*cos(theta1)) + 6.12323399573677e-17*cos(theta3)*(-6.12323399573677e-17*sin(theta1)*cos(theta2) - sin(theta2)*cos(theta1))) + cos(theta4)*(6.12323399573677e-17*sin(theta3)*(-6.12323399573677e-17*sin(theta1)*cos(theta2) - sin(theta2)*cos(theta1)) - 1.0*sin(theta3)*sin(theta1) + cos(theta3)*(-6.12323399573677e-17*sin(theta2)*sin(theta1) + cos(theta2)*cos(theta1)))) - 1.0*cos(theta5)*(6.12323399573677e-17*(-1.0*(-6.12323399573677e-17*sin(theta1)*cos(theta2) - sin(theta2)*cos(theta1)) - 6.12323399573677e-17*sin(theta1)) - 1.0*(-1.0*sin(theta1)*cos(theta3) - sin(theta3)*(-6.12323399573677e-17*sin(theta2)*sin(theta1) + cos(theta2)*cos(theta1)) + 6.12323399573677e-17*cos(theta3)*(-6.12323399573677e-17*sin(theta1)*cos(theta2) - sin(theta2)*cos(theta1)))) + 6.12323399573677e-17*cos(theta5)*(-sin(theta4)*(6.12323399573677e-17*sin(theta3)*(-6.12323399573677e-17*sin(theta1)*cos(theta2) - sin(theta2)*cos(theta1)) - 1.0*sin(theta3)*sin(theta1) + cos(theta3)*(-6.12323399573677e-17*sin(theta2)*sin(theta1) + cos(theta2)*cos(theta1))) + 1.0*cos(theta4)*(-1.0*(-6.12323399573677e-17*sin(theta1)*cos(theta2) - sin(theta2)*cos(theta1)) - 6.12323399573677e-17*sin(theta1)) + 6.12323399573677e-17*cos(theta4)*(-1.0*sin(theta1)*cos(theta3) - sin(theta3)*(-6.12323399573677e-17*sin(theta2)*sin(theta1) + cos(theta2)*cos(theta1)) + 6.12323399573677e-17*cos(theta3)*(-6.12323399573677e-17*sin(theta1)*cos(theta2) - sin(theta2)*cos(theta1)))))), 6.12323399573677e-17*(6.12323399573677e-17*(6.12323399573677e-17*(6.12323399573677e-17*(-1.0*(-sin(theta2)*sin(theta1) + 6.12323399573677e-17*cos(theta2)*cos(theta1)) + 6.12323399573677e-17*cos(theta1)) - 1.0*(-sin(theta3)*(sin(theta1)*cos(theta2) + 6.12323399573677e-17*sin(theta2)*cos(theta1)) + 6.12323399573677e-17*cos(theta3)*(-sin(theta2)*sin(theta1) + 6.12323399573677e-17*cos(theta2)*cos(theta1)) + 1.0*cos(theta3)*cos(theta1))) + 1.0*(-sin(theta4)*(6.12323399573677e-17*sin(theta3)*(-sin(theta2)*sin(theta1) + 6.12323399573677e-17*cos(theta2)*cos(theta1)) + 1.0*sin(theta3)*cos(theta1) + cos(theta3)*(sin(theta1)*cos(theta2) + 6.12323399573677e-17*sin(theta2)*cos(theta1))) + 1.0*cos(theta4)*(-1.0*(-sin(theta2)*sin(theta1) + 6.12323399573677e-17*cos(theta2)*cos(theta1)) + 6.12323399573677e-17*cos(theta1)) + 6.12323399573677e-17*cos(theta4)*(-sin(theta3)*(sin(theta1)*cos(theta2) + 6.12323399573677e-17*sin(theta2)*cos(theta1)) + 6.12323399573677e-17*cos(theta3)*(-sin(theta2)*sin(theta1) + 6.12323399573677e-17*cos(theta2)*cos(theta1)) + 1.0*cos(theta3)*cos(theta1)))) - 1.0*(-sin(theta5)*(1.0*sin(theta4)*(-1.0*(-sin(theta2)*sin(theta1) + 6.12323399573677e-17*cos(theta2)*cos(theta1)) + 6.12323399573677e-17*cos(theta1)) + 6.12323399573677e-17*sin(theta4)*(-sin(theta3)*(sin(theta1)*cos(theta2) + 6.12323399573677e-17*sin(theta2)*cos(theta1)) + 6.12323399573677e-17*cos(theta3)*(-sin(theta2)*sin(theta1) + 6.12323399573677e-17*cos(theta2)*cos(theta1)) + 1.0*cos(theta3)*cos(theta1)) + cos(theta4)*(6.12323399573677e-17*sin(theta3)*(-sin(theta2)*sin(theta1) + 6.12323399573677e-17*cos(theta2)*cos(theta1)) + 1.0*sin(theta3)*cos(theta1) + cos(theta3)*(sin(theta1)*cos(theta2) + 6.12323399573677e-17*sin(theta2)*cos(theta1)))) - 1.0*cos(theta5)*(6.12323399573677e-17*(-1.0*(-sin(theta2)*sin(theta1) + 6.12323399573677e-17*cos(theta2)*cos(theta1)) + 6.12323399573677e-17*cos(theta1)) - 1.0*(-sin(theta3)*(sin(theta1)*cos(theta2) + 6.12323399573677e-17*sin(theta2)*cos(theta1)) + 6.12323399573677e-17*cos(theta3)*(-sin(theta2)*sin(theta1) + 6.12323399573677e-17*cos(theta2)*cos(theta1)) + 1.0*cos(theta3)*cos(theta1))) + 6.12323399573677e-17*cos(theta5)*(-sin(theta4)*(6.12323399573677e-17*sin(theta3)*(-sin(theta2)*sin(theta1) + 6.12323399573677e-17*cos(theta2)*cos(theta1)) + 1.0*sin(theta3)*cos(theta1) + cos(theta3)*(sin(theta1)*cos(theta2) + 6.12323399573677e-17*sin(theta2)*cos(theta1))) + 1.0*cos(theta4)*(-1.0*(-sin(theta2)*sin(theta1) + 6.12323399573677e-17*cos(theta2)*cos(theta1)) + 6.12323399573677e-17*cos(theta1)) + 6.12323399573677e-17*cos(theta4)*(-sin(theta3)*(sin(theta1)*cos(theta2) + 6.12323399573677e-17*sin(theta2)*cos(theta1)) + 6.12323399573677e-17*cos(theta3)*(-sin(theta2)*sin(theta1) + 6.12323399573677e-17*cos(theta2)*cos(theta1)) + 1.0*cos(theta3)*cos(theta1))))) - 1.0*(1.0*(6.12323399573677e-17*(6.12323399573677e-17*(-1.0*(-sin(theta2)*sin(theta1) + 6.12323399573677e-17*cos(theta2)*cos(theta1)) + 6.12323399573677e-17*cos(theta1)) - 1.0*(-sin(theta3)*(sin(theta1)*cos(theta2) + 6.12323399573677e-17*sin(theta2)*cos(theta1)) + 6.12323399573677e-17*cos(theta3)*(-sin(theta2)*sin(theta1) + 6.12323399573677e-17*cos(theta2)*cos(theta1)) + 1.0*cos(theta3)*cos(theta1))) + 1.0*(-sin(theta4)*(6.12323399573677e-17*sin(theta3)*(-sin(theta2)*sin(theta1) + 6.12323399573677e-17*cos(theta2)*cos(theta1)) + 1.0*sin(theta3)*cos(theta1) + cos(theta3)*(sin(theta1)*cos(theta2) + 6.12323399573677e-17*sin(theta2)*cos(theta1))) + 1.0*cos(theta4)*(-1.0*(-sin(theta2)*sin(theta1) + 6.12323399573677e-17*cos(theta2)*cos(theta1)) + 6.12323399573677e-17*cos(theta1)) + 6.12323399573677e-17*cos(theta4)*(-sin(theta3)*(sin(theta1)*cos(theta2) + 6.12323399573677e-17*sin(theta2)*cos(theta1)) + 6.12323399573677e-17*cos(theta3)*(-sin(theta2)*sin(theta1) + 6.12323399573677e-17*cos(theta2)*cos(theta1)) + 1.0*cos(theta3)*cos(theta1))))*cos(theta6) - sin(theta6)*(-1.0*sin(theta5)*(6.12323399573677e-17*(-1.0*(-sin(theta2)*sin(theta1) + 6.12323399573677e-17*cos(theta2)*cos(theta1)) + 6.12323399573677e-17*cos(theta1)) - 1.0*(-sin(theta3)*(sin(theta1)*cos(theta2) + 6.12323399573677e-17*sin(theta2)*cos(theta1)) + 6.12323399573677e-17*cos(theta3)*(-sin(theta2)*sin(theta1) + 6.12323399573677e-17*cos(theta2)*cos(theta1)) + 1.0*cos(theta3)*cos(theta1))) + 6.12323399573677e-17*sin(theta5)*(-sin(theta4)*(6.12323399573677e-17*sin(theta3)*(-sin(theta2)*sin(theta1) + 6.12323399573677e-17*cos(theta2)*cos(theta1)) + 1.0*sin(theta3)*cos(theta1) + cos(theta3)*(sin(theta1)*cos(theta2) + 6.12323399573677e-17*sin(theta2)*cos(theta1))) + 1.0*cos(theta4)*(-1.0*(-sin(theta2)*sin(theta1) + 6.12323399573677e-17*cos(theta2)*cos(theta1)) + 6.12323399573677e-17*cos(theta1)) + 6.12323399573677e-17*cos(theta4)*(-sin(theta3)*(sin(theta1)*cos(theta2) + 6.12323399573677e-17*sin(theta2)*cos(theta1)) + 6.12323399573677e-17*cos(theta3)*(-sin(theta2)*sin(theta1) + 6.12323399573677e-17*cos(theta2)*cos(theta1)) + 1.0*cos(theta3)*cos(theta1))) + cos(theta5)*(1.0*sin(theta4)*(-1.0*(-sin(theta2)*sin(theta1) + 6.12323399573677e-17*cos(theta2)*cos(theta1)) + 6.12323399573677e-17*cos(theta1)) + 6.12323399573677e-17*sin(theta4)*(-sin(theta3)*(sin(theta1)*cos(theta2) + 6.12323399573677e-17*sin(theta2)*cos(theta1)) + 6.12323399573677e-17*cos(theta3)*(-sin(theta2)*sin(theta1) + 6.12323399573677e-17*cos(theta2)*cos(theta1)) + 1.0*cos(theta3)*cos(theta1)) + cos(theta4)*(6.12323399573677e-17*sin(theta3)*(-sin(theta2)*sin(theta1) + 6.12323399573677e-17*cos(theta2)*cos(theta1)) + 1.0*sin(theta3)*cos(theta1) + cos(theta3)*(sin(theta1)*cos(theta2) + 6.12323399573677e-17*sin(theta2)*cos(theta1))))) + 6.12323399573677e-17*cos(theta6)*(-sin(theta5)*(1.0*sin(theta4)*(-1.0*(-sin(theta2)*sin(theta1) + 6.12323399573677e-17*cos(theta2)*cos(theta1)) + 6.12323399573677e-17*cos(theta1)) + 6.12323399573677e-17*sin(theta4)*(-sin(theta3)*(sin(theta1)*cos(theta2) + 6.12323399573677e-17*sin(theta2)*cos(theta1)) + 6.12323399573677e-17*cos(theta3)*(-sin(theta2)*sin(theta1) + 6.12323399573677e-17*cos(theta2)*cos(theta1)) + 1.0*cos(theta3)*cos(theta1)) + cos(theta4)*(6.12323399573677e-17*sin(theta3)*(-sin(theta2)*sin(theta1) + 6.12323399573677e-17*cos(theta2)*cos(theta1)) + 1.0*sin(theta3)*cos(theta1) + cos(theta3)*(sin(theta1)*cos(theta2) + 6.12323399573677e-17*sin(theta2)*cos(theta1)))) - 1.0*cos(theta5)*(6.12323399573677e-17*(-1.0*(-sin(theta2)*sin(theta1) + 6.12323399573677e-17*cos(theta2)*cos(theta1)) + 6.12323399573677e-17*cos(theta1)) - 1.0*(-sin(theta3)*(sin(theta1)*cos(theta2) + 6.12323399573677e-17*sin(theta2)*cos(theta1)) + 6.12323399573677e-17*cos(theta3)*(-sin(theta2)*sin(theta1) + 6.12323399573677e-17*cos(theta2)*cos(theta1)) + 1.0*cos(theta3)*cos(theta1))) + 6.12323399573677e-17*cos(theta5)*(-sin(theta4)*(6.12323399573677e-17*sin(theta3)*(-sin(theta2)*sin(theta1) + 6.12323399573677e-17*cos(theta2)*cos(theta1)) + 1.0*sin(theta3)*cos(theta1) + cos(theta3)*(sin(theta1)*cos(theta2) + 6.12323399573677e-17*sin(theta2)*cos(theta1))) + 1.0*cos(theta4)*(-1.0*(-sin(theta2)*sin(theta1) + 6.12323399573677e-17*cos(theta2)*cos(theta1)) + 6.12323399573677e-17*cos(theta1)) + 6.12323399573677e-17*cos(theta4)*(-sin(theta3)*(sin(theta1)*cos(theta2) + 6.12323399573677e-17*sin(theta2)*cos(theta1)) + 6.12323399573677e-17*cos(theta3)*(-sin(theta2)*sin(theta1) + 6.12323399573677e-17*cos(theta2)*cos(theta1)) + 1.0*cos(theta3)*cos(theta1))))), 6.12323399573677e-17*(6.12323399573677e-17*(6.12323399573677e-17*(6.12323399573677e-17*(3.74939945665464e-33 + 1.0*cos(theta2)) - 1.0*(1.0*sin(theta2)*sin(theta3) - 6.12323399573677e-17*cos(theta2)*cos(theta3) + 6.12323399573677e-17*cos(theta3))) + 1.0*(6.12323399573677e-17*(1.0*sin(theta2)*sin(theta3) - 6.12323399573677e-17*cos(theta2)*cos(theta3) + 6.12323399573677e-17*cos(theta3))*cos(theta4) - sin(theta4)*(-1.0*sin(theta2)*cos(theta3) - 6.12323399573677e-17*sin(theta3)*cos(theta2) + 6.12323399573677e-17*sin(theta3)) + 1.0*cos(theta4)*(3.74939945665464e-33 + 1.0*cos(theta2)))) - 1.0*(-sin(theta5)*(6.12323399573677e-17*(1.0*sin(theta2)*sin(theta3) - 6.12323399573677e-17*cos(theta2)*cos(theta3) + 6.12323399573677e-17*cos(theta3))*sin(theta4) + 1.0*sin(theta4)*(3.74939945665464e-33 + 1.0*cos(theta2)) + cos(theta4)*(-1.0*sin(theta2)*cos(theta3) - 6.12323399573677e-17*sin(theta3)*cos(theta2) + 6.12323399573677e-17*sin(theta3))) - 1.0*cos(theta5)*(6.12323399573677e-17*(3.74939945665464e-33 + 1.0*cos(theta2)) - 1.0*(1.0*sin(theta2)*sin(theta3) - 6.12323399573677e-17*cos(theta2)*cos(theta3) + 6.12323399573677e-17*cos(theta3))) + 6.12323399573677e-17*cos(theta5)*(6.12323399573677e-17*(1.0*sin(theta2)*sin(theta3) - 6.12323399573677e-17*cos(theta2)*cos(theta3) + 6.12323399573677e-17*cos(theta3))*cos(theta4) - sin(theta4)*(-1.0*sin(theta2)*cos(theta3) - 6.12323399573677e-17*sin(theta3)*cos(theta2) + 6.12323399573677e-17*sin(theta3)) + 1.0*cos(theta4)*(3.74939945665464e-33 + 1.0*cos(theta2))))) - 1.0*(1.0*(6.12323399573677e-17*(6.12323399573677e-17*(3.74939945665464e-33 + 1.0*cos(theta2)) - 1.0*(1.0*sin(theta2)*sin(theta3) - 6.12323399573677e-17*cos(theta2)*cos(theta3) + 6.12323399573677e-17*cos(theta3))) + 1.0*(6.12323399573677e-17*(1.0*sin(theta2)*sin(theta3) - 6.12323399573677e-17*cos(theta2)*cos(theta3) + 6.12323399573677e-17*cos(theta3))*cos(theta4) - sin(theta4)*(-1.0*sin(theta2)*cos(theta3) - 6.12323399573677e-17*sin(theta3)*cos(theta2) + 6.12323399573677e-17*sin(theta3)) + 1.0*cos(theta4)*(3.74939945665464e-33 + 1.0*cos(theta2))))*cos(theta6) - sin(theta6)*(-1.0*sin(theta5)*(6.12323399573677e-17*(3.74939945665464e-33 + 1.0*cos(theta2)) - 1.0*(1.0*sin(theta2)*sin(theta3) - 6.12323399573677e-17*cos(theta2)*cos(theta3) + 6.12323399573677e-17*cos(theta3))) + 6.12323399573677e-17*sin(theta5)*(6.12323399573677e-17*(1.0*sin(theta2)*sin(theta3) - 6.12323399573677e-17*cos(theta2)*cos(theta3) + 6.12323399573677e-17*cos(theta3))*cos(theta4) - sin(theta4)*(-1.0*sin(theta2)*cos(theta3) - 6.12323399573677e-17*sin(theta3)*cos(theta2) + 6.12323399573677e-17*sin(theta3)) + 1.0*cos(theta4)*(3.74939945665464e-33 + 1.0*cos(theta2))) + cos(theta5)*(6.12323399573677e-17*(1.0*sin(theta2)*sin(theta3) - 6.12323399573677e-17*cos(theta2)*cos(theta3) + 6.12323399573677e-17*cos(theta3))*sin(theta4) + 1.0*sin(theta4)*(3.74939945665464e-33 + 1.0*cos(theta2)) + cos(theta4)*(-1.0*sin(theta2)*cos(theta3) - 6.12323399573677e-17*sin(theta3)*cos(theta2) + 6.12323399573677e-17*sin(theta3)))) + 6.12323399573677e-17*cos(theta6)*(-sin(theta5)*(6.12323399573677e-17*(1.0*sin(theta2)*sin(theta3) - 6.12323399573677e-17*cos(theta2)*cos(theta3) + 6.12323399573677e-17*cos(theta3))*sin(theta4) + 1.0*sin(theta4)*(3.74939945665464e-33 + 1.0*cos(theta2)) + cos(theta4)*(-1.0*sin(theta2)*cos(theta3) - 6.12323399573677e-17*sin(theta3)*cos(theta2) + 6.12323399573677e-17*sin(theta3))) - 1.0*cos(theta5)*(6.12323399573677e-17*(3.74939945665464e-33 + 1.0*cos(theta2)) - 1.0*(1.0*sin(theta2)*sin(theta3) - 6.12323399573677e-17*cos(theta2)*cos(theta3) + 6.12323399573677e-17*cos(theta3))) + 6.12323399573677e-17*cos(theta5)*(6.12323399573677e-17*(1.0*sin(theta2)*sin(theta3) - 6.12323399573677e-17*cos(theta2)*cos(theta3) + 6.12323399573677e-17*cos(theta3))*cos(theta4) - sin(theta4)*(-1.0*sin(theta2)*cos(theta3) - 6.12323399573677e-17*sin(theta3)*cos(theta2) + 6.12323399573677e-17*sin(theta3)) + 1.0*cos(theta4)*(3.74939945665464e-33 + 1.0*cos(theta2)))))]]\n"
     ]
    }
   ],
   "source": []
  },
  {
   "cell_type": "code",
   "execution_count": 11,
   "id": "d5bdcea6",
   "metadata": {},
   "outputs": [
    {
     "data": {
      "text/latex": [
       "$\\displaystyle \\left[\\begin{matrix}1 & 2 & 3 & 4\\\\5 & 6 & 7 & 8\\\\9 & 10 & 11 & 12\\\\13 & 14 & 15 & 16\\end{matrix}\\right]$"
      ],
      "text/plain": [
       "Matrix([\n",
       "[ 1,  2,  3,  4],\n",
       "[ 5,  6,  7,  8],\n",
       "[ 9, 10, 11, 12],\n",
       "[13, 14, 15, 16]])"
      ]
     },
     "execution_count": 11,
     "metadata": {},
     "output_type": "execute_result"
    }
   ],
   "source": [
    "R = sye.Matrix([[1,2,3,4],[5,6,7,8],[9,10,11,12],[13,14,15,16]])\n",
    "R"
   ]
  },
  {
   "cell_type": "code",
   "execution_count": 12,
   "id": "d5a213d8",
   "metadata": {},
   "outputs": [
    {
     "data": {
      "text/plain": [
       "[2, 6, 10]"
      ]
     },
     "execution_count": 12,
     "metadata": {},
     "output_type": "execute_result"
    }
   ],
   "source": [
    "R[:-1,1:-2][:]"
   ]
  },
  {
   "cell_type": "code",
   "execution_count": 13,
   "id": "3ad1b08d",
   "metadata": {},
   "outputs": [
    {
     "data": {
      "text/plain": [
       "[3, 7, 11]"
      ]
     },
     "execution_count": 13,
     "metadata": {},
     "output_type": "execute_result"
    }
   ],
   "source": [
    "R[:-1,2:-1][:]"
   ]
  },
  {
   "cell_type": "code",
   "execution_count": 15,
   "id": "194d136e",
   "metadata": {},
   "outputs": [
    {
     "data": {
      "text/latex": [
       "$\\displaystyle \\left[\\begin{matrix}1\\\\5\\\\9\\end{matrix}\\right]$"
      ],
      "text/plain": [
       "Matrix([\n",
       "[1],\n",
       "[5],\n",
       "[9]])"
      ]
     },
     "execution_count": 15,
     "metadata": {},
     "output_type": "execute_result"
    }
   ],
   "source": [
    "R[:-1,:-3]"
   ]
  },
  {
   "cell_type": "code",
   "execution_count": 21,
   "id": "41608d24",
   "metadata": {},
   "outputs": [],
   "source": [
    "from sympy import lambdify\n",
    "import numpy as np\n",
    "import symengine as sym\n",
    "import time\n",
    "from sympy import nsimplify\n",
    "\n",
    "\n",
    "zacetek1 = time.time()\n",
    "theta1, theta2, theta3, theta4, theta5, theta6, theta7 = sym.symbols('theta1,theta2,theta3,theta4,theta5,theta6,theta7')\n",
    "\n",
    "\n",
    "class Joint:\n",
    "    def __init__(self, a, d, alpha):\n",
    "        self.a = a\n",
    "        self.d = d\n",
    "        self.alpha = alpha\n",
    "\n",
    "\n",
    "joint1 = Joint(0, 0.333, 0)\n",
    "joint2 = Joint(0, 0, -np.pi/2)\n",
    "joint3 = Joint(0, 0.316, np.pi/2)\n",
    "joint4 = Joint(0.0825, 0, np.pi/2)\n",
    "joint5 = Joint(-0.0825, 0.384, -np.pi/2)\n",
    "joint6 = Joint(0, 0, np.pi/2)\n",
    "joint7 = Joint(0.088, 0, np.pi/2)\n",
    "Flange = Joint(0, 0.107, 0)\n",
    "\n",
    "\n",
    "def DH(theta, alpha, d, a):\n",
    "    st = sym.sin(theta)\n",
    "    ct = sym.cos(theta)\n",
    "    sa = sym.sin(alpha)\n",
    "    ca = sym.cos(alpha)\n",
    "#spremeni to matriko \n",
    "    matrika = sym.Matrix([[ct, -st, 0, a],\n",
    "                          [st*ca, ct*ca, -sa, -d*sa],\n",
    "                          [st*sa, ct*sa, ca, d*ca],\n",
    "                          [0, 0, 0, 1]])\n",
    "\n",
    "    return matrika\n",
    "\n",
    "\n",
    "T01 = DH(theta1, joint1.alpha, joint1.d, joint1.a)\n",
    "T12 = DH(theta2, joint2.alpha, joint2.d, joint2.a)\n",
    "T23 = DH(theta3, joint3.alpha, joint3.d, joint3.a)\n",
    "T34 = DH(theta4, joint4.alpha, joint4.d, joint4.a)\n",
    "T45 = DH(theta5, joint5.alpha, joint5.d, joint5.a)\n",
    "T56 = DH(theta6, joint6.alpha, joint6.d, joint6.a)\n",
    "T67 = DH(theta7, joint7.alpha, joint7.d, joint7.a)\n",
    "\n",
    "T0F = T01*T12*T23*T34*T45*T56*T67\n",
    "\n",
    "x,y,z = T0F[:-1,3:]\n",
    "\n",
    "#parcialni odvodi x,y,z po spremenljivkah theta\n",
    "\n",
    "seznam_theta = [theta1, theta2, theta3, theta4, theta5, theta6, theta7]\n",
    "\n",
    "odvodi_x =[]\n",
    "odvodi_y =[]\n",
    "odvodi_z =[]\n",
    "\n",
    "for i in range(len(seznam_theta)):\n",
    "    odvod = sym.diff(x,seznam_theta[i])\n",
    "    odvodi_x.append(odvod)\n",
    "\n",
    "for i in range(len(seznam_theta)):\n",
    "    odvod = sym.diff(y,seznam_theta[i])\n",
    "    odvodi_y.append(odvod)\n",
    "\n",
    "for i in range(len(seznam_theta)):\n",
    "    odvod = sym.diff(z,seznam_theta[i])\n",
    "    odvodi_z.append(odvod)\n",
    "\n",
    "kinematicna_veriga = [T01,T01*T12,T01*T12*T23,T01*T12*T23*T34,T01*T12*T23*T34*T45,T01*T12*T23*T34*T45*T56,T01*T12*T23*T34*T45*T56*T67]\n",
    "\n",
    "#kinematicna_veriga = []\n",
    "\n",
    "#for i in range(len(posamezne_transformacije)):\n",
    "    #if i==0:\n",
    "        #kinematicna_veriga.append(posamezne_transformacije[i])\n",
    "            \n",
    "   # else:\n",
    "        #veriga = kinematicna_veriga[i-1]*posamezne_transformacije[i]\n",
    "        #kinematicna_veriga.append(veriga)\n",
    "\n",
    "\n",
    "#rotacija okoli z [:-1,2:-1][:]\n",
    "#rotacija okoli y [:-1,1:-2][:]\n",
    "#rotacija okoli x [:-1,:-3][:]\n",
    "\n",
    "omega1 = kinematicna_veriga[0][:-1,2:-1][:] \n",
    "omega2 = kinematicna_veriga[1][:-1,2:-1][:]\n",
    "omega3 = kinematicna_veriga[2][:-1,2:-1][:]\n",
    "omega4 = kinematicna_veriga[3][:-1,2:-1][:]\n",
    "omega5 = kinematicna_veriga[4][:-1,2:-1][:]\n",
    "omega6 = kinematicna_veriga[5][:-1,2:-1][:]\n",
    "omega7 = kinematicna_veriga[6][:-1,2:-1][:]\n",
    "\n",
    "omega = [omega1,omega2, omega3, omega4, omega5, omega6, omega7]\n",
    "\n",
    "tabela1 = [omega1[0],omega2[0],omega3[0],omega4[0],omega5[0],omega6[0],omega7[0]]\n",
    "tabela2 = [omega1[1],omega2[1],omega3[1],omega4[1],omega5[1],omega6[1],omega7[1]]\n",
    "tabela3 = [omega1[2],omega2[2],omega3[2],omega4[2],omega5[2],omega6[2],omega7[2]]\n",
    "\n",
    "\n",
    "#Jakobijeva matrika\n",
    "tabela_rotacij_x = []\n",
    "tabela_rotacij_y = []\n",
    "tabela_rotacij_z = []\n",
    "\n",
    "for i in range(len(omega)):\n",
    "\n",
    "    j = 0\n",
    "    x = omega[i][j]\n",
    "    y = omega[i][j+1]\n",
    "    z = omega[i][j+2]\n",
    "\n",
    "    tabela_rotacij_x.append(x)\n",
    "    tabela_rotacij_y.append(y)\n",
    "    tabela_rotacij_z.append(z)\n",
    "\n",
    "J=sym.Matrix([odvodi_x, odvodi_y, odvodi_z,tabela1,tabela2,tabela3])\n",
    "Poesnostavljen_J = nsimplify(J, tolerance=1e-15)"
   ]
  },
  {
   "cell_type": "code",
   "execution_count": 22,
   "id": "60cac56f",
   "metadata": {},
   "outputs": [
    {
     "data": {
      "text/plain": [
       "'Matrix(87999999999997*(((-sin(theta1)*cos(theta2)*cos(theta3) - sin(theta3)*cos(theta1))*cos(theta4) - sin(theta1)*sin(theta2)*sin(theta4))*cos(theta5) - (-sin(theta1)*sin(theta3)*cos(theta2) + cos(theta1)*cos(theta3))*sin(theta5))*cos(theta6)/999999999999966 + 87999999999997*(-(-sin(theta1)*cos(theta2)*cos(theta3) - sin(theta3)*cos(theta1))*sin(theta4) - sin(theta1)*sin(theta2)*cos(theta4))*sin(theta6)/999999999999966 - 383999999999957*(-sin(theta1)*cos(theta2)*cos(theta3) - sin(theta3)*cos(theta1))*sin(theta4)/999999999999888 - 53078138465443*(-sin(theta1)*cos(theta2)*cos(theta3) - sin(theta3)*cos(theta1))*cos(theta4)/643371375338703 + 53078138465443*sin(theta1)*sin(theta2)*sin(theta4)/643371375338703 - 383999999999957*sin(theta1)*sin(theta2)*cos(theta4)/999999999999888 - 315999999999994*sin(theta1)*sin(theta2)/999999999999981 - 53078138465443*sin(theta1)*cos(theta2)*cos(theta3)/643371375338703 - 53078138465443*sin(theta3)*cos(theta1)/643371375338703, 87999999999997*((-sin(theta2)*cos(theta1)*cos(theta3)*cos(theta4) + sin(theta4)*cos(theta1)*cos(theta2))*cos(theta5) + sin(theta2)*sin(theta3)*sin(theta5)*cos(theta1))*cos(theta6)/999999999999966 + 87999999999997*(sin(theta2)*sin(theta4)*cos(theta1)*cos(theta3) + cos(theta1)*cos(theta2)*cos(theta4))*sin(theta6)/999999999999966 + 383999999999957*sin(theta2)*sin(theta4)*cos(theta1)*cos(theta3)/999999999999888 + 53078138465443*sin(theta2)*cos(theta1)*cos(theta3)*cos(theta4)/643371375338703 - 53078138465443*sin(theta2)*cos(theta1)*cos(theta3)/643371375338703 - 53078138465443*sin(theta4)*cos(theta1)*cos(theta2)/643371375338703 + 383999999999957*cos(theta1)*cos(theta2)*cos(theta4)/999999999999888 + 315999999999994*cos(theta1)*cos(theta2)/999999999999981, 87999999999997*(-(-sin(theta1)*sin(theta3) + cos(theta1)*cos(theta2)*cos(theta3))*sin(theta5) + (-sin(theta1)*cos(theta3) - sin(theta3)*cos(theta1)*cos(theta2))*cos(theta4)*cos(theta5))*cos(theta6)/999999999999966 - 87999999999997*(-sin(theta1)*cos(theta3) - sin(theta3)*cos(theta1)*cos(theta2))*sin(theta4)*sin(theta6)/999999999999966 - 383999999999957*(-sin(theta1)*cos(theta3) - sin(theta3)*cos(theta1)*cos(theta2))*sin(theta4)/999999999999888 - 53078138465443*(-sin(theta1)*cos(theta3) - sin(theta3)*cos(theta1)*cos(theta2))*cos(theta4)/643371375338703 - 53078138465443*sin(theta1)*cos(theta3)/643371375338703 - 53078138465443*sin(theta3)*cos(theta1)*cos(theta2)/643371375338703, 87999999999997*(-(-sin(theta1)*sin(theta3) + cos(theta1)*cos(theta2)*cos(theta3))*sin(theta4) + sin(theta2)*cos(theta1)*cos(theta4))*cos(theta5)*cos(theta6)/999999999999966 + 87999999999997*(-(-sin(theta1)*sin(theta3) + cos(theta1)*cos(theta2)*cos(theta3))*cos(theta4) - sin(theta2)*sin(theta4)*cos(theta1))*sin(theta6)/999999999999966 + 53078138465443*(-sin(theta1)*sin(theta3) + cos(theta1)*cos(theta2)*cos(theta3))*sin(theta4)/643371375338703 - 383999999999957*(-sin(theta1)*sin(theta3) + cos(theta1)*cos(theta2)*cos(theta3))*cos(theta4)/999999999999888 - 383999999999957*sin(theta2)*sin(theta4)*cos(theta1)/999999999999888 - 53078138465443*sin(theta2)*cos(theta1)*cos(theta4)/643371375338703, 87999999999997*(-((-sin(theta1)*sin(theta3) + cos(theta1)*cos(theta2)*cos(theta3))*cos(theta4) + sin(theta2)*sin(theta4)*cos(theta1))*sin(theta5) - (sin(theta1)*cos(theta3) + sin(theta3)*cos(theta1)*cos(theta2))*cos(theta5))*cos(theta6)/999999999999966, -87999999999997*(((-sin(theta1)*sin(theta3) + cos(theta1)*cos(theta2)*cos(theta3))*cos(theta4) + sin(theta2)*sin(theta4)*cos(theta1))*cos(theta5) - (sin(theta1)*cos(theta3) + sin(theta3)*cos(theta1)*cos(theta2))*sin(theta5))*sin(theta6)/999999999999966 + 87999999999997*(-(-sin(theta1)*sin(theta3) + cos(theta1)*cos(theta2)*cos(theta3))*sin(theta4) + sin(theta2)*cos(theta1)*cos(theta4))*cos(theta6)/999999999999966, 0, 87999999999997*(((-sin(theta1)*sin(theta3) + cos(theta1)*cos(theta2)*cos(theta3))*cos(theta4) + sin(theta2)*sin(theta4)*cos(theta1))*cos(theta5) - (sin(theta1)*cos(theta3) + sin(theta3)*cos(theta1)*cos(theta2))*sin(theta5))*cos(theta6)/999999999999966 + 87999999999997*(-(-sin(theta1)*sin(theta3) + cos(theta1)*cos(theta2)*cos(theta3))*sin(theta4) + sin(theta2)*cos(theta1)*cos(theta4))*sin(theta6)/999999999999966 - 383999999999957*(-sin(theta1)*sin(theta3) + cos(theta1)*cos(theta2)*cos(theta3))*sin(theta4)/999999999999888 - 53078138465443*(-sin(theta1)*sin(theta3) + cos(theta1)*cos(theta2)*cos(theta3))*cos(theta4)/643371375338703 - 53078138465443*sin(theta1)*sin(theta3)/643371375338703 - 53078138465443*sin(theta2)*sin(theta4)*cos(theta1)/643371375338703 + 383999999999957*sin(theta2)*cos(theta1)*cos(theta4)/999999999999888 + 315999999999994*sin(theta2)*cos(theta1)/999999999999981 + 53078138465443*cos(theta1)*cos(theta2)*cos(theta3)/643371375338703, 87999999999997*((-sin(theta1)*sin(theta2)*cos(theta3)*cos(theta4) + sin(theta1)*sin(theta4)*cos(theta2))*cos(theta5) + sin(theta1)*sin(theta2)*sin(theta3)*sin(theta5))*cos(theta6)/999999999999966 + 87999999999997*(sin(theta1)*sin(theta2)*sin(theta4)*cos(theta3) + sin(theta1)*cos(theta2)*cos(theta4))*sin(theta6)/999999999999966 + 383999999999957*sin(theta1)*sin(theta2)*sin(theta4)*cos(theta3)/999999999999888 + 53078138465443*sin(theta1)*sin(theta2)*cos(theta3)*cos(theta4)/643371375338703 - 53078138465443*sin(theta1)*sin(theta2)*cos(theta3)/643371375338703 - 53078138465443*sin(theta1)*sin(theta4)*cos(theta2)/643371375338703 + 383999999999957*sin(theta1)*cos(theta2)*cos(theta4)/999999999999888 + 315999999999994*sin(theta1)*cos(theta2)/999999999999981, 87999999999997*((-sin(theta1)*sin(theta3)*cos(theta2) + cos(theta1)*cos(theta3))*cos(theta4)*cos(theta5) - (sin(theta1)*cos(theta2)*cos(theta3) + sin(theta3)*cos(theta1))*sin(theta5))*cos(theta6)/999999999999966 - 87999999999997*(-sin(theta1)*sin(theta3)*cos(theta2) + cos(theta1)*cos(theta3))*sin(theta4)*sin(theta6)/999999999999966 - 383999999999957*(-sin(theta1)*sin(theta3)*cos(theta2) + cos(theta1)*cos(theta3))*sin(theta4)/999999999999888 - 53078138465443*(-sin(theta1)*sin(theta3)*cos(theta2) + cos(theta1)*cos(theta3))*cos(theta4)/643371375338703 - 53078138465443*sin(theta1)*sin(theta3)*cos(theta2)/643371375338703 + 53078138465443*cos(theta1)*cos(theta3)/643371375338703, 87999999999997*(-(sin(theta1)*cos(theta2)*cos(theta3) + sin(theta3)*cos(theta1))*sin(theta4) + sin(theta1)*sin(theta2)*cos(theta4))*cos(theta5)*cos(theta6)/999999999999966 + 87999999999997*(-(sin(theta1)*cos(theta2)*cos(theta3) + sin(theta3)*cos(theta1))*cos(theta4) - sin(theta1)*sin(theta2)*sin(theta4))*sin(theta6)/999999999999966 + 53078138465443*(sin(theta1)*cos(theta2)*cos(theta3) + sin(theta3)*cos(theta1))*sin(theta4)/643371375338703 - 383999999999957*(sin(theta1)*cos(theta2)*cos(theta3) + sin(theta3)*cos(theta1))*cos(theta4)/999999999999888 - 383999999999957*sin(theta1)*sin(theta2)*sin(theta4)/999999999999888 - 53078138465443*sin(theta1)*sin(theta2)*cos(theta4)/643371375338703, 87999999999997*(-((sin(theta1)*cos(theta2)*cos(theta3) + sin(theta3)*cos(theta1))*cos(theta4) + sin(theta1)*sin(theta2)*sin(theta4))*sin(theta5) - (sin(theta1)*sin(theta3)*cos(theta2) - cos(theta1)*cos(theta3))*cos(theta5))*cos(theta6)/999999999999966, -87999999999997*(((sin(theta1)*cos(theta2)*cos(theta3) + sin(theta3)*cos(theta1))*cos(theta4) + sin(theta1)*sin(theta2)*sin(theta4))*cos(theta5) - (sin(theta1)*sin(theta3)*cos(theta2) - cos(theta1)*cos(theta3))*sin(theta5))*sin(theta6)/999999999999966 + 87999999999997*(-(sin(theta1)*cos(theta2)*cos(theta3) + sin(theta3)*cos(theta1))*sin(theta4) + sin(theta1)*sin(theta2)*cos(theta4))*cos(theta6)/999999999999966, 0, 0, 87999999999997*((-sin(theta2)*sin(theta4) - cos(theta2)*cos(theta3)*cos(theta4))*cos(theta5) + sin(theta3)*sin(theta5)*cos(theta2))*cos(theta6)/999999999999966 + 87999999999997*(-sin(theta2)*cos(theta4) + sin(theta4)*cos(theta2)*cos(theta3))*sin(theta6)/999999999999966 + 53078138465443*sin(theta2)*sin(theta4)/643371375338703 - 383999999999957*sin(theta2)*cos(theta4)/999999999999888 - 315999999999994*sin(theta2)/999999999999981 + 383999999999957*sin(theta4)*cos(theta2)*cos(theta3)/999999999999888 + 53078138465443*cos(theta2)*cos(theta3)*cos(theta4)/643371375338703 - 53078138465443*cos(theta2)*cos(theta3)/643371375338703, 87999999999997*(sin(theta2)*sin(theta3)*cos(theta4)*cos(theta5) + sin(theta2)*sin(theta5)*cos(theta3))*cos(theta6)/999999999999966 - 87999999999997*sin(theta2)*sin(theta3)*sin(theta4)*sin(theta6)/999999999999966 - 383999999999957*sin(theta2)*sin(theta3)*sin(theta4)/999999999999888 - 53078138465443*sin(theta2)*sin(theta3)*cos(theta4)/643371375338703 + 53078138465443*sin(theta2)*sin(theta3)/643371375338703, 87999999999997*(sin(theta2)*sin(theta4)*cos(theta3) + cos(theta2)*cos(theta4))*cos(theta5)*cos(theta6)/999999999999966 + 87999999999997*(sin(theta2)*cos(theta3)*cos(theta4) - sin(theta4)*cos(theta2))*sin(theta6)/999999999999966 - 53078138465443*sin(theta2)*sin(theta4)*cos(theta3)/643371375338703 + 383999999999957*sin(theta2)*cos(theta3)*cos(theta4)/999999999999888 - 383999999999957*sin(theta4)*cos(theta2)/999999999999888 - 53078138465443*cos(theta2)*cos(theta4)/643371375338703, 87999999999997*(-(-sin(theta2)*cos(theta3)*cos(theta4) + sin(theta4)*cos(theta2))*sin(theta5) + sin(theta2)*sin(theta3)*cos(theta5))*cos(theta6)/999999999999966, -87999999999997*((-sin(theta2)*cos(theta3)*cos(theta4) + sin(theta4)*cos(theta2))*cos(theta5) + sin(theta2)*sin(theta3)*sin(theta5))*sin(theta6)/999999999999966 + 87999999999997*(sin(theta2)*sin(theta4)*cos(theta3) + cos(theta2)*cos(theta4))*cos(theta6)/999999999999966, 0, 0, -sin(theta1), sin(theta2)*cos(theta1), sin(theta1)*cos(theta3) + sin(theta3)*cos(theta1)*cos(theta2), -(-sin(theta1)*sin(theta3) + cos(theta1)*cos(theta2)*cos(theta3))*sin(theta4) + sin(theta2)*cos(theta1)*cos(theta4), ((-sin(theta1)*sin(theta3) + cos(theta1)*cos(theta2)*cos(theta3))*cos(theta4) + sin(theta2)*sin(theta4)*cos(theta1))*sin(theta5) + (sin(theta1)*cos(theta3) + sin(theta3)*cos(theta1)*cos(theta2))*cos(theta5), (((-sin(theta1)*sin(theta3) + cos(theta1)*cos(theta2)*cos(theta3))*cos(theta4) + sin(theta2)*sin(theta4)*cos(theta1))*cos(theta5) - (sin(theta1)*cos(theta3) + sin(theta3)*cos(theta1)*cos(theta2))*sin(theta5))*sin(theta6) - (-(-sin(theta1)*sin(theta3) + cos(theta1)*cos(theta2)*cos(theta3))*sin(theta4) + sin(theta2)*cos(theta1)*cos(theta4))*cos(theta6), 0, cos(theta1), sin(theta1)*sin(theta2), sin(theta1)*sin(theta3)*cos(theta2) - cos(theta1)*cos(theta3), -(sin(theta1)*cos(theta2)*cos(theta3) + sin(theta3)*cos(theta1))*sin(theta4) + sin(theta1)*sin(theta2)*cos(theta4), ((sin(theta1)*cos(theta2)*cos(theta3) + sin(theta3)*cos(theta1))*cos(theta4) + sin(theta1)*sin(theta2)*sin(theta4))*sin(theta5) + (sin(theta1)*sin(theta3)*cos(theta2) - cos(theta1)*cos(theta3))*cos(theta5), (((sin(theta1)*cos(theta2)*cos(theta3) + sin(theta3)*cos(theta1))*cos(theta4) + sin(theta1)*sin(theta2)*sin(theta4))*cos(theta5) - (sin(theta1)*sin(theta3)*cos(theta2) - cos(theta1)*cos(theta3))*sin(theta5))*sin(theta6) - (-(sin(theta1)*cos(theta2)*cos(theta3) + sin(theta3)*cos(theta1))*sin(theta4) + sin(theta1)*sin(theta2)*cos(theta4))*cos(theta6), 1, 0, cos(theta2), -sin(theta2)*sin(theta3), sin(theta2)*sin(theta4)*cos(theta3) + cos(theta2)*cos(theta4), (-sin(theta2)*cos(theta3)*cos(theta4) + sin(theta4)*cos(theta2))*sin(theta5) - sin(theta2)*sin(theta3)*cos(theta5), ((-sin(theta2)*cos(theta3)*cos(theta4) + sin(theta4)*cos(theta2))*cos(theta5) + sin(theta2)*sin(theta3)*sin(theta5))*sin(theta6) - (sin(theta2)*sin(theta4)*cos(theta3) + cos(theta2)*cos(theta4))*cos(theta6))'"
      ]
     },
     "execution_count": 22,
     "metadata": {},
     "output_type": "execute_result"
    }
   ],
   "source": [
    "x=str(Poesnostavljen_J).replace(\"[\",\"\")\n",
    "y = x.replace(\"]\",\"\")\n",
    "y"
   ]
  },
  {
   "cell_type": "code",
   "execution_count": 23,
   "id": "ce08bc49",
   "metadata": {},
   "outputs": [
    {
     "ename": "TypeError",
     "evalue": "'module' object is not callable",
     "output_type": "error",
     "traceback": [
      "\u001b[1;31m---------------------------------------------------------------------------\u001b[0m",
      "\u001b[1;31mTypeError\u001b[0m                                 Traceback (most recent call last)",
      "\u001b[1;32mC:\\Users\\UPORAB~1\\AppData\\Local\\Temp/ipykernel_33140/1139578056.py\u001b[0m in \u001b[0;36m<module>\u001b[1;34m\u001b[0m\n\u001b[0;32m      3\u001b[0m \u001b[0mrobot\u001b[0m \u001b[1;33m=\u001b[0m \u001b[0mrtb\u001b[0m\u001b[1;33m.\u001b[0m\u001b[0mmodels\u001b[0m\u001b[1;33m.\u001b[0m\u001b[0mDH\u001b[0m\u001b[1;33m.\u001b[0m\u001b[0mPanda\u001b[0m\u001b[1;33m(\u001b[0m\u001b[1;33m)\u001b[0m  \u001b[1;31m# create a robot\u001b[0m\u001b[1;33m\u001b[0m\u001b[1;33m\u001b[0m\u001b[0m\n\u001b[0;32m      4\u001b[0m \u001b[1;33m\u001b[0m\u001b[0m\n\u001b[1;32m----> 5\u001b[1;33m \u001b[0mpyplot\u001b[0m \u001b[1;33m=\u001b[0m \u001b[0mrtb\u001b[0m\u001b[1;33m.\u001b[0m\u001b[0mbackends\u001b[0m\u001b[1;33m.\u001b[0m\u001b[0mPyPlot\u001b[0m\u001b[1;33m(\u001b[0m\u001b[1;33m)\u001b[0m  \u001b[1;31m# create a PyPlot backend\u001b[0m\u001b[1;33m\u001b[0m\u001b[1;33m\u001b[0m\u001b[0m\n\u001b[0m\u001b[0;32m      6\u001b[0m \u001b[0mpyplot\u001b[0m\u001b[1;33m.\u001b[0m\u001b[0madd\u001b[0m\u001b[1;33m(\u001b[0m\u001b[0mrobot\u001b[0m\u001b[1;33m)\u001b[0m              \u001b[1;31m# add the robot to the backend\u001b[0m\u001b[1;33m\u001b[0m\u001b[1;33m\u001b[0m\u001b[0m\n\u001b[0;32m      7\u001b[0m \u001b[0mrobot\u001b[0m\u001b[1;33m.\u001b[0m\u001b[0mq\u001b[0m \u001b[1;33m=\u001b[0m \u001b[0mrobot\u001b[0m\u001b[1;33m.\u001b[0m\u001b[0mqz\u001b[0m             \u001b[1;31m# set the robot configuration\u001b[0m\u001b[1;33m\u001b[0m\u001b[1;33m\u001b[0m\u001b[0m\n",
      "\u001b[1;31mTypeError\u001b[0m: 'module' object is not callable"
     ]
    }
   ],
   "source": [
    "            # update the backend and graphical view"
   ]
  },
  {
   "cell_type": "code",
   "execution_count": null,
   "id": "5279b813",
   "metadata": {},
   "outputs": [],
   "source": []
  }
 ],
 "metadata": {
  "kernelspec": {
   "display_name": "Python 3 (ipykernel)",
   "language": "python",
   "name": "python3"
  },
  "language_info": {
   "codemirror_mode": {
    "name": "ipython",
    "version": 3
   },
   "file_extension": ".py",
   "mimetype": "text/x-python",
   "name": "python",
   "nbconvert_exporter": "python",
   "pygments_lexer": "ipython3",
   "version": "3.8.12"
  },
  "toc": {
   "base_numbering": 1,
   "nav_menu": {},
   "number_sections": true,
   "sideBar": true,
   "skip_h1_title": false,
   "title_cell": "Table of Contents",
   "title_sidebar": "Contents",
   "toc_cell": false,
   "toc_position": {},
   "toc_section_display": true,
   "toc_window_display": false
  }
 },
 "nbformat": 4,
 "nbformat_minor": 5
}
