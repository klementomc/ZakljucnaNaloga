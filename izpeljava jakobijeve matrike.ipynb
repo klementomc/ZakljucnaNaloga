{
 "cells": [
  {
   "cell_type": "code",
   "execution_count": 1,
   "metadata": {},
   "outputs": [],
   "source": [
    "from sympy import lambdify\n",
    "import numpy as np\n",
    "import symengine as sym\n",
    "import time\n",
    "from sympy import nsimplify\n",
    "\n",
    "\n",
    "zacetek1 = time.time()\n",
    "theta1, theta2, theta3, theta4, theta5, theta6, theta7 = sym.symbols('theta1,theta2,theta3,theta4,theta5,theta6,theta7')\n",
    "\n",
    "\n",
    "class Joint:\n",
    "    def __init__(self, a, d, alpha):\n",
    "        self.a = a\n",
    "        self.d = d\n",
    "        self.alpha = alpha\n",
    "\n",
    "\n",
    "joint1 = Joint(0, 0.333, 0)\n",
    "joint2 = Joint(0, 0, -np.pi/2)\n",
    "joint3 = Joint(0, 0.316, np.pi/2)\n",
    "joint4 = Joint(0.0825, 0, np.pi/2)\n",
    "joint5 = Joint(-0.0825, 0.384, -np.pi/2)\n",
    "joint6 = Joint(0, 0, np.pi/2)\n",
    "joint7 = Joint(0.088, 0, np.pi/2)\n",
    "Flange = Joint(0, 0.107, 0)\n",
    "\n",
    "\n",
    "def DH(theta, alpha, d, a):\n",
    "    st = sym.sin(theta)\n",
    "    ct = sym.cos(theta)\n",
    "    sa = sym.sin(alpha)\n",
    "    ca = sym.cos(alpha)\n",
    "\n",
    "    matrika = sym.Matrix([[ct, -st*ca, st*sa, a*ct],\n",
    "                          [st, ct*ca, -ct*sa, a*st],\n",
    "                          [0, sa, ca, d],\n",
    "                          [0, 0, 0, 1]])\n",
    "\n",
    "    return matrika\n",
    "\n",
    "\n",
    "T01 = DH(theta1, joint1.alpha, joint1.d, joint1.a)\n",
    "T12 = DH(theta2, joint2.alpha, joint2.d, joint2.a)\n",
    "T23 = DH(theta3, joint3.alpha, joint3.d, joint3.a)\n",
    "T34 = DH(theta4, joint4.alpha, joint4.d, joint4.a)\n",
    "T45 = DH(theta5, joint5.alpha, joint5.d, joint5.a)\n",
    "T56 = DH(theta6, joint6.alpha, joint6.d, joint6.a)\n",
    "T67 = DH(theta7, joint7.alpha, joint7.d, joint7.a)\n",
    "\n",
    "T0F = T01*T12*T23*T34*T45*T56*T67\n",
    "\n",
    "x,y,z = T0F[:-1,3:]\n",
    "\n",
    "#parcialni odvodi x,y,z po spremenljivkah theta\n",
    "\n",
    "seznam_theta = [theta1, theta2, theta3, theta4, theta5, theta6, theta7]\n",
    "\n",
    "odvodi_x =[]\n",
    "odvodi_y =[]\n",
    "odvodi_z =[]\n",
    "\n",
    "for i in range(len(seznam_theta)):\n",
    "    odvod = sym.diff(x,seznam_theta[i])\n",
    "    odvodi_x.append(odvod)\n",
    "\n",
    "for i in range(len(seznam_theta)):\n",
    "    odvod = sym.diff(y,seznam_theta[i])\n",
    "    odvodi_y.append(odvod)\n",
    "\n",
    "for i in range(len(seznam_theta)):\n",
    "    odvod = sym.diff(z,seznam_theta[i])\n",
    "    odvodi_z.append(odvod)\n"
   ]
  },
  {
   "cell_type": "code",
   "execution_count": 2,
   "metadata": {},
   "outputs": [],
   "source": [
    "from sympy import lambdify\n",
    "import numpy as np\n",
    "import symengine as sym\n",
    "import time\n",
    "from sympy import nsimplify\n",
    "from sympy import init_printing\n",
    "init_printing()"
   ]
  },
  {
   "cell_type": "code",
   "execution_count": 3,
   "metadata": {},
   "outputs": [],
   "source": [
    "class Joint:\n",
    "    def __init__(self, a, d, alpha):\n",
    "        self.a = a\n",
    "        self.d = d\n",
    "        self.alpha = alpha\n",
    "\n",
    "\n",
    "joint1 = Joint(0, 0.333, 0)\n",
    "joint2 = Joint(0, 0, -np.pi/2)\n",
    "joint3 = Joint(0, 0.316, np.pi/2)\n",
    "joint4 = Joint(0.0825, 0, np.pi/2)\n",
    "joint5 = Joint(-0.0825, 0.384, -np.pi/2)\n",
    "joint6 = Joint(0, 0, np.pi/2)\n",
    "joint7 = Joint(0.088, 0, np.pi/2)\n",
    "Flange = Joint(0, 0.107, 0)"
   ]
  },
  {
   "cell_type": "code",
   "execution_count": 4,
   "metadata": {},
   "outputs": [],
   "source": [
    "def DH(theta, alpha, d, a):\n",
    "    st = sym.sin(theta)\n",
    "    ct = sym.cos(theta)\n",
    "    sa = sym.sin(alpha)\n",
    "    ca = sym.cos(alpha)\n",
    "\n",
    "    matrika = sym.Matrix([[ct, -st*ca, st*sa, a*ct],\n",
    "                          [st, ct*ca, -ct*sa, a*st],\n",
    "                          [0, sa, ca, d],\n",
    "                          [0, 0, 0, 1]])\n",
    "\n",
    "    return matrika"
   ]
  },
  {
   "cell_type": "code",
   "execution_count": null,
   "metadata": {},
   "outputs": [],
   "source": []
  },
  {
   "cell_type": "code",
   "execution_count": 5,
   "metadata": {},
   "outputs": [],
   "source": [
    "theta1, theta2, theta3, theta4, theta5, theta6, theta7 = sym.symbols('theta1,theta2,theta3,theta4,theta5,theta6,theta7')\n",
    "\n",
    "T01 = DH(theta1, joint1.alpha, joint1.d, joint1.a)\n",
    "T12 = DH(theta2, joint2.alpha, joint2.d, joint2.a)\n",
    "T23 = DH(theta3, joint3.alpha, joint3.d, joint3.a)\n",
    "T34 = DH(theta4, joint4.alpha, joint4.d, joint4.a)\n",
    "T45 = DH(theta5, joint5.alpha, joint5.d, joint5.a)\n",
    "T56 = DH(theta6, joint6.alpha, joint6.d, joint6.a)\n",
    "T67 = DH(theta7, joint7.alpha, joint7.d, joint7.a)\n",
    "\n",
    "T0F = T01@(T12@(T23@(T34@(T45@(T56@(T67))))))\n",
    "\n",
    "x,y,z = T0F[:-1,3:]\n",
    "\n",
    "#parcialni odvodi x,y,z po spremenljivkah theta\n",
    "\n",
    "seznam_theta = [theta1, theta2, theta3, theta4, theta5, theta6, theta7]\n",
    "\n",
    "odvodi_x =[]\n",
    "odvodi_y =[]\n",
    "odvodi_z =[]\n",
    "\n",
    "for i in range(len(seznam_theta)):\n",
    "    odvod = sym.diff(x,seznam_theta[i])\n",
    "    odvodi_x.append(odvod)\n",
    "\n",
    "for i in range(len(seznam_theta)):\n",
    "    odvod = sym.diff(y,seznam_theta[i])\n",
    "    odvodi_y.append(odvod)\n",
    "\n",
    "for i in range(len(seznam_theta)):\n",
    "    odvod = sym.diff(z,seznam_theta[i])\n",
    "    odvodi_z.append(odvod)"
   ]
  },
  {
   "cell_type": "code",
   "execution_count": 6,
   "metadata": {
    "scrolled": false
   },
   "outputs": [],
   "source": [
    "odvodi_x_poenostavljeni=nsimplify(np.array(odvodi_x),tolerance=1e-15)\n",
    "#str(odvodi_x_poenostavljeni)\n"
   ]
  },
  {
   "cell_type": "code",
   "execution_count": 7,
   "metadata": {},
   "outputs": [],
   "source": [
    "x=str(odvodi_x_poenostavljeni).replace(\"sin\",\"np.sin\")"
   ]
  },
  {
   "cell_type": "code",
   "execution_count": 8,
   "metadata": {},
   "outputs": [],
   "source": [
    "y = x.replace(\"cos\",\"np.cos\")"
   ]
  },
  {
   "cell_type": "code",
   "execution_count": null,
   "metadata": {
    "scrolled": false
   },
   "outputs": [],
   "source": []
  },
  {
   "cell_type": "code",
   "execution_count": 9,
   "metadata": {},
   "outputs": [],
   "source": [
    "def funkcija(theta1, theta2, theta3, theta4, theta5, theta6, theta7):\n",
    "    return [87999999999997*((((np.sin(theta1)*np.sin(theta2) - np.cos(theta1)*np.cos(theta2))*np.sin(theta4) + (-np.sin(theta1)*np.cos(theta2) - np.sin(theta2)*np.cos(theta1))*np.cos(theta3)*np.cos(theta4))*np.cos(theta5) + (-np.sin(theta1)*np.cos(theta2) - np.sin(theta2)*np.cos(theta1))*np.sin(theta3)*np.sin(theta5))*np.cos(theta6) + ((np.sin(theta1)*np.sin(theta2) - np.cos(theta1)*np.cos(theta2))*np.cos(theta4) - (-np.sin(theta1)*np.cos(theta2) - np.sin(theta2)*np.cos(theta1))*np.sin(theta4)*np.cos(theta3))*np.sin(theta6))*np.cos(theta7)/999999999999966 + 87999999999997*(-((np.sin(theta1)*np.sin(theta2) - np.cos(theta1)*np.cos(theta2))*np.sin(theta4) + (-np.sin(theta1)*np.cos(theta2) - np.sin(theta2)*np.cos(theta1))*np.cos(theta3)*np.cos(theta4))*np.sin(theta5) + (-np.sin(theta1)*np.cos(theta2) - np.sin(theta2)*np.cos(theta1))*np.sin(theta3)*np.cos(theta5))*np.sin(theta7)/999999999999966 - 53078138465443*((np.sin(theta1)*np.sin(theta2) - np.cos(theta1)*np.cos(theta2))*np.sin(theta4) + (-np.sin(theta1)*np.cos(theta2) - np.sin(theta2)*np.cos(theta1))*np.cos(theta3)*np.cos(theta4))*np.cos(theta5)/643371375338703 + 53078138465443*(np.sin(theta1)*np.sin(theta2) - np.cos(theta1)*np.cos(theta2))*np.sin(theta4)/643371375338703 - 383999999999957*(np.sin(theta1)*np.sin(theta2) - np.cos(theta1)*np.cos(theta2))*np.cos(theta4)/999999999999888 - 53078138465443*(-np.sin(theta1)*np.cos(theta2) - np.sin(theta2)*np.cos(theta1))*np.sin(theta3)*np.sin(theta5)/643371375338703 + 383999999999957*(-np.sin(theta1)*np.cos(theta2) - np.sin(theta2)*np.cos(theta1))*np.sin(theta4)*np.cos(theta3)/999999999999888 + 53078138465443*(-np.sin(theta1)*np.cos(theta2) - np.sin(theta2)*np.cos(theta1))*np.cos(theta3)*np.cos(theta4)/643371375338703 + 315999999999994*np.sin(theta1)*np.sin(theta2)/999999999999981 - 315999999999994*np.cos(theta1)*np.cos(theta2)/999999999999981, 87999999999997*((((np.sin(theta1)*np.sin(theta2) - np.cos(theta1)*np.cos(theta2))*np.sin(theta4) + (-np.sin(theta1)*np.cos(theta2) - np.sin(theta2)*np.cos(theta1))*np.cos(theta3)*np.cos(theta4))*np.cos(theta5) + (-np.sin(theta1)*np.cos(theta2) - np.sin(theta2)*np.cos(theta1))*np.sin(theta3)*np.sin(theta5))*np.cos(theta6) + ((np.sin(theta1)*np.sin(theta2) - np.cos(theta1)*np.cos(theta2))*np.cos(theta4) - (-np.sin(theta1)*np.cos(theta2) - np.sin(theta2)*np.cos(theta1))*np.sin(theta4)*np.cos(theta3))*np.sin(theta6))*np.cos(theta7)/999999999999966 + 87999999999997*(-((np.sin(theta1)*np.sin(theta2) - np.cos(theta1)*np.cos(theta2))*np.sin(theta4) + (-np.sin(theta1)*np.cos(theta2) - np.sin(theta2)*np.cos(theta1))*np.cos(theta3)*np.cos(theta4))*np.sin(theta5) + (-np.sin(theta1)*np.cos(theta2) - np.sin(theta2)*np.cos(theta1))*np.sin(theta3)*np.cos(theta5))*np.sin(theta7)/999999999999966 - 53078138465443*((np.sin(theta1)*np.sin(theta2) - np.cos(theta1)*np.cos(theta2))*np.sin(theta4) + (-np.sin(theta1)*np.cos(theta2) - np.sin(theta2)*np.cos(theta1))*np.cos(theta3)*np.cos(theta4))*np.cos(theta5)/643371375338703 + 53078138465443*(np.sin(theta1)*np.sin(theta2) - np.cos(theta1)*np.cos(theta2))*np.sin(theta4)/643371375338703 - 383999999999957*(np.sin(theta1)*np.sin(theta2) - np.cos(theta1)*np.cos(theta2))*np.cos(theta4)/999999999999888 - 53078138465443*(-np.sin(theta1)*np.cos(theta2) - np.sin(theta2)*np.cos(theta1))*np.sin(theta3)*np.sin(theta5)/643371375338703 + 383999999999957*(-np.sin(theta1)*np.cos(theta2) - np.sin(theta2)*np.cos(theta1))*np.sin(theta4)*np.cos(theta3)/999999999999888 + 53078138465443*(-np.sin(theta1)*np.cos(theta2) - np.sin(theta2)*np.cos(theta1))*np.cos(theta3)*np.cos(theta4)/643371375338703 + 315999999999994*np.sin(theta1)*np.sin(theta2)/999999999999981 - 315999999999994*np.cos(theta1)*np.cos(theta2)/999999999999981, -383999999999957*(-np.sin(theta1)*np.sin(theta2) + np.cos(theta1)*np.cos(theta2))*np.sin(theta3)*np.sin(theta4)/999999999999888 + 53078138465443*(-np.sin(theta1)*np.sin(theta2) + np.cos(theta1)*np.cos(theta2))*np.sin(theta3)*np.cos(theta4)*np.cos(theta5)/643371375338703 - 53078138465443*(-np.sin(theta1)*np.sin(theta2) + np.cos(theta1)*np.cos(theta2))*np.sin(theta3)*np.cos(theta4)/643371375338703 - 53078138465443*(-np.sin(theta1)*np.sin(theta2) + np.cos(theta1)*np.cos(theta2))*np.sin(theta5)*np.cos(theta3)/643371375338703 + 87999999999997*((-np.sin(theta1)*np.sin(theta2) + np.cos(theta1)*np.cos(theta2))*np.sin(theta3)*np.sin(theta4)*np.sin(theta6) + (-(-np.sin(theta1)*np.sin(theta2) + np.cos(theta1)*np.cos(theta2))*np.sin(theta3)*np.cos(theta4)*np.cos(theta5) + (-np.sin(theta1)*np.sin(theta2) + np.cos(theta1)*np.cos(theta2))*np.sin(theta5)*np.cos(theta3))*np.cos(theta6))*np.cos(theta7)/999999999999966 + 87999999999997*((-np.sin(theta1)*np.sin(theta2) + np.cos(theta1)*np.cos(theta2))*np.sin(theta3)*np.sin(theta5)*np.cos(theta4) + (-np.sin(theta1)*np.sin(theta2) + np.cos(theta1)*np.cos(theta2))*np.cos(theta3)*np.cos(theta5))*np.sin(theta7)/999999999999966, -53078138465443*(-np.sin(theta1)*np.sin(theta2) + np.cos(theta1)*np.cos(theta2))*np.sin(theta4)*np.cos(theta3)/643371375338703 + 383999999999957*(-np.sin(theta1)*np.sin(theta2) + np.cos(theta1)*np.cos(theta2))*np.cos(theta3)*np.cos(theta4)/999999999999888 + 383999999999957*(-np.sin(theta1)*np.cos(theta2) - np.sin(theta2)*np.cos(theta1))*np.sin(theta4)/999999999999888 + 53078138465443*(-np.sin(theta1)*np.cos(theta2) - np.sin(theta2)*np.cos(theta1))*np.cos(theta4)/643371375338703 - 87999999999997*(-(-np.sin(theta1)*np.sin(theta2) + np.cos(theta1)*np.cos(theta2))*np.sin(theta4)*np.cos(theta3) + (-np.sin(theta1)*np.cos(theta2) - np.sin(theta2)*np.cos(theta1))*np.cos(theta4))*np.sin(theta5)*np.sin(theta7)/999999999999966 - 53078138465443*(-(-np.sin(theta1)*np.sin(theta2) + np.cos(theta1)*np.cos(theta2))*np.sin(theta4)*np.cos(theta3) + (-np.sin(theta1)*np.cos(theta2) - np.sin(theta2)*np.cos(theta1))*np.cos(theta4))*np.cos(theta5)/643371375338703 + 87999999999997*((-(-np.sin(theta1)*np.sin(theta2) + np.cos(theta1)*np.cos(theta2))*np.sin(theta4)*np.cos(theta3) + (-np.sin(theta1)*np.cos(theta2) - np.sin(theta2)*np.cos(theta1))*np.cos(theta4))*np.cos(theta5)*np.cos(theta6) + (-(-np.sin(theta1)*np.sin(theta2) + np.cos(theta1)*np.cos(theta2))*np.cos(theta3)*np.cos(theta4) - (-np.sin(theta1)*np.cos(theta2) - np.sin(theta2)*np.cos(theta1))*np.sin(theta4))*np.sin(theta6))*np.cos(theta7)/999999999999966, -53078138465443*(-np.sin(theta1)*np.sin(theta2) + np.cos(theta1)*np.cos(theta2))*np.sin(theta3)*np.cos(theta5)/643371375338703 + 87999999999997*(-(-np.sin(theta1)*np.sin(theta2) + np.cos(theta1)*np.cos(theta2))*np.sin(theta3)*np.sin(theta5) - ((-np.sin(theta1)*np.sin(theta2) + np.cos(theta1)*np.cos(theta2))*np.cos(theta3)*np.cos(theta4) + (-np.sin(theta1)*np.cos(theta2) - np.sin(theta2)*np.cos(theta1))*np.sin(theta4))*np.cos(theta5))*np.sin(theta7)/999999999999966 + 87999999999997*((-np.sin(theta1)*np.sin(theta2) + np.cos(theta1)*np.cos(theta2))*np.sin(theta3)*np.cos(theta5) - ((-np.sin(theta1)*np.sin(theta2) + np.cos(theta1)*np.cos(theta2))*np.cos(theta3)*np.cos(theta4) + (-np.sin(theta1)*np.cos(theta2) - np.sin(theta2)*np.cos(theta1))*np.sin(theta4))*np.sin(theta5))*np.cos(theta6)*np.cos(theta7)/999999999999966 + 53078138465443*((-np.sin(theta1)*np.sin(theta2) + np.cos(theta1)*np.cos(theta2))*np.cos(theta3)*np.cos(theta4) + (-np.sin(theta1)*np.cos(theta2) - np.sin(theta2)*np.cos(theta1))*np.sin(theta4))*np.sin(theta5)/643371375338703, 87999999999997*(-((-np.sin(theta1)*np.sin(theta2) + np.cos(theta1)*np.cos(theta2))*np.sin(theta3)*np.sin(theta5) + ((-np.sin(theta1)*np.sin(theta2) + np.cos(theta1)*np.cos(theta2))*np.cos(theta3)*np.cos(theta4) + (-np.sin(theta1)*np.cos(theta2) - np.sin(theta2)*np.cos(theta1))*np.sin(theta4))*np.cos(theta5))*np.sin(theta6) + (-(-np.sin(theta1)*np.sin(theta2) + np.cos(theta1)*np.cos(theta2))*np.sin(theta4)*np.cos(theta3) + (-np.sin(theta1)*np.cos(theta2) - np.sin(theta2)*np.cos(theta1))*np.cos(theta4))*np.cos(theta6))*np.cos(theta7)/999999999999966, -87999999999997*(((-np.sin(theta1)*np.sin(theta2) + np.cos(theta1)*np.cos(theta2))*np.sin(theta3)*np.sin(theta5) + ((-np.sin(theta1)*np.sin(theta2) + np.cos(theta1)*np.cos(theta2))*np.cos(theta3)*np.cos(theta4) + (-np.sin(theta1)*np.cos(theta2) - np.sin(theta2)*np.cos(theta1))*np.sin(theta4))*np.cos(theta5))*np.cos(theta6) + (-(-np.sin(theta1)*np.sin(theta2) + np.cos(theta1)*np.cos(theta2))*np.sin(theta4)*np.cos(theta3) + (-np.sin(theta1)*np.cos(theta2) - np.sin(theta2)*np.cos(theta1))*np.cos(theta4))*np.sin(theta6))*np.sin(theta7)/999999999999966 + 87999999999997*((-np.sin(theta1)*np.sin(theta2) + np.cos(theta1)*np.cos(theta2))*np.sin(theta3)*np.cos(theta5) - ((-np.sin(theta1)*np.sin(theta2) + np.cos(theta1)*np.cos(theta2))*np.cos(theta3)*np.cos(theta4) + (-np.sin(theta1)*np.cos(theta2) - np.sin(theta2)*np.cos(theta1))*np.sin(theta4))*np.sin(theta5))*np.cos(theta7)/999999999999966]"
   ]
  },
  {
   "cell_type": "code",
   "execution_count": 10,
   "metadata": {},
   "outputs": [
    {
     "name": "stdout",
     "output_type": "stream",
     "text": [
      "0.0\n",
      "[-0.08297742076363793, -0.08297742076363793, 0.1011263484057842, -0.3018196643120085, 0.025656639091594907, 0.023194819613816045, 0.0762566470872541]\n"
     ]
    }
   ],
   "source": [
    "t1 = time.time()\n",
    "a=funkcija(1,1,1,1,1,1,1)\n",
    "t2 = time.time()\n",
    "print(t2-t1)\n",
    "print(a)"
   ]
  },
  {
   "cell_type": "code",
   "execution_count": 11,
   "metadata": {},
   "outputs": [
    {
     "name": "stdout",
     "output_type": "stream",
     "text": [
      "0.0010035037994384766\n",
      "[-0.08297742076363793, -0.08297742076363793, 0.1011263484057842, -0.3018196643120085, 0.025656639091594907, 0.023194819613816045, 0.0762566470872541]\n"
     ]
    }
   ],
   "source": [
    "t1 = time.time()\n",
    "a=funkcija(1,1,1,1,1,1,1)\n",
    "t2 = time.time()\n",
    "print(t2-t1)\n",
    "print(a)"
   ]
  },
  {
   "cell_type": "code",
   "execution_count": 12,
   "metadata": {},
   "outputs": [
    {
     "name": "stdout",
     "output_type": "stream",
     "text": [
      "0.6129562854766846\n",
      "[-0.08297742076363787, -0.08297742076363787, 0.1011263484057842, -0.30181966431200846, 0.02565663909159494, 0.02319481961381604, 0.07625664708725408]\n"
     ]
    }
   ],
   "source": [
    "t1 = time.time()\n",
    "simboli = [theta1, theta2, theta3, theta4, theta5, theta6, theta7]\n",
    "transformacija_numpy = lambdify(simboli,odvodi_x, modules=\"numpy\")\n",
    "vrednost=transformacija_numpy(1,1,1,1,1,1,1)\n",
    "t2 = time.time()\n",
    "print(t2-t1)\n",
    "print(vrednost)"
   ]
  },
  {
   "cell_type": "code",
   "execution_count": 13,
   "metadata": {
    "scrolled": true
   },
   "outputs": [
    {
     "name": "stdout",
     "output_type": "stream",
     "text": [
      "0.4619879722595215\n",
      "[-0.08297742076363787, -0.08297742076363787, 0.1011263484057842, -0.30181966431200846, 0.02565663909159494, 0.02319481961381604, 0.07625664708725408]\n"
     ]
    }
   ],
   "source": [
    "t1 = time.time()\n",
    "simboli = [theta1, theta2, theta3, theta4, theta5, theta6, theta7]\n",
    "transformacija_numpy = lambdify(simboli,odvodi_x, modules=\"numpy\")\n",
    "vrednost=transformacija_numpy(1,1,1,1,1,1,1)\n",
    "t2 = time.time()\n",
    "print(t2-t1)\n",
    "print(vrednost)"
   ]
  },
  {
   "cell_type": "markdown",
   "metadata": {},
   "source": [
    "# Izpeljava jakobijeve matrike"
   ]
  },
  {
   "cell_type": "code",
   "execution_count": 1,
   "metadata": {},
   "outputs": [],
   "source": [
    "from sympy import lambdify\n",
    "import numpy as np\n",
    "import symengine as sym\n",
    "import time\n",
    "from sympy import nsimplify\n",
    "\n",
    "\n",
    "zacetek1 = time.time()\n",
    "theta1, theta2, theta3, theta4, theta5, theta6, theta7 = sym.symbols('theta1,theta2,theta3,theta4,theta5,theta6,theta7')\n",
    "\n",
    "\n",
    "class Joint:\n",
    "    def __init__(self, a, d, alpha):\n",
    "        self.a = a\n",
    "        self.d = d\n",
    "        self.alpha = alpha\n",
    "\n",
    "\n",
    "joint1 = Joint(0, 0.333, 0)\n",
    "joint2 = Joint(0, 0, -np.pi/2)\n",
    "joint3 = Joint(0, 0.316, np.pi/2)\n",
    "joint4 = Joint(0.0825, 0, np.pi/2)\n",
    "joint5 = Joint(-0.0825, 0.384, -np.pi/2)\n",
    "joint6 = Joint(0, 0, np.pi/2)\n",
    "joint7 = Joint(0.088, 0, np.pi/2)\n",
    "Flange = Joint(0, 0.107, 0)\n",
    "\n",
    "\n",
    "def DH(theta, alpha, d, a):\n",
    "    st = sym.sin(theta)\n",
    "    ct = sym.cos(theta)\n",
    "    sa = sym.sin(alpha)\n",
    "    ca = sym.cos(alpha)\n",
    "#spremeni to matriko \n",
    "    matrika = sym.Matrix([[ct, -st, 0, a],\n",
    "                          [st*ca, ct*ca, -sa, -d*sa],\n",
    "                          [st*sa, ct*sa, ca, d*ca],\n",
    "                          [0, 0, 0, 1]])\n",
    "\n",
    "    return matrika\n",
    "\n",
    "\n",
    "T01 = DH(theta1, joint1.alpha, joint1.d, joint1.a)\n",
    "T12 = DH(theta2, joint2.alpha, joint2.d, joint2.a)\n",
    "T23 = DH(theta3, joint3.alpha, joint3.d, joint3.a)\n",
    "T34 = DH(theta4, joint4.alpha, joint4.d, joint4.a)\n",
    "T45 = DH(theta5, joint5.alpha, joint5.d, joint5.a)\n",
    "T56 = DH(theta6, joint6.alpha, joint6.d, joint6.a)\n",
    "T67 = DH(theta7, joint7.alpha, joint7.d, joint7.a)\n",
    "\n",
    "T0F = T01*T12*T23*T34*T45*T56*T67\n",
    "\n",
    "x,y,z = T0F[:-1,3:]\n",
    "\n",
    "#parcialni odvodi x,y,z po spremenljivkah theta\n",
    "\n",
    "seznam_theta = [theta1, theta2, theta3, theta4, theta5, theta6, theta7]\n",
    "\n",
    "odvodi_x =[]\n",
    "odvodi_y =[]\n",
    "odvodi_z =[]\n",
    "\n",
    "for i in range(len(seznam_theta)):\n",
    "    odvod = sym.diff(x,seznam_theta[i])\n",
    "    odvodi_x.append(odvod)\n",
    "\n",
    "for i in range(len(seznam_theta)):\n",
    "    odvod = sym.diff(y,seznam_theta[i])\n",
    "    odvodi_y.append(odvod)\n",
    "\n",
    "for i in range(len(seznam_theta)):\n",
    "    odvod = sym.diff(z,seznam_theta[i])\n",
    "    odvodi_z.append(odvod)\n",
    "\n",
    "posamezne_transformacije = [T01,T12,T23,T34,T45,T56,T67]\n",
    "\n",
    "kinematicna_veriga = []\n",
    "\n",
    "for i in range(len(posamezne_transformacije)):\n",
    "    if i==0:\n",
    "        kinematicna_veriga.append(posamezne_transformacije[i])\n",
    "            \n",
    "    else:\n",
    "        veriga = kinematicna_veriga[i-1]*posamezne_transformacije[i]\n",
    "        kinematicna_veriga.append(veriga)\n",
    "\n",
    "\n",
    "#rotacija okoli z [:-1,2:-1][:]\n",
    "#rotacija okoli y [:-1,1:-2][:]\n",
    "#rotacija okoli x [:-1,:-3][:]\n",
    "\n",
    "omega1 = kinematicna_veriga[0][:-1,2:-1][:] \n",
    "omega2 = kinematicna_veriga[1][:-1,2:-1][:]\n",
    "omega3 = kinematicna_veriga[2][:-1,2:-1][:]\n",
    "omega4 = kinematicna_veriga[3][:-1,2:-1][:]\n",
    "omega5 = kinematicna_veriga[4][:-1,2:-1][:]\n",
    "omega6 = kinematicna_veriga[5][:-1,2:-1][:]\n",
    "omega7 = kinematicna_veriga[6][:-1,2:-1][:]\n",
    "\n",
    "\n",
    "omega = [omega1,omega2, omega3, omega4, omega5, omega6, omega7]\n",
    "\n",
    "\n",
    "\n",
    "\n",
    "#Jakobijeva matrika\n",
    "tabela_rotacij_x = []\n",
    "tabela_rotacij_y = []\n",
    "tabela_rotacij_z = []\n",
    "\n",
    "for i in range(len(omega)):\n",
    "\n",
    "    j = 0\n",
    "    x = omega[i][j]\n",
    "    y = omega[i][j+1]\n",
    "    z = omega[i][j+2]\n",
    "\n",
    "    tabela_rotacij_x.append(x)\n",
    "    tabela_rotacij_y.append(y)\n",
    "    tabela_rotacij_z.append(z)\n",
    "\n",
    "J=sym.Matrix([odvodi_x, odvodi_y, odvodi_z, tabela_rotacij_x, tabela_rotacij_y, tabela_rotacij_z])\n",
    "Poesnostavljen_J = nsimplify(J, tolerance=1e-15)\n"
   ]
  },
  {
   "cell_type": "code",
   "execution_count": 7,
   "metadata": {},
   "outputs": [],
   "source": [
    "from ipywidgets import interact"
   ]
  },
  {
   "cell_type": "code",
   "execution_count": 11,
   "metadata": {},
   "outputs": [
    {
     "ename": "SyntaxError",
     "evalue": "unexpected EOF while parsing (Temp/ipykernel_20876/2706756811.py, line 11)",
     "output_type": "error",
     "traceback": [
      "\u001b[1;36m  File \u001b[1;32m\"C:\\Users\\UPORAB~1\\AppData\\Local\\Temp/ipykernel_20876/2706756811.py\"\u001b[1;36m, line \u001b[1;32m11\u001b[0m\n\u001b[1;33m    \u001b[0m\n\u001b[1;37m    ^\u001b[0m\n\u001b[1;31mSyntaxError\u001b[0m\u001b[1;31m:\u001b[0m unexpected EOF while parsing\n"
     ]
    }
   ],
   "source": [
    "#interaktivno spreminjanje vrha robota \n",
    "#naredi kinematično verigo\n",
    "#iz matrike izrezi  iz zadnje vrstice prve tri elemente x,y,z\n",
    "#plotej jih v 3d prostor in poveži črte\n",
    "def interact(theta1, theta2, theta3, theta4, theta5, theta6, theta7):\n",
    "    \n",
    "\n",
    "\n",
    "    \n",
    "    \n",
    "\n",
    "    "
   ]
  },
  {
   "cell_type": "markdown",
   "metadata": {},
   "source": [
    "## izraz jakobija\n"
   ]
  },
  {
   "cell_type": "code",
   "execution_count": 2,
   "metadata": {
    "scrolled": false
   },
   "outputs": [
    {
     "data": {
      "text/plain": [
       "'np.array([[87999999999997*(((-np.sin(theta1)*np.cos(theta2)*np.cos(theta3) - np.sin(theta3)*np.cos(theta1))*np.cos(theta4) - np.sin(theta1)*np.sin(theta2)*np.sin(theta4))*np.cos(theta5) - (-np.sin(theta1)*np.sin(theta3)*np.cos(theta2) + np.cos(theta1)*np.cos(theta3))*np.sin(theta5))*np.cos(theta6)/999999999999966 + 87999999999997*(-(-np.sin(theta1)*np.cos(theta2)*np.cos(theta3) - np.sin(theta3)*np.cos(theta1))*np.sin(theta4) - np.sin(theta1)*np.sin(theta2)*np.cos(theta4))*np.sin(theta6)/999999999999966 - 383999999999957*(-np.sin(theta1)*np.cos(theta2)*np.cos(theta3) - np.sin(theta3)*np.cos(theta1))*np.sin(theta4)/999999999999888 - 53078138465443*(-np.sin(theta1)*np.cos(theta2)*np.cos(theta3) - np.sin(theta3)*np.cos(theta1))*np.cos(theta4)/643371375338703 + 53078138465443*np.sin(theta1)*np.sin(theta2)*np.sin(theta4)/643371375338703 - 383999999999957*np.sin(theta1)*np.sin(theta2)*np.cos(theta4)/999999999999888 - 315999999999994*np.sin(theta1)*np.sin(theta2)/999999999999981 - 53078138465443*np.sin(theta1)*np.cos(theta2)*np.cos(theta3)/643371375338703 - 53078138465443*np.sin(theta3)*np.cos(theta1)/643371375338703, 87999999999997*((-np.sin(theta2)*np.cos(theta1)*np.cos(theta3)*np.cos(theta4) + np.sin(theta4)*np.cos(theta1)*np.cos(theta2))*np.cos(theta5) + np.sin(theta2)*np.sin(theta3)*np.sin(theta5)*np.cos(theta1))*np.cos(theta6)/999999999999966 + 87999999999997*(np.sin(theta2)*np.sin(theta4)*np.cos(theta1)*np.cos(theta3) + np.cos(theta1)*np.cos(theta2)*np.cos(theta4))*np.sin(theta6)/999999999999966 + 383999999999957*np.sin(theta2)*np.sin(theta4)*np.cos(theta1)*np.cos(theta3)/999999999999888 + 53078138465443*np.sin(theta2)*np.cos(theta1)*np.cos(theta3)*np.cos(theta4)/643371375338703 - 53078138465443*np.sin(theta2)*np.cos(theta1)*np.cos(theta3)/643371375338703 - 53078138465443*np.sin(theta4)*np.cos(theta1)*np.cos(theta2)/643371375338703 + 383999999999957*np.cos(theta1)*np.cos(theta2)*np.cos(theta4)/999999999999888 + 315999999999994*np.cos(theta1)*np.cos(theta2)/999999999999981, 87999999999997*(-(-np.sin(theta1)*np.sin(theta3) + np.cos(theta1)*np.cos(theta2)*np.cos(theta3))*np.sin(theta5) + (-np.sin(theta1)*np.cos(theta3) - np.sin(theta3)*np.cos(theta1)*np.cos(theta2))*np.cos(theta4)*np.cos(theta5))*np.cos(theta6)/999999999999966 - 87999999999997*(-np.sin(theta1)*np.cos(theta3) - np.sin(theta3)*np.cos(theta1)*np.cos(theta2))*np.sin(theta4)*np.sin(theta6)/999999999999966 - 383999999999957*(-np.sin(theta1)*np.cos(theta3) - np.sin(theta3)*np.cos(theta1)*np.cos(theta2))*np.sin(theta4)/999999999999888 - 53078138465443*(-np.sin(theta1)*np.cos(theta3) - np.sin(theta3)*np.cos(theta1)*np.cos(theta2))*np.cos(theta4)/643371375338703 - 53078138465443*np.sin(theta1)*np.cos(theta3)/643371375338703 - 53078138465443*np.sin(theta3)*np.cos(theta1)*np.cos(theta2)/643371375338703, 87999999999997*(-(-np.sin(theta1)*np.sin(theta3) + np.cos(theta1)*np.cos(theta2)*np.cos(theta3))*np.sin(theta4) + np.sin(theta2)*np.cos(theta1)*np.cos(theta4))*np.cos(theta5)*np.cos(theta6)/999999999999966 + 87999999999997*(-(-np.sin(theta1)*np.sin(theta3) + np.cos(theta1)*np.cos(theta2)*np.cos(theta3))*np.cos(theta4) - np.sin(theta2)*np.sin(theta4)*np.cos(theta1))*np.sin(theta6)/999999999999966 + 53078138465443*(-np.sin(theta1)*np.sin(theta3) + np.cos(theta1)*np.cos(theta2)*np.cos(theta3))*np.sin(theta4)/643371375338703 - 383999999999957*(-np.sin(theta1)*np.sin(theta3) + np.cos(theta1)*np.cos(theta2)*np.cos(theta3))*np.cos(theta4)/999999999999888 - 383999999999957*np.sin(theta2)*np.sin(theta4)*np.cos(theta1)/999999999999888 - 53078138465443*np.sin(theta2)*np.cos(theta1)*np.cos(theta4)/643371375338703, 87999999999997*(-((-np.sin(theta1)*np.sin(theta3) + np.cos(theta1)*np.cos(theta2)*np.cos(theta3))*np.cos(theta4) + np.sin(theta2)*np.sin(theta4)*np.cos(theta1))*np.sin(theta5) - (np.sin(theta1)*np.cos(theta3) + np.sin(theta3)*np.cos(theta1)*np.cos(theta2))*np.cos(theta5))*np.cos(theta6)/999999999999966, -87999999999997*(((-np.sin(theta1)*np.sin(theta3) + np.cos(theta1)*np.cos(theta2)*np.cos(theta3))*np.cos(theta4) + np.sin(theta2)*np.sin(theta4)*np.cos(theta1))*np.cos(theta5) - (np.sin(theta1)*np.cos(theta3) + np.sin(theta3)*np.cos(theta1)*np.cos(theta2))*np.sin(theta5))*np.sin(theta6)/999999999999966 + 87999999999997*(-(-np.sin(theta1)*np.sin(theta3) + np.cos(theta1)*np.cos(theta2)*np.cos(theta3))*np.sin(theta4) + np.sin(theta2)*np.cos(theta1)*np.cos(theta4))*np.cos(theta6)/999999999999966, 0], [87999999999997*(((-np.sin(theta1)*np.sin(theta3) + np.cos(theta1)*np.cos(theta2)*np.cos(theta3))*np.cos(theta4) + np.sin(theta2)*np.sin(theta4)*np.cos(theta1))*np.cos(theta5) - (np.sin(theta1)*np.cos(theta3) + np.sin(theta3)*np.cos(theta1)*np.cos(theta2))*np.sin(theta5))*np.cos(theta6)/999999999999966 + 87999999999997*(-(-np.sin(theta1)*np.sin(theta3) + np.cos(theta1)*np.cos(theta2)*np.cos(theta3))*np.sin(theta4) + np.sin(theta2)*np.cos(theta1)*np.cos(theta4))*np.sin(theta6)/999999999999966 - 383999999999957*(-np.sin(theta1)*np.sin(theta3) + np.cos(theta1)*np.cos(theta2)*np.cos(theta3))*np.sin(theta4)/999999999999888 - 53078138465443*(-np.sin(theta1)*np.sin(theta3) + np.cos(theta1)*np.cos(theta2)*np.cos(theta3))*np.cos(theta4)/643371375338703 - 53078138465443*np.sin(theta1)*np.sin(theta3)/643371375338703 - 53078138465443*np.sin(theta2)*np.sin(theta4)*np.cos(theta1)/643371375338703 + 383999999999957*np.sin(theta2)*np.cos(theta1)*np.cos(theta4)/999999999999888 + 315999999999994*np.sin(theta2)*np.cos(theta1)/999999999999981 + 53078138465443*np.cos(theta1)*np.cos(theta2)*np.cos(theta3)/643371375338703, 87999999999997*((-np.sin(theta1)*np.sin(theta2)*np.cos(theta3)*np.cos(theta4) + np.sin(theta1)*np.sin(theta4)*np.cos(theta2))*np.cos(theta5) + np.sin(theta1)*np.sin(theta2)*np.sin(theta3)*np.sin(theta5))*np.cos(theta6)/999999999999966 + 87999999999997*(np.sin(theta1)*np.sin(theta2)*np.sin(theta4)*np.cos(theta3) + np.sin(theta1)*np.cos(theta2)*np.cos(theta4))*np.sin(theta6)/999999999999966 + 383999999999957*np.sin(theta1)*np.sin(theta2)*np.sin(theta4)*np.cos(theta3)/999999999999888 + 53078138465443*np.sin(theta1)*np.sin(theta2)*np.cos(theta3)*np.cos(theta4)/643371375338703 - 53078138465443*np.sin(theta1)*np.sin(theta2)*np.cos(theta3)/643371375338703 - 53078138465443*np.sin(theta1)*np.sin(theta4)*np.cos(theta2)/643371375338703 + 383999999999957*np.sin(theta1)*np.cos(theta2)*np.cos(theta4)/999999999999888 + 315999999999994*np.sin(theta1)*np.cos(theta2)/999999999999981, 87999999999997*((-np.sin(theta1)*np.sin(theta3)*np.cos(theta2) + np.cos(theta1)*np.cos(theta3))*np.cos(theta4)*np.cos(theta5) - (np.sin(theta1)*np.cos(theta2)*np.cos(theta3) + np.sin(theta3)*np.cos(theta1))*np.sin(theta5))*np.cos(theta6)/999999999999966 - 87999999999997*(-np.sin(theta1)*np.sin(theta3)*np.cos(theta2) + np.cos(theta1)*np.cos(theta3))*np.sin(theta4)*np.sin(theta6)/999999999999966 - 383999999999957*(-np.sin(theta1)*np.sin(theta3)*np.cos(theta2) + np.cos(theta1)*np.cos(theta3))*np.sin(theta4)/999999999999888 - 53078138465443*(-np.sin(theta1)*np.sin(theta3)*np.cos(theta2) + np.cos(theta1)*np.cos(theta3))*np.cos(theta4)/643371375338703 - 53078138465443*np.sin(theta1)*np.sin(theta3)*np.cos(theta2)/643371375338703 + 53078138465443*np.cos(theta1)*np.cos(theta3)/643371375338703, 87999999999997*(-(np.sin(theta1)*np.cos(theta2)*np.cos(theta3) + np.sin(theta3)*np.cos(theta1))*np.sin(theta4) + np.sin(theta1)*np.sin(theta2)*np.cos(theta4))*np.cos(theta5)*np.cos(theta6)/999999999999966 + 87999999999997*(-(np.sin(theta1)*np.cos(theta2)*np.cos(theta3) + np.sin(theta3)*np.cos(theta1))*np.cos(theta4) - np.sin(theta1)*np.sin(theta2)*np.sin(theta4))*np.sin(theta6)/999999999999966 + 53078138465443*(np.sin(theta1)*np.cos(theta2)*np.cos(theta3) + np.sin(theta3)*np.cos(theta1))*np.sin(theta4)/643371375338703 - 383999999999957*(np.sin(theta1)*np.cos(theta2)*np.cos(theta3) + np.sin(theta3)*np.cos(theta1))*np.cos(theta4)/999999999999888 - 383999999999957*np.sin(theta1)*np.sin(theta2)*np.sin(theta4)/999999999999888 - 53078138465443*np.sin(theta1)*np.sin(theta2)*np.cos(theta4)/643371375338703, 87999999999997*(-((np.sin(theta1)*np.cos(theta2)*np.cos(theta3) + np.sin(theta3)*np.cos(theta1))*np.cos(theta4) + np.sin(theta1)*np.sin(theta2)*np.sin(theta4))*np.sin(theta5) - (np.sin(theta1)*np.sin(theta3)*np.cos(theta2) - np.cos(theta1)*np.cos(theta3))*np.cos(theta5))*np.cos(theta6)/999999999999966, -87999999999997*(((np.sin(theta1)*np.cos(theta2)*np.cos(theta3) + np.sin(theta3)*np.cos(theta1))*np.cos(theta4) + np.sin(theta1)*np.sin(theta2)*np.sin(theta4))*np.cos(theta5) - (np.sin(theta1)*np.sin(theta3)*np.cos(theta2) - np.cos(theta1)*np.cos(theta3))*np.sin(theta5))*np.sin(theta6)/999999999999966 + 87999999999997*(-(np.sin(theta1)*np.cos(theta2)*np.cos(theta3) + np.sin(theta3)*np.cos(theta1))*np.sin(theta4) + np.sin(theta1)*np.sin(theta2)*np.cos(theta4))*np.cos(theta6)/999999999999966, 0], [0, 87999999999997*((-np.sin(theta2)*np.sin(theta4) - np.cos(theta2)*np.cos(theta3)*np.cos(theta4))*np.cos(theta5) + np.sin(theta3)*np.sin(theta5)*np.cos(theta2))*np.cos(theta6)/999999999999966 + 87999999999997*(-np.sin(theta2)*np.cos(theta4) + np.sin(theta4)*np.cos(theta2)*np.cos(theta3))*np.sin(theta6)/999999999999966 + 53078138465443*np.sin(theta2)*np.sin(theta4)/643371375338703 - 383999999999957*np.sin(theta2)*np.cos(theta4)/999999999999888 - 315999999999994*np.sin(theta2)/999999999999981 + 383999999999957*np.sin(theta4)*np.cos(theta2)*np.cos(theta3)/999999999999888 + 53078138465443*np.cos(theta2)*np.cos(theta3)*np.cos(theta4)/643371375338703 - 53078138465443*np.cos(theta2)*np.cos(theta3)/643371375338703, 87999999999997*(np.sin(theta2)*np.sin(theta3)*np.cos(theta4)*np.cos(theta5) + np.sin(theta2)*np.sin(theta5)*np.cos(theta3))*np.cos(theta6)/999999999999966 - 87999999999997*np.sin(theta2)*np.sin(theta3)*np.sin(theta4)*np.sin(theta6)/999999999999966 - 383999999999957*np.sin(theta2)*np.sin(theta3)*np.sin(theta4)/999999999999888 - 53078138465443*np.sin(theta2)*np.sin(theta3)*np.cos(theta4)/643371375338703 + 53078138465443*np.sin(theta2)*np.sin(theta3)/643371375338703, 87999999999997*(np.sin(theta2)*np.sin(theta4)*np.cos(theta3) + np.cos(theta2)*np.cos(theta4))*np.cos(theta5)*np.cos(theta6)/999999999999966 + 87999999999997*(np.sin(theta2)*np.cos(theta3)*np.cos(theta4) - np.sin(theta4)*np.cos(theta2))*np.sin(theta6)/999999999999966 - 53078138465443*np.sin(theta2)*np.sin(theta4)*np.cos(theta3)/643371375338703 + 383999999999957*np.sin(theta2)*np.cos(theta3)*np.cos(theta4)/999999999999888 - 383999999999957*np.sin(theta4)*np.cos(theta2)/999999999999888 - 53078138465443*np.cos(theta2)*np.cos(theta4)/643371375338703, 87999999999997*(-(-np.sin(theta2)*np.cos(theta3)*np.cos(theta4) + np.sin(theta4)*np.cos(theta2))*np.sin(theta5) + np.sin(theta2)*np.sin(theta3)*np.cos(theta5))*np.cos(theta6)/999999999999966, -87999999999997*((-np.sin(theta2)*np.cos(theta3)*np.cos(theta4) + np.sin(theta4)*np.cos(theta2))*np.cos(theta5) + np.sin(theta2)*np.sin(theta3)*np.sin(theta5))*np.sin(theta6)/999999999999966 + 87999999999997*(np.sin(theta2)*np.sin(theta4)*np.cos(theta3) + np.cos(theta2)*np.cos(theta4))*np.cos(theta6)/999999999999966, 0], [0, -np.sin(theta1), np.sin(theta2)*np.cos(theta1), np.sin(theta1)*np.cos(theta3) + np.sin(theta3)*np.cos(theta1)*np.cos(theta2), -(-np.sin(theta1)*np.sin(theta3) + np.cos(theta1)*np.cos(theta2)*np.cos(theta3))*np.sin(theta4) + np.sin(theta2)*np.cos(theta1)*np.cos(theta4), ((-np.sin(theta1)*np.sin(theta3) + np.cos(theta1)*np.cos(theta2)*np.cos(theta3))*np.cos(theta4) + np.sin(theta2)*np.sin(theta4)*np.cos(theta1))*np.sin(theta5) + (np.sin(theta1)*np.cos(theta3) + np.sin(theta3)*np.cos(theta1)*np.cos(theta2))*np.cos(theta5), (((-np.sin(theta1)*np.sin(theta3) + np.cos(theta1)*np.cos(theta2)*np.cos(theta3))*np.cos(theta4) + np.sin(theta2)*np.sin(theta4)*np.cos(theta1))*np.cos(theta5) - (np.sin(theta1)*np.cos(theta3) + np.sin(theta3)*np.cos(theta1)*np.cos(theta2))*np.sin(theta5))*np.sin(theta6) - (-(-np.sin(theta1)*np.sin(theta3) + np.cos(theta1)*np.cos(theta2)*np.cos(theta3))*np.sin(theta4) + np.sin(theta2)*np.cos(theta1)*np.cos(theta4))*np.cos(theta6)], [0, np.cos(theta1), np.sin(theta1)*np.sin(theta2), np.sin(theta1)*np.sin(theta3)*np.cos(theta2) - np.cos(theta1)*np.cos(theta3), -(np.sin(theta1)*np.cos(theta2)*np.cos(theta3) + np.sin(theta3)*np.cos(theta1))*np.sin(theta4) + np.sin(theta1)*np.sin(theta2)*np.cos(theta4), ((np.sin(theta1)*np.cos(theta2)*np.cos(theta3) + np.sin(theta3)*np.cos(theta1))*np.cos(theta4) + np.sin(theta1)*np.sin(theta2)*np.sin(theta4))*np.sin(theta5) + (np.sin(theta1)*np.sin(theta3)*np.cos(theta2) - np.cos(theta1)*np.cos(theta3))*np.cos(theta5), (((np.sin(theta1)*np.cos(theta2)*np.cos(theta3) + np.sin(theta3)*np.cos(theta1))*np.cos(theta4) + np.sin(theta1)*np.sin(theta2)*np.sin(theta4))*np.cos(theta5) - (np.sin(theta1)*np.sin(theta3)*np.cos(theta2) - np.cos(theta1)*np.cos(theta3))*np.sin(theta5))*np.sin(theta6) - (-(np.sin(theta1)*np.cos(theta2)*np.cos(theta3) + np.sin(theta3)*np.cos(theta1))*np.sin(theta4) + np.sin(theta1)*np.sin(theta2)*np.cos(theta4))*np.cos(theta6)], [1, 0, np.cos(theta2), -np.sin(theta2)*np.sin(theta3), np.sin(theta2)*np.sin(theta4)*np.cos(theta3) + np.cos(theta2)*np.cos(theta4), (-np.sin(theta2)*np.cos(theta3)*np.cos(theta4) + np.sin(theta4)*np.cos(theta2))*np.sin(theta5) - np.sin(theta2)*np.sin(theta3)*np.cos(theta5), ((-np.sin(theta2)*np.cos(theta3)*np.cos(theta4) + np.sin(theta4)*np.cos(theta2))*np.cos(theta5) + np.sin(theta2)*np.sin(theta3)*np.sin(theta5))*np.sin(theta6) - (np.sin(theta2)*np.sin(theta4)*np.cos(theta3) + np.cos(theta2)*np.cos(theta4))*np.cos(theta6)]])'"
      ]
     },
     "execution_count": 2,
     "metadata": {},
     "output_type": "execute_result"
    }
   ],
   "source": [
    "x=str(Poesnostavljen_J).replace(\"sin\",\"np.sin\")\n",
    "y = x.replace(\"cos\",\"np.cos\")\n",
    "z = y.replace(\"Matrix\",\"np.array\")\n",
    "z"
   ]
  },
  {
   "cell_type": "code",
   "execution_count": 54,
   "metadata": {},
   "outputs": [],
   "source": [
    "def Jakobi(theta1, theta2, theta3, theta4, theta5, theta6, theta7):\n",
    "    return np.array([[87999999999997*((((np.sin(theta1)*np.sin(theta2) - np.cos(theta1)*np.cos(theta2))*np.sin(theta4) + (-np.sin(theta1)*np.cos(theta2) - np.sin(theta2)*np.cos(theta1))*np.cos(theta3)*np.cos(theta4))*np.cos(theta5) + (-np.sin(theta1)*np.cos(theta2) - np.sin(theta2)*np.cos(theta1))*np.sin(theta3)*np.sin(theta5))*np.cos(theta6) + ((np.sin(theta1)*np.sin(theta2) - np.cos(theta1)*np.cos(theta2))*np.cos(theta4) - (-np.sin(theta1)*np.cos(theta2) - np.sin(theta2)*np.cos(theta1))*np.sin(theta4)*np.cos(theta3))*np.sin(theta6))*np.cos(theta7)/999999999999966 + 87999999999997*(-((np.sin(theta1)*np.sin(theta2) - np.cos(theta1)*np.cos(theta2))*np.sin(theta4) + (-np.sin(theta1)*np.cos(theta2) - np.sin(theta2)*np.cos(theta1))*np.cos(theta3)*np.cos(theta4))*np.sin(theta5) + (-np.sin(theta1)*np.cos(theta2) - np.sin(theta2)*np.cos(theta1))*np.sin(theta3)*np.cos(theta5))*np.sin(theta7)/999999999999966 - 53078138465443*((np.sin(theta1)*np.sin(theta2) - np.cos(theta1)*np.cos(theta2))*np.sin(theta4) + (-np.sin(theta1)*np.cos(theta2) - np.sin(theta2)*np.cos(theta1))*np.cos(theta3)*np.cos(theta4))*np.cos(theta5)/643371375338703 + 53078138465443*(np.sin(theta1)*np.sin(theta2) - np.cos(theta1)*np.cos(theta2))*np.sin(theta4)/643371375338703 - 383999999999957*(np.sin(theta1)*np.sin(theta2) - np.cos(theta1)*np.cos(theta2))*np.cos(theta4)/999999999999888 - 53078138465443*(-np.sin(theta1)*np.cos(theta2) - np.sin(theta2)*np.cos(theta1))*np.sin(theta3)*np.sin(theta5)/643371375338703 + 383999999999957*(-np.sin(theta1)*np.cos(theta2) - np.sin(theta2)*np.cos(theta1))*np.sin(theta4)*np.cos(theta3)/999999999999888 + 53078138465443*(-np.sin(theta1)*np.cos(theta2) - np.sin(theta2)*np.cos(theta1))*np.cos(theta3)*np.cos(theta4)/643371375338703 + 315999999999994*np.sin(theta1)*np.sin(theta2)/999999999999981 - 315999999999994*np.cos(theta1)*np.cos(theta2)/999999999999981, 87999999999997*((((np.sin(theta1)*np.sin(theta2) - np.cos(theta1)*np.cos(theta2))*np.sin(theta4) + (-np.sin(theta1)*np.cos(theta2) - np.sin(theta2)*np.cos(theta1))*np.cos(theta3)*np.cos(theta4))*np.cos(theta5) + (-np.sin(theta1)*np.cos(theta2) - np.sin(theta2)*np.cos(theta1))*np.sin(theta3)*np.sin(theta5))*np.cos(theta6) + ((np.sin(theta1)*np.sin(theta2) - np.cos(theta1)*np.cos(theta2))*np.cos(theta4) - (-np.sin(theta1)*np.cos(theta2) - np.sin(theta2)*np.cos(theta1))*np.sin(theta4)*np.cos(theta3))*np.sin(theta6))*np.cos(theta7)/999999999999966 + 87999999999997*(-((np.sin(theta1)*np.sin(theta2) - np.cos(theta1)*np.cos(theta2))*np.sin(theta4) + (-np.sin(theta1)*np.cos(theta2) - np.sin(theta2)*np.cos(theta1))*np.cos(theta3)*np.cos(theta4))*np.sin(theta5) + (-np.sin(theta1)*np.cos(theta2) - np.sin(theta2)*np.cos(theta1))*np.sin(theta3)*np.cos(theta5))*np.sin(theta7)/999999999999966 - 53078138465443*((np.sin(theta1)*np.sin(theta2) - np.cos(theta1)*np.cos(theta2))*np.sin(theta4) + (-np.sin(theta1)*np.cos(theta2) - np.sin(theta2)*np.cos(theta1))*np.cos(theta3)*np.cos(theta4))*np.cos(theta5)/643371375338703 + 53078138465443*(np.sin(theta1)*np.sin(theta2) - np.cos(theta1)*np.cos(theta2))*np.sin(theta4)/643371375338703 - 383999999999957*(np.sin(theta1)*np.sin(theta2) - np.cos(theta1)*np.cos(theta2))*np.cos(theta4)/999999999999888 - 53078138465443*(-np.sin(theta1)*np.cos(theta2) - np.sin(theta2)*np.cos(theta1))*np.sin(theta3)*np.sin(theta5)/643371375338703 + 383999999999957*(-np.sin(theta1)*np.cos(theta2) - np.sin(theta2)*np.cos(theta1))*np.sin(theta4)*np.cos(theta3)/999999999999888 + 53078138465443*(-np.sin(theta1)*np.cos(theta2) - np.sin(theta2)*np.cos(theta1))*np.cos(theta3)*np.cos(theta4)/643371375338703 + 315999999999994*np.sin(theta1)*np.sin(theta2)/999999999999981 - 315999999999994*np.cos(theta1)*np.cos(theta2)/999999999999981, -383999999999957*(-np.sin(theta1)*np.sin(theta2) + np.cos(theta1)*np.cos(theta2))*np.sin(theta3)*np.sin(theta4)/999999999999888 + 53078138465443*(-np.sin(theta1)*np.sin(theta2) + np.cos(theta1)*np.cos(theta2))*np.sin(theta3)*np.cos(theta4)*np.cos(theta5)/643371375338703 - 53078138465443*(-np.sin(theta1)*np.sin(theta2) + np.cos(theta1)*np.cos(theta2))*np.sin(theta3)*np.cos(theta4)/643371375338703 - 53078138465443*(-np.sin(theta1)*np.sin(theta2) + np.cos(theta1)*np.cos(theta2))*np.sin(theta5)*np.cos(theta3)/643371375338703 + 87999999999997*((-np.sin(theta1)*np.sin(theta2) + np.cos(theta1)*np.cos(theta2))*np.sin(theta3)*np.sin(theta4)*np.sin(theta6) + (-(-np.sin(theta1)*np.sin(theta2) + np.cos(theta1)*np.cos(theta2))*np.sin(theta3)*np.cos(theta4)*np.cos(theta5) + (-np.sin(theta1)*np.sin(theta2) + np.cos(theta1)*np.cos(theta2))*np.sin(theta5)*np.cos(theta3))*np.cos(theta6))*np.cos(theta7)/999999999999966 + 87999999999997*((-np.sin(theta1)*np.sin(theta2) + np.cos(theta1)*np.cos(theta2))*np.sin(theta3)*np.sin(theta5)*np.cos(theta4) + (-np.sin(theta1)*np.sin(theta2) + np.cos(theta1)*np.cos(theta2))*np.cos(theta3)*np.cos(theta5))*np.sin(theta7)/999999999999966, -53078138465443*(-np.sin(theta1)*np.sin(theta2) + np.cos(theta1)*np.cos(theta2))*np.sin(theta4)*np.cos(theta3)/643371375338703 + 383999999999957*(-np.sin(theta1)*np.sin(theta2) + np.cos(theta1)*np.cos(theta2))*np.cos(theta3)*np.cos(theta4)/999999999999888 + 383999999999957*(-np.sin(theta1)*np.cos(theta2) - np.sin(theta2)*np.cos(theta1))*np.sin(theta4)/999999999999888 + 53078138465443*(-np.sin(theta1)*np.cos(theta2) - np.sin(theta2)*np.cos(theta1))*np.cos(theta4)/643371375338703 - 87999999999997*(-(-np.sin(theta1)*np.sin(theta2) + np.cos(theta1)*np.cos(theta2))*np.sin(theta4)*np.cos(theta3) + (-np.sin(theta1)*np.cos(theta2) - np.sin(theta2)*np.cos(theta1))*np.cos(theta4))*np.sin(theta5)*np.sin(theta7)/999999999999966 - 53078138465443*(-(-np.sin(theta1)*np.sin(theta2) + np.cos(theta1)*np.cos(theta2))*np.sin(theta4)*np.cos(theta3) + (-np.sin(theta1)*np.cos(theta2) - np.sin(theta2)*np.cos(theta1))*np.cos(theta4))*np.cos(theta5)/643371375338703 + 87999999999997*((-(-np.sin(theta1)*np.sin(theta2) + np.cos(theta1)*np.cos(theta2))*np.sin(theta4)*np.cos(theta3) + (-np.sin(theta1)*np.cos(theta2) - np.sin(theta2)*np.cos(theta1))*np.cos(theta4))*np.cos(theta5)*np.cos(theta6) + (-(-np.sin(theta1)*np.sin(theta2) + np.cos(theta1)*np.cos(theta2))*np.cos(theta3)*np.cos(theta4) - (-np.sin(theta1)*np.cos(theta2) - np.sin(theta2)*np.cos(theta1))*np.sin(theta4))*np.sin(theta6))*np.cos(theta7)/999999999999966, -53078138465443*(-np.sin(theta1)*np.sin(theta2) + np.cos(theta1)*np.cos(theta2))*np.sin(theta3)*np.cos(theta5)/643371375338703 + 87999999999997*(-(-np.sin(theta1)*np.sin(theta2) + np.cos(theta1)*np.cos(theta2))*np.sin(theta3)*np.sin(theta5) - ((-np.sin(theta1)*np.sin(theta2) + np.cos(theta1)*np.cos(theta2))*np.cos(theta3)*np.cos(theta4) + (-np.sin(theta1)*np.cos(theta2) - np.sin(theta2)*np.cos(theta1))*np.sin(theta4))*np.cos(theta5))*np.sin(theta7)/999999999999966 + 87999999999997*((-np.sin(theta1)*np.sin(theta2) + np.cos(theta1)*np.cos(theta2))*np.sin(theta3)*np.cos(theta5) - ((-np.sin(theta1)*np.sin(theta2) + np.cos(theta1)*np.cos(theta2))*np.cos(theta3)*np.cos(theta4) + (-np.sin(theta1)*np.cos(theta2) - np.sin(theta2)*np.cos(theta1))*np.sin(theta4))*np.sin(theta5))*np.cos(theta6)*np.cos(theta7)/999999999999966 + 53078138465443*((-np.sin(theta1)*np.sin(theta2) + np.cos(theta1)*np.cos(theta2))*np.cos(theta3)*np.cos(theta4) + (-np.sin(theta1)*np.cos(theta2) - np.sin(theta2)*np.cos(theta1))*np.sin(theta4))*np.sin(theta5)/643371375338703, 87999999999997*(-((-np.sin(theta1)*np.sin(theta2) + np.cos(theta1)*np.cos(theta2))*np.sin(theta3)*np.sin(theta5) + ((-np.sin(theta1)*np.sin(theta2) + np.cos(theta1)*np.cos(theta2))*np.cos(theta3)*np.cos(theta4) + (-np.sin(theta1)*np.cos(theta2) - np.sin(theta2)*np.cos(theta1))*np.sin(theta4))*np.cos(theta5))*np.sin(theta6) + (-(-np.sin(theta1)*np.sin(theta2) + np.cos(theta1)*np.cos(theta2))*np.sin(theta4)*np.cos(theta3) + (-np.sin(theta1)*np.cos(theta2) - np.sin(theta2)*np.cos(theta1))*np.cos(theta4))*np.cos(theta6))*np.cos(theta7)/999999999999966, -87999999999997*(((-np.sin(theta1)*np.sin(theta2) + np.cos(theta1)*np.cos(theta2))*np.sin(theta3)*np.sin(theta5) + ((-np.sin(theta1)*np.sin(theta2) + np.cos(theta1)*np.cos(theta2))*np.cos(theta3)*np.cos(theta4) + (-np.sin(theta1)*np.cos(theta2) - np.sin(theta2)*np.cos(theta1))*np.sin(theta4))*np.cos(theta5))*np.cos(theta6) + (-(-np.sin(theta1)*np.sin(theta2) + np.cos(theta1)*np.cos(theta2))*np.sin(theta4)*np.cos(theta3) + (-np.sin(theta1)*np.cos(theta2) - np.sin(theta2)*np.cos(theta1))*np.cos(theta4))*np.sin(theta6))*np.sin(theta7)/999999999999966 + 87999999999997*((-np.sin(theta1)*np.sin(theta2) + np.cos(theta1)*np.cos(theta2))*np.sin(theta3)*np.cos(theta5) - ((-np.sin(theta1)*np.sin(theta2) + np.cos(theta1)*np.cos(theta2))*np.cos(theta3)*np.cos(theta4) + (-np.sin(theta1)*np.cos(theta2) - np.sin(theta2)*np.cos(theta1))*np.sin(theta4))*np.sin(theta5))*np.cos(theta7)/999999999999966], [87999999999997*(((-np.sin(theta1)*np.sin(theta2) + np.cos(theta1)*np.cos(theta2))*np.sin(theta3)*np.sin(theta5) + ((-np.sin(theta1)*np.sin(theta2) + np.cos(theta1)*np.cos(theta2))*np.cos(theta3)*np.cos(theta4) + (-np.sin(theta1)*np.cos(theta2) - np.sin(theta2)*np.cos(theta1))*np.sin(theta4))*np.cos(theta5))*np.cos(theta6) + (-(-np.sin(theta1)*np.sin(theta2) + np.cos(theta1)*np.cos(theta2))*np.sin(theta4)*np.cos(theta3) + (-np.sin(theta1)*np.cos(theta2) - np.sin(theta2)*np.cos(theta1))*np.cos(theta4))*np.sin(theta6))*np.cos(theta7)/999999999999966 - 53078138465443*(-np.sin(theta1)*np.sin(theta2) + np.cos(theta1)*np.cos(theta2))*np.sin(theta3)*np.sin(theta5)/643371375338703 + 383999999999957*(-np.sin(theta1)*np.sin(theta2) + np.cos(theta1)*np.cos(theta2))*np.sin(theta4)*np.cos(theta3)/999999999999888 + 53078138465443*(-np.sin(theta1)*np.sin(theta2) + np.cos(theta1)*np.cos(theta2))*np.cos(theta3)*np.cos(theta4)/643371375338703 + 53078138465443*(-np.sin(theta1)*np.cos(theta2) - np.sin(theta2)*np.cos(theta1))*np.sin(theta4)/643371375338703 - 383999999999957*(-np.sin(theta1)*np.cos(theta2) - np.sin(theta2)*np.cos(theta1))*np.cos(theta4)/999999999999888 + 87999999999997*((-np.sin(theta1)*np.sin(theta2) + np.cos(theta1)*np.cos(theta2))*np.sin(theta3)*np.cos(theta5) - ((-np.sin(theta1)*np.sin(theta2) + np.cos(theta1)*np.cos(theta2))*np.cos(theta3)*np.cos(theta4) + (-np.sin(theta1)*np.cos(theta2) - np.sin(theta2)*np.cos(theta1))*np.sin(theta4))*np.sin(theta5))*np.sin(theta7)/999999999999966 - 53078138465443*((-np.sin(theta1)*np.sin(theta2) + np.cos(theta1)*np.cos(theta2))*np.cos(theta3)*np.cos(theta4) + (-np.sin(theta1)*np.cos(theta2) - np.sin(theta2)*np.cos(theta1))*np.sin(theta4))*np.cos(theta5)/643371375338703 - 315999999999994*np.sin(theta1)*np.cos(theta2)/999999999999981 - 315999999999994*np.sin(theta2)*np.cos(theta1)/999999999999981, 87999999999997*(((-np.sin(theta1)*np.sin(theta2) + np.cos(theta1)*np.cos(theta2))*np.sin(theta3)*np.sin(theta5) + ((-np.sin(theta1)*np.sin(theta2) + np.cos(theta1)*np.cos(theta2))*np.cos(theta3)*np.cos(theta4) + (-np.sin(theta1)*np.cos(theta2) - np.sin(theta2)*np.cos(theta1))*np.sin(theta4))*np.cos(theta5))*np.cos(theta6) + (-(-np.sin(theta1)*np.sin(theta2) + np.cos(theta1)*np.cos(theta2))*np.sin(theta4)*np.cos(theta3) + (-np.sin(theta1)*np.cos(theta2) - np.sin(theta2)*np.cos(theta1))*np.cos(theta4))*np.sin(theta6))*np.cos(theta7)/999999999999966 - 53078138465443*(-np.sin(theta1)*np.sin(theta2) + np.cos(theta1)*np.cos(theta2))*np.sin(theta3)*np.sin(theta5)/643371375338703 + 383999999999957*(-np.sin(theta1)*np.sin(theta2) + np.cos(theta1)*np.cos(theta2))*np.sin(theta4)*np.cos(theta3)/999999999999888 + 53078138465443*(-np.sin(theta1)*np.sin(theta2) + np.cos(theta1)*np.cos(theta2))*np.cos(theta3)*np.cos(theta4)/643371375338703 + 53078138465443*(-np.sin(theta1)*np.cos(theta2) - np.sin(theta2)*np.cos(theta1))*np.sin(theta4)/643371375338703 - 383999999999957*(-np.sin(theta1)*np.cos(theta2) - np.sin(theta2)*np.cos(theta1))*np.cos(theta4)/999999999999888 + 87999999999997*((-np.sin(theta1)*np.sin(theta2) + np.cos(theta1)*np.cos(theta2))*np.sin(theta3)*np.cos(theta5) - ((-np.sin(theta1)*np.sin(theta2) + np.cos(theta1)*np.cos(theta2))*np.cos(theta3)*np.cos(theta4) + (-np.sin(theta1)*np.cos(theta2) - np.sin(theta2)*np.cos(theta1))*np.sin(theta4))*np.sin(theta5))*np.sin(theta7)/999999999999966 - 53078138465443*((-np.sin(theta1)*np.sin(theta2) + np.cos(theta1)*np.cos(theta2))*np.cos(theta3)*np.cos(theta4) + (-np.sin(theta1)*np.cos(theta2) - np.sin(theta2)*np.cos(theta1))*np.sin(theta4))*np.cos(theta5)/643371375338703 - 315999999999994*np.sin(theta1)*np.cos(theta2)/999999999999981 - 315999999999994*np.sin(theta2)*np.cos(theta1)/999999999999981, -383999999999957*(np.sin(theta1)*np.cos(theta2) + np.sin(theta2)*np.cos(theta1))*np.sin(theta3)*np.sin(theta4)/999999999999888 + 53078138465443*(np.sin(theta1)*np.cos(theta2) + np.sin(theta2)*np.cos(theta1))*np.sin(theta3)*np.cos(theta4)*np.cos(theta5)/643371375338703 - 53078138465443*(np.sin(theta1)*np.cos(theta2) + np.sin(theta2)*np.cos(theta1))*np.sin(theta3)*np.cos(theta4)/643371375338703 - 53078138465443*(np.sin(theta1)*np.cos(theta2) + np.sin(theta2)*np.cos(theta1))*np.sin(theta5)*np.cos(theta3)/643371375338703 + 87999999999997*((np.sin(theta1)*np.cos(theta2) + np.sin(theta2)*np.cos(theta1))*np.sin(theta3)*np.sin(theta4)*np.sin(theta6) + (-(np.sin(theta1)*np.cos(theta2) + np.sin(theta2)*np.cos(theta1))*np.sin(theta3)*np.cos(theta4)*np.cos(theta5) + (np.sin(theta1)*np.cos(theta2) + np.sin(theta2)*np.cos(theta1))*np.sin(theta5)*np.cos(theta3))*np.cos(theta6))*np.cos(theta7)/999999999999966 + 87999999999997*((np.sin(theta1)*np.cos(theta2) + np.sin(theta2)*np.cos(theta1))*np.sin(theta3)*np.sin(theta5)*np.cos(theta4) + (np.sin(theta1)*np.cos(theta2) + np.sin(theta2)*np.cos(theta1))*np.cos(theta3)*np.cos(theta5))*np.sin(theta7)/999999999999966, 87999999999997*((-(-np.sin(theta1)*np.sin(theta2) + np.cos(theta1)*np.cos(theta2))*np.sin(theta4) - (np.sin(theta1)*np.cos(theta2) + np.sin(theta2)*np.cos(theta1))*np.cos(theta3)*np.cos(theta4))*np.sin(theta6) + ((-np.sin(theta1)*np.sin(theta2) + np.cos(theta1)*np.cos(theta2))*np.cos(theta4) - (np.sin(theta1)*np.cos(theta2) + np.sin(theta2)*np.cos(theta1))*np.sin(theta4)*np.cos(theta3))*np.cos(theta5)*np.cos(theta6))*np.cos(theta7)/999999999999966 - 87999999999997*((-np.sin(theta1)*np.sin(theta2) + np.cos(theta1)*np.cos(theta2))*np.cos(theta4) - (np.sin(theta1)*np.cos(theta2) + np.sin(theta2)*np.cos(theta1))*np.sin(theta4)*np.cos(theta3))*np.sin(theta5)*np.sin(theta7)/999999999999966 - 53078138465443*((-np.sin(theta1)*np.sin(theta2) + np.cos(theta1)*np.cos(theta2))*np.cos(theta4) - (np.sin(theta1)*np.cos(theta2) + np.sin(theta2)*np.cos(theta1))*np.sin(theta4)*np.cos(theta3))*np.cos(theta5)/643371375338703 + 383999999999957*(-np.sin(theta1)*np.sin(theta2) + np.cos(theta1)*np.cos(theta2))*np.sin(theta4)/999999999999888 + 53078138465443*(-np.sin(theta1)*np.sin(theta2) + np.cos(theta1)*np.cos(theta2))*np.cos(theta4)/643371375338703 - 53078138465443*(np.sin(theta1)*np.cos(theta2) + np.sin(theta2)*np.cos(theta1))*np.sin(theta4)*np.cos(theta3)/643371375338703 + 383999999999957*(np.sin(theta1)*np.cos(theta2) + np.sin(theta2)*np.cos(theta1))*np.cos(theta3)*np.cos(theta4)/999999999999888, 87999999999997*(-((-np.sin(theta1)*np.sin(theta2) + np.cos(theta1)*np.cos(theta2))*np.sin(theta4) + (np.sin(theta1)*np.cos(theta2) + np.sin(theta2)*np.cos(theta1))*np.cos(theta3)*np.cos(theta4))*np.sin(theta5) + (np.sin(theta1)*np.cos(theta2) + np.sin(theta2)*np.cos(theta1))*np.sin(theta3)*np.cos(theta5))*np.cos(theta6)*np.cos(theta7)/999999999999966 + 87999999999997*(-((-np.sin(theta1)*np.sin(theta2) + np.cos(theta1)*np.cos(theta2))*np.sin(theta4) + (np.sin(theta1)*np.cos(theta2) + np.sin(theta2)*np.cos(theta1))*np.cos(theta3)*np.cos(theta4))*np.cos(theta5) - (np.sin(theta1)*np.cos(theta2) + np.sin(theta2)*np.cos(theta1))*np.sin(theta3)*np.sin(theta5))*np.sin(theta7)/999999999999966 + 53078138465443*((-np.sin(theta1)*np.sin(theta2) + np.cos(theta1)*np.cos(theta2))*np.sin(theta4) + (np.sin(theta1)*np.cos(theta2) + np.sin(theta2)*np.cos(theta1))*np.cos(theta3)*np.cos(theta4))*np.sin(theta5)/643371375338703 - 53078138465443*(np.sin(theta1)*np.cos(theta2) + np.sin(theta2)*np.cos(theta1))*np.sin(theta3)*np.cos(theta5)/643371375338703, 87999999999997*(-(((-np.sin(theta1)*np.sin(theta2) + np.cos(theta1)*np.cos(theta2))*np.sin(theta4) + (np.sin(theta1)*np.cos(theta2) + np.sin(theta2)*np.cos(theta1))*np.cos(theta3)*np.cos(theta4))*np.cos(theta5) + (np.sin(theta1)*np.cos(theta2) + np.sin(theta2)*np.cos(theta1))*np.sin(theta3)*np.sin(theta5))*np.sin(theta6) + ((-np.sin(theta1)*np.sin(theta2) + np.cos(theta1)*np.cos(theta2))*np.cos(theta4) - (np.sin(theta1)*np.cos(theta2) + np.sin(theta2)*np.cos(theta1))*np.sin(theta4)*np.cos(theta3))*np.cos(theta6))*np.cos(theta7)/999999999999966, -87999999999997*((((-np.sin(theta1)*np.sin(theta2) + np.cos(theta1)*np.cos(theta2))*np.sin(theta4) + (np.sin(theta1)*np.cos(theta2) + np.sin(theta2)*np.cos(theta1))*np.cos(theta3)*np.cos(theta4))*np.cos(theta5) + (np.sin(theta1)*np.cos(theta2) + np.sin(theta2)*np.cos(theta1))*np.sin(theta3)*np.sin(theta5))*np.cos(theta6) + ((-np.sin(theta1)*np.sin(theta2) + np.cos(theta1)*np.cos(theta2))*np.cos(theta4) - (np.sin(theta1)*np.cos(theta2) + np.sin(theta2)*np.cos(theta1))*np.sin(theta4)*np.cos(theta3))*np.sin(theta6))*np.sin(theta7)/999999999999966 + 87999999999997*(-((-np.sin(theta1)*np.sin(theta2) + np.cos(theta1)*np.cos(theta2))*np.sin(theta4) + (np.sin(theta1)*np.cos(theta2) + np.sin(theta2)*np.cos(theta1))*np.cos(theta3)*np.cos(theta4))*np.sin(theta5) + (np.sin(theta1)*np.cos(theta2) + np.sin(theta2)*np.cos(theta1))*np.sin(theta3)*np.cos(theta5))*np.cos(theta7)/999999999999966], [0, 0, 87999999999997*((-np.sin(theta3)*np.sin(theta5) - np.cos(theta3)*np.cos(theta4)*np.cos(theta5))*np.cos(theta6) + np.sin(theta4)*np.sin(theta6)*np.cos(theta3))*np.cos(theta7)/999999999999966 + 87999999999997*(-np.sin(theta3)*np.cos(theta5) + np.sin(theta5)*np.cos(theta3)*np.cos(theta4))*np.sin(theta7)/999999999999966 + 53078138465443*np.sin(theta3)*np.sin(theta5)/643371375338703 - 383999999999957*np.sin(theta4)*np.cos(theta3)/999999999999888 + 53078138465443*np.cos(theta3)*np.cos(theta4)*np.cos(theta5)/643371375338703 - 53078138465443*np.cos(theta3)*np.cos(theta4)/643371375338703, 87999999999997*(np.sin(theta3)*np.sin(theta4)*np.cos(theta5)*np.cos(theta6) + np.sin(theta3)*np.sin(theta6)*np.cos(theta4))*np.cos(theta7)/999999999999966 - 87999999999997*np.sin(theta3)*np.sin(theta4)*np.sin(theta5)*np.sin(theta7)/999999999999966 - 53078138465443*np.sin(theta3)*np.sin(theta4)*np.cos(theta5)/643371375338703 + 53078138465443*np.sin(theta3)*np.sin(theta4)/643371375338703 - 383999999999957*np.sin(theta3)*np.cos(theta4)/999999999999888, 87999999999997*(np.sin(theta3)*np.sin(theta5)*np.cos(theta4) + np.cos(theta3)*np.cos(theta5))*np.cos(theta6)*np.cos(theta7)/999999999999966 + 87999999999997*(np.sin(theta3)*np.cos(theta4)*np.cos(theta5) - np.sin(theta5)*np.cos(theta3))*np.sin(theta7)/999999999999966 - 53078138465443*np.sin(theta3)*np.sin(theta5)*np.cos(theta4)/643371375338703 - 53078138465443*np.cos(theta3)*np.cos(theta5)/643371375338703, 87999999999997*(-(-np.sin(theta3)*np.cos(theta4)*np.cos(theta5) + np.sin(theta5)*np.cos(theta3))*np.sin(theta6) + np.sin(theta3)*np.sin(theta4)*np.cos(theta6))*np.cos(theta7)/999999999999966, -87999999999997*((-np.sin(theta3)*np.cos(theta4)*np.cos(theta5) + np.sin(theta5)*np.cos(theta3))*np.cos(theta6) + np.sin(theta3)*np.sin(theta4)*np.sin(theta6))*np.sin(theta7)/999999999999966 + 87999999999997*(np.sin(theta3)*np.sin(theta5)*np.cos(theta4) + np.cos(theta3)*np.cos(theta5))*np.cos(theta7)/999999999999966], [0, 0, (-np.sin(theta1)*np.sin(theta2) + np.cos(theta1)*np.cos(theta2))*np.sin(theta3), (-np.sin(theta1)*np.sin(theta2) + np.cos(theta1)*np.cos(theta2))*np.sin(theta3), (-np.sin(theta1)*np.sin(theta2) + np.cos(theta1)*np.cos(theta2))*np.sin(theta3)*np.cos(theta5) - ((-np.sin(theta1)*np.sin(theta2) + np.cos(theta1)*np.cos(theta2))*np.cos(theta3)*np.cos(theta4) + (-np.sin(theta1)*np.cos(theta2) - np.sin(theta2)*np.cos(theta1))*np.sin(theta4))*np.sin(theta5), (-np.sin(theta1)*np.sin(theta2) + np.cos(theta1)*np.cos(theta2))*np.sin(theta3)*np.cos(theta5) - ((-np.sin(theta1)*np.sin(theta2) + np.cos(theta1)*np.cos(theta2))*np.cos(theta3)*np.cos(theta4) + (-np.sin(theta1)*np.cos(theta2) - np.sin(theta2)*np.cos(theta1))*np.sin(theta4))*np.sin(theta5), (((-np.sin(theta1)*np.sin(theta2) + np.cos(theta1)*np.cos(theta2))*np.sin(theta3)*np.sin(theta5) + ((-np.sin(theta1)*np.sin(theta2) + np.cos(theta1)*np.cos(theta2))*np.cos(theta3)*np.cos(theta4) + (-np.sin(theta1)*np.cos(theta2) - np.sin(theta2)*np.cos(theta1))*np.sin(theta4))*np.cos(theta5))*np.cos(theta6) + (-(-np.sin(theta1)*np.sin(theta2) + np.cos(theta1)*np.cos(theta2))*np.sin(theta4)*np.cos(theta3) + (-np.sin(theta1)*np.cos(theta2) - np.sin(theta2)*np.cos(theta1))*np.cos(theta4))*np.sin(theta6))*np.sin(theta7) - ((-np.sin(theta1)*np.sin(theta2) + np.cos(theta1)*np.cos(theta2))*np.sin(theta3)*np.cos(theta5) - ((-np.sin(theta1)*np.sin(theta2) + np.cos(theta1)*np.cos(theta2))*np.cos(theta3)*np.cos(theta4) + (-np.sin(theta1)*np.cos(theta2) - np.sin(theta2)*np.cos(theta1))*np.sin(theta4))*np.sin(theta5))*np.cos(theta7)], [0, 0, (np.sin(theta1)*np.cos(theta2) + np.sin(theta2)*np.cos(theta1))*np.sin(theta3), (np.sin(theta1)*np.cos(theta2) + np.sin(theta2)*np.cos(theta1))*np.sin(theta3), -((-np.sin(theta1)*np.sin(theta2) + np.cos(theta1)*np.cos(theta2))*np.sin(theta4) + (np.sin(theta1)*np.cos(theta2) + np.sin(theta2)*np.cos(theta1))*np.cos(theta3)*np.cos(theta4))*np.sin(theta5) + (np.sin(theta1)*np.cos(theta2) + np.sin(theta2)*np.cos(theta1))*np.sin(theta3)*np.cos(theta5), -((-np.sin(theta1)*np.sin(theta2) + np.cos(theta1)*np.cos(theta2))*np.sin(theta4) + (np.sin(theta1)*np.cos(theta2) + np.sin(theta2)*np.cos(theta1))*np.cos(theta3)*np.cos(theta4))*np.sin(theta5) + (np.sin(theta1)*np.cos(theta2) + np.sin(theta2)*np.cos(theta1))*np.sin(theta3)*np.cos(theta5), ((((-np.sin(theta1)*np.sin(theta2) + np.cos(theta1)*np.cos(theta2))*np.sin(theta4) + (np.sin(theta1)*np.cos(theta2) + np.sin(theta2)*np.cos(theta1))*np.cos(theta3)*np.cos(theta4))*np.cos(theta5) + (np.sin(theta1)*np.cos(theta2) + np.sin(theta2)*np.cos(theta1))*np.sin(theta3)*np.sin(theta5))*np.cos(theta6) + ((-np.sin(theta1)*np.sin(theta2) + np.cos(theta1)*np.cos(theta2))*np.cos(theta4) - (np.sin(theta1)*np.cos(theta2) + np.sin(theta2)*np.cos(theta1))*np.sin(theta4)*np.cos(theta3))*np.sin(theta6))*np.sin(theta7) - (-((-np.sin(theta1)*np.sin(theta2) + np.cos(theta1)*np.cos(theta2))*np.sin(theta4) + (np.sin(theta1)*np.cos(theta2) + np.sin(theta2)*np.cos(theta1))*np.cos(theta3)*np.cos(theta4))*np.sin(theta5) + (np.sin(theta1)*np.cos(theta2) + np.sin(theta2)*np.cos(theta1))*np.sin(theta3)*np.cos(theta5))*np.cos(theta7)], [1, -1, np.cos(theta3), np.cos(theta3), np.sin(theta3)*np.sin(theta5)*np.cos(theta4) + np.cos(theta3)*np.cos(theta5), np.sin(theta3)*np.sin(theta5)*np.cos(theta4) + np.cos(theta3)*np.cos(theta5), ((-np.sin(theta3)*np.cos(theta4)*np.cos(theta5) + np.sin(theta5)*np.cos(theta3))*np.cos(theta6) + np.sin(theta3)*np.sin(theta4)*np.sin(theta6))*np.sin(theta7) - (np.sin(theta3)*np.sin(theta5)*np.cos(theta4) + np.cos(theta3)*np.cos(theta5))*np.cos(theta7)]])"
   ]
  },
  {
   "cell_type": "code",
   "execution_count": 56,
   "metadata": {},
   "outputs": [
    {
     "name": "stdout",
     "output_type": "stream",
     "text": [
      "0.0009965896606445312\n",
      "[[-0.08297742 -0.08297742  0.10112635 -0.30181966  0.02565664  0.02319482\n",
      "   0.07625665]\n",
      " [-0.17137607 -0.17137607 -0.2209651  -0.02244039 -0.07182322 -0.04032477\n",
      "   0.0388879 ]\n",
      " [ 0.          0.         -0.14676876 -0.16383354 -0.05379508  0.00982814\n",
      "  -0.02041212]\n",
      " [ 0.          0.         -0.35017549 -0.35017549  0.55687425  0.55687425\n",
      "  -0.86655281]\n",
      " [ 0.          0.          0.7651474   0.7651474   0.48470655  0.48470655\n",
      "  -0.441908  ]\n",
      " [ 1.         -1.          0.54030231  0.54030231  0.67450028  0.67450028\n",
      "   0.23195593]]\n"
     ]
    }
   ],
   "source": [
    "t1 = time.time()\n",
    "a=Jakobi(1,1,1,1,1,1,1)\n",
    "t2 = time.time()\n",
    "print(t2-t1)\n",
    "print(a)"
   ]
  },
  {
   "cell_type": "code",
   "execution_count": 60,
   "metadata": {},
   "outputs": [
    {
     "name": "stdout",
     "output_type": "stream",
     "text": [
      "0.20644831657409668\n",
      "[[-0.08297742 -0.08297742  0.10112635 -0.30181966  0.02565664  0.02319482\n",
      "   0.07625665]\n",
      " [-0.17137607 -0.17137607 -0.2209651  -0.02244039 -0.07182322 -0.04032477\n",
      "   0.0388879 ]\n",
      " [ 0.          0.         -0.14676876 -0.16383354 -0.05379508  0.00982814\n",
      "  -0.02041212]\n",
      " [ 0.          0.         -0.35017549 -0.35017549  0.55687425  0.55687425\n",
      "  -0.86655281]\n",
      " [ 0.          0.          0.7651474   0.7651474   0.48470655  0.48470655\n",
      "  -0.441908  ]\n",
      " [ 1.         -1.          0.54030231  0.54030231  0.67450028  0.67450028\n",
      "   0.23195593]]\n"
     ]
    }
   ],
   "source": [
    "from sympy import lambdify\n",
    "z1 = time.time()\n",
    "theta_trenutni = np.array([1,1,1,1,1,1,1])\n",
    "simboli = (theta1, theta2, theta3, theta4, theta5, theta6, theta7)\n",
    "transformacija_numpy = lambdify([simboli],Poesnostavljen_J, modules=\"numpy\")\n",
    "\n",
    "J_trenutni = transformacija_numpy(theta_trenutni)\n",
    "\n",
    "k1 = time.time()\n",
    "print(k1-z1)\n",
    "print(J_trenutni)"
   ]
  },
  {
   "cell_type": "markdown",
   "metadata": {},
   "source": [
    "# Direktna kinematika izpeljava"
   ]
  },
  {
   "cell_type": "code",
   "execution_count": 2,
   "metadata": {
    "scrolled": false
   },
   "outputs": [],
   "source": [
    "#T0F"
   ]
  },
  {
   "cell_type": "code",
   "execution_count": 2,
   "metadata": {
    "scrolled": false
   },
   "outputs": [],
   "source": [
    "T0F_poenostavljen = nsimplify(T0F, tolerance=1e-15)\n"
   ]
  },
  {
   "cell_type": "markdown",
   "metadata": {},
   "source": [
    "## Izraz direktne kinematike"
   ]
  },
  {
   "cell_type": "code",
   "execution_count": 3,
   "metadata": {},
   "outputs": [
    {
     "data": {
      "text/plain": [
       "'np.array([[-((((-np.sin(theta5)*np.sin(theta7) + np.cos(theta5)*np.cos(theta6)*np.cos(theta7))*np.cos(theta4) - np.sin(theta4)*np.sin(theta6)*np.cos(theta7))*np.cos(theta3) + (np.sin(theta5)*np.cos(theta6)*np.cos(theta7) + np.sin(theta7)*np.cos(theta5))*np.sin(theta3))*np.sin(theta2) + ((-np.sin(theta5)*np.sin(theta7) + np.cos(theta5)*np.cos(theta6)*np.cos(theta7))*np.sin(theta4) + np.sin(theta6)*np.cos(theta4)*np.cos(theta7))*np.cos(theta2))*np.sin(theta1) + ((((-np.sin(theta5)*np.sin(theta7) + np.cos(theta5)*np.cos(theta6)*np.cos(theta7))*np.cos(theta4) - np.sin(theta4)*np.sin(theta6)*np.cos(theta7))*np.cos(theta3) + (np.sin(theta5)*np.cos(theta6)*np.cos(theta7) + np.sin(theta7)*np.cos(theta5))*np.sin(theta3))*np.cos(theta2) - ((-np.sin(theta5)*np.sin(theta7) + np.cos(theta5)*np.cos(theta6)*np.cos(theta7))*np.sin(theta4) + np.sin(theta6)*np.cos(theta4)*np.cos(theta7))*np.sin(theta2))*np.cos(theta1), -(((np.sin(theta4)*np.cos(theta6) + np.sin(theta6)*np.cos(theta4)*np.cos(theta5))*np.cos(theta3) + np.sin(theta3)*np.sin(theta5)*np.sin(theta6))*np.sin(theta2) + (np.sin(theta4)*np.sin(theta6)*np.cos(theta5) - np.cos(theta4)*np.cos(theta6))*np.cos(theta2))*np.sin(theta1) + (((np.sin(theta4)*np.cos(theta6) + np.sin(theta6)*np.cos(theta4)*np.cos(theta5))*np.cos(theta3) + np.sin(theta3)*np.sin(theta5)*np.sin(theta6))*np.cos(theta2) - (np.sin(theta4)*np.sin(theta6)*np.cos(theta5) - np.cos(theta4)*np.cos(theta6))*np.sin(theta2))*np.cos(theta1), -((((np.sin(theta5)*np.cos(theta7) + np.sin(theta7)*np.cos(theta5)*np.cos(theta6))*np.cos(theta4) - np.sin(theta4)*np.sin(theta6)*np.sin(theta7))*np.cos(theta3) + (np.sin(theta5)*np.sin(theta7)*np.cos(theta6) - np.cos(theta5)*np.cos(theta7))*np.sin(theta3))*np.sin(theta2) + ((np.sin(theta5)*np.cos(theta7) + np.sin(theta7)*np.cos(theta5)*np.cos(theta6))*np.sin(theta4) + np.sin(theta6)*np.sin(theta7)*np.cos(theta4))*np.cos(theta2))*np.sin(theta1) + ((((np.sin(theta5)*np.cos(theta7) + np.sin(theta7)*np.cos(theta5)*np.cos(theta6))*np.cos(theta4) - np.sin(theta4)*np.sin(theta6)*np.sin(theta7))*np.cos(theta3) + (np.sin(theta5)*np.sin(theta7)*np.cos(theta6) - np.cos(theta5)*np.cos(theta7))*np.sin(theta3))*np.cos(theta2) - ((np.sin(theta5)*np.cos(theta7) + np.sin(theta7)*np.cos(theta5)*np.cos(theta6))*np.sin(theta4) + np.sin(theta6)*np.sin(theta7)*np.cos(theta4))*np.sin(theta2))*np.cos(theta1), -((((-87999999999997*np.sin(theta6)*np.cos(theta7)/999999999999966 + 383999999999957/999999999999888)*np.sin(theta4) + (-87999999999997*np.sin(theta5)*np.sin(theta7)/999999999999966 + 87999999999997*np.cos(theta5)*np.cos(theta6)*np.cos(theta7)/999999999999966 - 53078138465443*np.cos(theta5)/643371375338703)*np.cos(theta4) + 53078138465443*np.cos(theta4)/643371375338703)*np.cos(theta3) + (87999999999997*np.sin(theta5)*np.cos(theta6)*np.cos(theta7)/999999999999966 - 53078138465443*np.sin(theta5)/643371375338703 + 87999999999997*np.sin(theta7)*np.cos(theta5)/999999999999966)*np.sin(theta3))*np.sin(theta2) + (-(-87999999999997*np.sin(theta6)*np.cos(theta7)/999999999999966 + 383999999999957/999999999999888)*np.cos(theta4) + (-87999999999997*np.sin(theta5)*np.sin(theta7)/999999999999966 + 87999999999997*np.cos(theta5)*np.cos(theta6)*np.cos(theta7)/999999999999966 - 53078138465443*np.cos(theta5)/643371375338703)*np.sin(theta4) + 53078138465443*np.sin(theta4)/643371375338703 + 315999999999994/999999999999981)*np.cos(theta2))*np.sin(theta1) + ((((-87999999999997*np.sin(theta6)*np.cos(theta7)/999999999999966 + 383999999999957/999999999999888)*np.sin(theta4) + (-87999999999997*np.sin(theta5)*np.sin(theta7)/999999999999966 + 87999999999997*np.cos(theta5)*np.cos(theta6)*np.cos(theta7)/999999999999966 - 53078138465443*np.cos(theta5)/643371375338703)*np.cos(theta4) + 53078138465443*np.cos(theta4)/643371375338703)*np.cos(theta3) + (87999999999997*np.sin(theta5)*np.cos(theta6)*np.cos(theta7)/999999999999966 - 53078138465443*np.sin(theta5)/643371375338703 + 87999999999997*np.sin(theta7)*np.cos(theta5)/999999999999966)*np.sin(theta3))*np.cos(theta2) - (-(-87999999999997*np.sin(theta6)*np.cos(theta7)/999999999999966 + 383999999999957/999999999999888)*np.cos(theta4) + (-87999999999997*np.sin(theta5)*np.sin(theta7)/999999999999966 + 87999999999997*np.cos(theta5)*np.cos(theta6)*np.cos(theta7)/999999999999966 - 53078138465443*np.cos(theta5)/643371375338703)*np.sin(theta4) + 53078138465443*np.sin(theta4)/643371375338703 + 315999999999994/999999999999981)*np.sin(theta2))*np.cos(theta1)], [((((-np.sin(theta5)*np.sin(theta7) + np.cos(theta5)*np.cos(theta6)*np.cos(theta7))*np.cos(theta4) - np.sin(theta4)*np.sin(theta6)*np.cos(theta7))*np.cos(theta3) + (np.sin(theta5)*np.cos(theta6)*np.cos(theta7) + np.sin(theta7)*np.cos(theta5))*np.sin(theta3))*np.sin(theta2) + ((-np.sin(theta5)*np.sin(theta7) + np.cos(theta5)*np.cos(theta6)*np.cos(theta7))*np.sin(theta4) + np.sin(theta6)*np.cos(theta4)*np.cos(theta7))*np.cos(theta2))*np.cos(theta1) + ((((-np.sin(theta5)*np.sin(theta7) + np.cos(theta5)*np.cos(theta6)*np.cos(theta7))*np.cos(theta4) - np.sin(theta4)*np.sin(theta6)*np.cos(theta7))*np.cos(theta3) + (np.sin(theta5)*np.cos(theta6)*np.cos(theta7) + np.sin(theta7)*np.cos(theta5))*np.sin(theta3))*np.cos(theta2) - ((-np.sin(theta5)*np.sin(theta7) + np.cos(theta5)*np.cos(theta6)*np.cos(theta7))*np.sin(theta4) + np.sin(theta6)*np.cos(theta4)*np.cos(theta7))*np.sin(theta2))*np.sin(theta1), (((np.sin(theta4)*np.cos(theta6) + np.sin(theta6)*np.cos(theta4)*np.cos(theta5))*np.cos(theta3) + np.sin(theta3)*np.sin(theta5)*np.sin(theta6))*np.sin(theta2) + (np.sin(theta4)*np.sin(theta6)*np.cos(theta5) - np.cos(theta4)*np.cos(theta6))*np.cos(theta2))*np.cos(theta1) + (((np.sin(theta4)*np.cos(theta6) + np.sin(theta6)*np.cos(theta4)*np.cos(theta5))*np.cos(theta3) + np.sin(theta3)*np.sin(theta5)*np.sin(theta6))*np.cos(theta2) - (np.sin(theta4)*np.sin(theta6)*np.cos(theta5) - np.cos(theta4)*np.cos(theta6))*np.sin(theta2))*np.sin(theta1), ((((np.sin(theta5)*np.cos(theta7) + np.sin(theta7)*np.cos(theta5)*np.cos(theta6))*np.cos(theta4) - np.sin(theta4)*np.sin(theta6)*np.sin(theta7))*np.cos(theta3) + (np.sin(theta5)*np.sin(theta7)*np.cos(theta6) - np.cos(theta5)*np.cos(theta7))*np.sin(theta3))*np.sin(theta2) + ((np.sin(theta5)*np.cos(theta7) + np.sin(theta7)*np.cos(theta5)*np.cos(theta6))*np.sin(theta4) + np.sin(theta6)*np.sin(theta7)*np.cos(theta4))*np.cos(theta2))*np.cos(theta1) + ((((np.sin(theta5)*np.cos(theta7) + np.sin(theta7)*np.cos(theta5)*np.cos(theta6))*np.cos(theta4) - np.sin(theta4)*np.sin(theta6)*np.sin(theta7))*np.cos(theta3) + (np.sin(theta5)*np.sin(theta7)*np.cos(theta6) - np.cos(theta5)*np.cos(theta7))*np.sin(theta3))*np.cos(theta2) - ((np.sin(theta5)*np.cos(theta7) + np.sin(theta7)*np.cos(theta5)*np.cos(theta6))*np.sin(theta4) + np.sin(theta6)*np.sin(theta7)*np.cos(theta4))*np.sin(theta2))*np.sin(theta1), ((((-87999999999997*np.sin(theta6)*np.cos(theta7)/999999999999966 + 383999999999957/999999999999888)*np.sin(theta4) + (-87999999999997*np.sin(theta5)*np.sin(theta7)/999999999999966 + 87999999999997*np.cos(theta5)*np.cos(theta6)*np.cos(theta7)/999999999999966 - 53078138465443*np.cos(theta5)/643371375338703)*np.cos(theta4) + 53078138465443*np.cos(theta4)/643371375338703)*np.cos(theta3) + (87999999999997*np.sin(theta5)*np.cos(theta6)*np.cos(theta7)/999999999999966 - 53078138465443*np.sin(theta5)/643371375338703 + 87999999999997*np.sin(theta7)*np.cos(theta5)/999999999999966)*np.sin(theta3))*np.sin(theta2) + (-(-87999999999997*np.sin(theta6)*np.cos(theta7)/999999999999966 + 383999999999957/999999999999888)*np.cos(theta4) + (-87999999999997*np.sin(theta5)*np.sin(theta7)/999999999999966 + 87999999999997*np.cos(theta5)*np.cos(theta6)*np.cos(theta7)/999999999999966 - 53078138465443*np.cos(theta5)/643371375338703)*np.sin(theta4) + 53078138465443*np.sin(theta4)/643371375338703 + 315999999999994/999999999999981)*np.cos(theta2))*np.cos(theta1) + ((((-87999999999997*np.sin(theta6)*np.cos(theta7)/999999999999966 + 383999999999957/999999999999888)*np.sin(theta4) + (-87999999999997*np.sin(theta5)*np.sin(theta7)/999999999999966 + 87999999999997*np.cos(theta5)*np.cos(theta6)*np.cos(theta7)/999999999999966 - 53078138465443*np.cos(theta5)/643371375338703)*np.cos(theta4) + 53078138465443*np.cos(theta4)/643371375338703)*np.cos(theta3) + (87999999999997*np.sin(theta5)*np.cos(theta6)*np.cos(theta7)/999999999999966 - 53078138465443*np.sin(theta5)/643371375338703 + 87999999999997*np.sin(theta7)*np.cos(theta5)/999999999999966)*np.sin(theta3))*np.cos(theta2) - (-(-87999999999997*np.sin(theta6)*np.cos(theta7)/999999999999966 + 383999999999957/999999999999888)*np.cos(theta4) + (-87999999999997*np.sin(theta5)*np.sin(theta7)/999999999999966 + 87999999999997*np.cos(theta5)*np.cos(theta6)*np.cos(theta7)/999999999999966 - 53078138465443*np.cos(theta5)/643371375338703)*np.sin(theta4) + 53078138465443*np.sin(theta4)/643371375338703 + 315999999999994/999999999999981)*np.sin(theta2))*np.sin(theta1)], [-((-np.sin(theta5)*np.sin(theta7) + np.cos(theta5)*np.cos(theta6)*np.cos(theta7))*np.cos(theta4) - np.sin(theta4)*np.sin(theta6)*np.cos(theta7))*np.sin(theta3) + (np.sin(theta5)*np.cos(theta6)*np.cos(theta7) + np.sin(theta7)*np.cos(theta5))*np.cos(theta3), -(np.sin(theta4)*np.cos(theta6) + np.sin(theta6)*np.cos(theta4)*np.cos(theta5))*np.sin(theta3) + np.sin(theta5)*np.sin(theta6)*np.cos(theta3), -((np.sin(theta5)*np.cos(theta7) + np.sin(theta7)*np.cos(theta5)*np.cos(theta6))*np.cos(theta4) - np.sin(theta4)*np.sin(theta6)*np.sin(theta7))*np.sin(theta3) + (np.sin(theta5)*np.sin(theta7)*np.cos(theta6) - np.cos(theta5)*np.cos(theta7))*np.cos(theta3), -((-87999999999997*np.sin(theta6)*np.cos(theta7)/999999999999966 + 383999999999957/999999999999888)*np.sin(theta4) + (-87999999999997*np.sin(theta5)*np.sin(theta7)/999999999999966 + 87999999999997*np.cos(theta5)*np.cos(theta6)*np.cos(theta7)/999999999999966 - 53078138465443*np.cos(theta5)/643371375338703)*np.cos(theta4) + 53078138465443*np.cos(theta4)/643371375338703)*np.sin(theta3) + (87999999999997*np.sin(theta5)*np.cos(theta6)*np.cos(theta7)/999999999999966 - 53078138465443*np.sin(theta5)/643371375338703 + 87999999999997*np.sin(theta7)*np.cos(theta5)/999999999999966)*np.cos(theta3) + 73156032971437/219687786701012], [0, 0, 0, 1]])'"
      ]
     },
     "execution_count": 3,
     "metadata": {},
     "output_type": "execute_result"
    }
   ],
   "source": [
    "x=str(T0F_poenostavljen).replace(\"sin\",\"np.sin\")\n",
    "y = x.replace(\"cos\",\"np.cos\")\n",
    "z = y.replace(\"Matrix\",\"np.array\")\n",
    "z"
   ]
  },
  {
   "cell_type": "markdown",
   "metadata": {},
   "source": [
    "# Za c++"
   ]
  },
  {
   "cell_type": "markdown",
   "metadata": {},
   "source": [
    "## direktna kinematika "
   ]
  },
  {
   "cell_type": "code",
   "execution_count": 5,
   "metadata": {},
   "outputs": [],
   "source": [
    "#x=str(T0F_poenostavljen).replace(\"[\",\"\")\n",
    "#y = x.replace(\"]\",\"\")\n",
    "#y"
   ]
  },
  {
   "cell_type": "markdown",
   "metadata": {},
   "source": [
    "## jakobi"
   ]
  },
  {
   "cell_type": "code",
   "execution_count": 4,
   "metadata": {
    "scrolled": false
   },
   "outputs": [
    {
     "data": {
      "text/plain": [
       "'Matrix(87999999999997*(((-sin(theta1)*cos(theta2)*cos(theta3) - sin(theta3)*cos(theta1))*cos(theta4) - sin(theta1)*sin(theta2)*sin(theta4))*cos(theta5) - (-sin(theta1)*sin(theta3)*cos(theta2) + cos(theta1)*cos(theta3))*sin(theta5))*cos(theta6)/999999999999966 + 87999999999997*(-(-sin(theta1)*cos(theta2)*cos(theta3) - sin(theta3)*cos(theta1))*sin(theta4) - sin(theta1)*sin(theta2)*cos(theta4))*sin(theta6)/999999999999966 - 383999999999957*(-sin(theta1)*cos(theta2)*cos(theta3) - sin(theta3)*cos(theta1))*sin(theta4)/999999999999888 - 53078138465443*(-sin(theta1)*cos(theta2)*cos(theta3) - sin(theta3)*cos(theta1))*cos(theta4)/643371375338703 + 53078138465443*sin(theta1)*sin(theta2)*sin(theta4)/643371375338703 - 383999999999957*sin(theta1)*sin(theta2)*cos(theta4)/999999999999888 - 315999999999994*sin(theta1)*sin(theta2)/999999999999981 - 53078138465443*sin(theta1)*cos(theta2)*cos(theta3)/643371375338703 - 53078138465443*sin(theta3)*cos(theta1)/643371375338703, 87999999999997*((-sin(theta2)*cos(theta1)*cos(theta3)*cos(theta4) + sin(theta4)*cos(theta1)*cos(theta2))*cos(theta5) + sin(theta2)*sin(theta3)*sin(theta5)*cos(theta1))*cos(theta6)/999999999999966 + 87999999999997*(sin(theta2)*sin(theta4)*cos(theta1)*cos(theta3) + cos(theta1)*cos(theta2)*cos(theta4))*sin(theta6)/999999999999966 + 383999999999957*sin(theta2)*sin(theta4)*cos(theta1)*cos(theta3)/999999999999888 + 53078138465443*sin(theta2)*cos(theta1)*cos(theta3)*cos(theta4)/643371375338703 - 53078138465443*sin(theta2)*cos(theta1)*cos(theta3)/643371375338703 - 53078138465443*sin(theta4)*cos(theta1)*cos(theta2)/643371375338703 + 383999999999957*cos(theta1)*cos(theta2)*cos(theta4)/999999999999888 + 315999999999994*cos(theta1)*cos(theta2)/999999999999981, 87999999999997*(-(-sin(theta1)*sin(theta3) + cos(theta1)*cos(theta2)*cos(theta3))*sin(theta5) + (-sin(theta1)*cos(theta3) - sin(theta3)*cos(theta1)*cos(theta2))*cos(theta4)*cos(theta5))*cos(theta6)/999999999999966 - 87999999999997*(-sin(theta1)*cos(theta3) - sin(theta3)*cos(theta1)*cos(theta2))*sin(theta4)*sin(theta6)/999999999999966 - 383999999999957*(-sin(theta1)*cos(theta3) - sin(theta3)*cos(theta1)*cos(theta2))*sin(theta4)/999999999999888 - 53078138465443*(-sin(theta1)*cos(theta3) - sin(theta3)*cos(theta1)*cos(theta2))*cos(theta4)/643371375338703 - 53078138465443*sin(theta1)*cos(theta3)/643371375338703 - 53078138465443*sin(theta3)*cos(theta1)*cos(theta2)/643371375338703, 87999999999997*(-(-sin(theta1)*sin(theta3) + cos(theta1)*cos(theta2)*cos(theta3))*sin(theta4) + sin(theta2)*cos(theta1)*cos(theta4))*cos(theta5)*cos(theta6)/999999999999966 + 87999999999997*(-(-sin(theta1)*sin(theta3) + cos(theta1)*cos(theta2)*cos(theta3))*cos(theta4) - sin(theta2)*sin(theta4)*cos(theta1))*sin(theta6)/999999999999966 + 53078138465443*(-sin(theta1)*sin(theta3) + cos(theta1)*cos(theta2)*cos(theta3))*sin(theta4)/643371375338703 - 383999999999957*(-sin(theta1)*sin(theta3) + cos(theta1)*cos(theta2)*cos(theta3))*cos(theta4)/999999999999888 - 383999999999957*sin(theta2)*sin(theta4)*cos(theta1)/999999999999888 - 53078138465443*sin(theta2)*cos(theta1)*cos(theta4)/643371375338703, 87999999999997*(-((-sin(theta1)*sin(theta3) + cos(theta1)*cos(theta2)*cos(theta3))*cos(theta4) + sin(theta2)*sin(theta4)*cos(theta1))*sin(theta5) - (sin(theta1)*cos(theta3) + sin(theta3)*cos(theta1)*cos(theta2))*cos(theta5))*cos(theta6)/999999999999966, -87999999999997*(((-sin(theta1)*sin(theta3) + cos(theta1)*cos(theta2)*cos(theta3))*cos(theta4) + sin(theta2)*sin(theta4)*cos(theta1))*cos(theta5) - (sin(theta1)*cos(theta3) + sin(theta3)*cos(theta1)*cos(theta2))*sin(theta5))*sin(theta6)/999999999999966 + 87999999999997*(-(-sin(theta1)*sin(theta3) + cos(theta1)*cos(theta2)*cos(theta3))*sin(theta4) + sin(theta2)*cos(theta1)*cos(theta4))*cos(theta6)/999999999999966, 0, 87999999999997*(((-sin(theta1)*sin(theta3) + cos(theta1)*cos(theta2)*cos(theta3))*cos(theta4) + sin(theta2)*sin(theta4)*cos(theta1))*cos(theta5) - (sin(theta1)*cos(theta3) + sin(theta3)*cos(theta1)*cos(theta2))*sin(theta5))*cos(theta6)/999999999999966 + 87999999999997*(-(-sin(theta1)*sin(theta3) + cos(theta1)*cos(theta2)*cos(theta3))*sin(theta4) + sin(theta2)*cos(theta1)*cos(theta4))*sin(theta6)/999999999999966 - 383999999999957*(-sin(theta1)*sin(theta3) + cos(theta1)*cos(theta2)*cos(theta3))*sin(theta4)/999999999999888 - 53078138465443*(-sin(theta1)*sin(theta3) + cos(theta1)*cos(theta2)*cos(theta3))*cos(theta4)/643371375338703 - 53078138465443*sin(theta1)*sin(theta3)/643371375338703 - 53078138465443*sin(theta2)*sin(theta4)*cos(theta1)/643371375338703 + 383999999999957*sin(theta2)*cos(theta1)*cos(theta4)/999999999999888 + 315999999999994*sin(theta2)*cos(theta1)/999999999999981 + 53078138465443*cos(theta1)*cos(theta2)*cos(theta3)/643371375338703, 87999999999997*((-sin(theta1)*sin(theta2)*cos(theta3)*cos(theta4) + sin(theta1)*sin(theta4)*cos(theta2))*cos(theta5) + sin(theta1)*sin(theta2)*sin(theta3)*sin(theta5))*cos(theta6)/999999999999966 + 87999999999997*(sin(theta1)*sin(theta2)*sin(theta4)*cos(theta3) + sin(theta1)*cos(theta2)*cos(theta4))*sin(theta6)/999999999999966 + 383999999999957*sin(theta1)*sin(theta2)*sin(theta4)*cos(theta3)/999999999999888 + 53078138465443*sin(theta1)*sin(theta2)*cos(theta3)*cos(theta4)/643371375338703 - 53078138465443*sin(theta1)*sin(theta2)*cos(theta3)/643371375338703 - 53078138465443*sin(theta1)*sin(theta4)*cos(theta2)/643371375338703 + 383999999999957*sin(theta1)*cos(theta2)*cos(theta4)/999999999999888 + 315999999999994*sin(theta1)*cos(theta2)/999999999999981, 87999999999997*((-sin(theta1)*sin(theta3)*cos(theta2) + cos(theta1)*cos(theta3))*cos(theta4)*cos(theta5) - (sin(theta1)*cos(theta2)*cos(theta3) + sin(theta3)*cos(theta1))*sin(theta5))*cos(theta6)/999999999999966 - 87999999999997*(-sin(theta1)*sin(theta3)*cos(theta2) + cos(theta1)*cos(theta3))*sin(theta4)*sin(theta6)/999999999999966 - 383999999999957*(-sin(theta1)*sin(theta3)*cos(theta2) + cos(theta1)*cos(theta3))*sin(theta4)/999999999999888 - 53078138465443*(-sin(theta1)*sin(theta3)*cos(theta2) + cos(theta1)*cos(theta3))*cos(theta4)/643371375338703 - 53078138465443*sin(theta1)*sin(theta3)*cos(theta2)/643371375338703 + 53078138465443*cos(theta1)*cos(theta3)/643371375338703, 87999999999997*(-(sin(theta1)*cos(theta2)*cos(theta3) + sin(theta3)*cos(theta1))*sin(theta4) + sin(theta1)*sin(theta2)*cos(theta4))*cos(theta5)*cos(theta6)/999999999999966 + 87999999999997*(-(sin(theta1)*cos(theta2)*cos(theta3) + sin(theta3)*cos(theta1))*cos(theta4) - sin(theta1)*sin(theta2)*sin(theta4))*sin(theta6)/999999999999966 + 53078138465443*(sin(theta1)*cos(theta2)*cos(theta3) + sin(theta3)*cos(theta1))*sin(theta4)/643371375338703 - 383999999999957*(sin(theta1)*cos(theta2)*cos(theta3) + sin(theta3)*cos(theta1))*cos(theta4)/999999999999888 - 383999999999957*sin(theta1)*sin(theta2)*sin(theta4)/999999999999888 - 53078138465443*sin(theta1)*sin(theta2)*cos(theta4)/643371375338703, 87999999999997*(-((sin(theta1)*cos(theta2)*cos(theta3) + sin(theta3)*cos(theta1))*cos(theta4) + sin(theta1)*sin(theta2)*sin(theta4))*sin(theta5) - (sin(theta1)*sin(theta3)*cos(theta2) - cos(theta1)*cos(theta3))*cos(theta5))*cos(theta6)/999999999999966, -87999999999997*(((sin(theta1)*cos(theta2)*cos(theta3) + sin(theta3)*cos(theta1))*cos(theta4) + sin(theta1)*sin(theta2)*sin(theta4))*cos(theta5) - (sin(theta1)*sin(theta3)*cos(theta2) - cos(theta1)*cos(theta3))*sin(theta5))*sin(theta6)/999999999999966 + 87999999999997*(-(sin(theta1)*cos(theta2)*cos(theta3) + sin(theta3)*cos(theta1))*sin(theta4) + sin(theta1)*sin(theta2)*cos(theta4))*cos(theta6)/999999999999966, 0, 0, 87999999999997*((-sin(theta2)*sin(theta4) - cos(theta2)*cos(theta3)*cos(theta4))*cos(theta5) + sin(theta3)*sin(theta5)*cos(theta2))*cos(theta6)/999999999999966 + 87999999999997*(-sin(theta2)*cos(theta4) + sin(theta4)*cos(theta2)*cos(theta3))*sin(theta6)/999999999999966 + 53078138465443*sin(theta2)*sin(theta4)/643371375338703 - 383999999999957*sin(theta2)*cos(theta4)/999999999999888 - 315999999999994*sin(theta2)/999999999999981 + 383999999999957*sin(theta4)*cos(theta2)*cos(theta3)/999999999999888 + 53078138465443*cos(theta2)*cos(theta3)*cos(theta4)/643371375338703 - 53078138465443*cos(theta2)*cos(theta3)/643371375338703, 87999999999997*(sin(theta2)*sin(theta3)*cos(theta4)*cos(theta5) + sin(theta2)*sin(theta5)*cos(theta3))*cos(theta6)/999999999999966 - 87999999999997*sin(theta2)*sin(theta3)*sin(theta4)*sin(theta6)/999999999999966 - 383999999999957*sin(theta2)*sin(theta3)*sin(theta4)/999999999999888 - 53078138465443*sin(theta2)*sin(theta3)*cos(theta4)/643371375338703 + 53078138465443*sin(theta2)*sin(theta3)/643371375338703, 87999999999997*(sin(theta2)*sin(theta4)*cos(theta3) + cos(theta2)*cos(theta4))*cos(theta5)*cos(theta6)/999999999999966 + 87999999999997*(sin(theta2)*cos(theta3)*cos(theta4) - sin(theta4)*cos(theta2))*sin(theta6)/999999999999966 - 53078138465443*sin(theta2)*sin(theta4)*cos(theta3)/643371375338703 + 383999999999957*sin(theta2)*cos(theta3)*cos(theta4)/999999999999888 - 383999999999957*sin(theta4)*cos(theta2)/999999999999888 - 53078138465443*cos(theta2)*cos(theta4)/643371375338703, 87999999999997*(-(-sin(theta2)*cos(theta3)*cos(theta4) + sin(theta4)*cos(theta2))*sin(theta5) + sin(theta2)*sin(theta3)*cos(theta5))*cos(theta6)/999999999999966, -87999999999997*((-sin(theta2)*cos(theta3)*cos(theta4) + sin(theta4)*cos(theta2))*cos(theta5) + sin(theta2)*sin(theta3)*sin(theta5))*sin(theta6)/999999999999966 + 87999999999997*(sin(theta2)*sin(theta4)*cos(theta3) + cos(theta2)*cos(theta4))*cos(theta6)/999999999999966, 0, 0, -sin(theta1), sin(theta2)*cos(theta1), sin(theta1)*cos(theta3) + sin(theta3)*cos(theta1)*cos(theta2), -(-sin(theta1)*sin(theta3) + cos(theta1)*cos(theta2)*cos(theta3))*sin(theta4) + sin(theta2)*cos(theta1)*cos(theta4), ((-sin(theta1)*sin(theta3) + cos(theta1)*cos(theta2)*cos(theta3))*cos(theta4) + sin(theta2)*sin(theta4)*cos(theta1))*sin(theta5) + (sin(theta1)*cos(theta3) + sin(theta3)*cos(theta1)*cos(theta2))*cos(theta5), (((-sin(theta1)*sin(theta3) + cos(theta1)*cos(theta2)*cos(theta3))*cos(theta4) + sin(theta2)*sin(theta4)*cos(theta1))*cos(theta5) - (sin(theta1)*cos(theta3) + sin(theta3)*cos(theta1)*cos(theta2))*sin(theta5))*sin(theta6) - (-(-sin(theta1)*sin(theta3) + cos(theta1)*cos(theta2)*cos(theta3))*sin(theta4) + sin(theta2)*cos(theta1)*cos(theta4))*cos(theta6), 0, cos(theta1), sin(theta1)*sin(theta2), sin(theta1)*sin(theta3)*cos(theta2) - cos(theta1)*cos(theta3), -(sin(theta1)*cos(theta2)*cos(theta3) + sin(theta3)*cos(theta1))*sin(theta4) + sin(theta1)*sin(theta2)*cos(theta4), ((sin(theta1)*cos(theta2)*cos(theta3) + sin(theta3)*cos(theta1))*cos(theta4) + sin(theta1)*sin(theta2)*sin(theta4))*sin(theta5) + (sin(theta1)*sin(theta3)*cos(theta2) - cos(theta1)*cos(theta3))*cos(theta5), (((sin(theta1)*cos(theta2)*cos(theta3) + sin(theta3)*cos(theta1))*cos(theta4) + sin(theta1)*sin(theta2)*sin(theta4))*cos(theta5) - (sin(theta1)*sin(theta3)*cos(theta2) - cos(theta1)*cos(theta3))*sin(theta5))*sin(theta6) - (-(sin(theta1)*cos(theta2)*cos(theta3) + sin(theta3)*cos(theta1))*sin(theta4) + sin(theta1)*sin(theta2)*cos(theta4))*cos(theta6), 1, 0, cos(theta2), -sin(theta2)*sin(theta3), sin(theta2)*sin(theta4)*cos(theta3) + cos(theta2)*cos(theta4), (-sin(theta2)*cos(theta3)*cos(theta4) + sin(theta4)*cos(theta2))*sin(theta5) - sin(theta2)*sin(theta3)*cos(theta5), ((-sin(theta2)*cos(theta3)*cos(theta4) + sin(theta4)*cos(theta2))*cos(theta5) + sin(theta2)*sin(theta3)*sin(theta5))*sin(theta6) - (sin(theta2)*sin(theta4)*cos(theta3) + cos(theta2)*cos(theta4))*cos(theta6))'"
      ]
     },
     "execution_count": 4,
     "metadata": {},
     "output_type": "execute_result"
    }
   ],
   "source": [
    "\n",
    "x=str(Poesnostavljen_J).replace(\"[\",\"\")\n",
    "y = x.replace(\"]\",\"\")\n",
    "y"
   ]
  },
  {
   "cell_type": "code",
   "execution_count": null,
   "metadata": {},
   "outputs": [],
   "source": []
  }
 ],
 "metadata": {
  "kernelspec": {
   "display_name": "Python 3 (ipykernel)",
   "language": "python",
   "name": "python3"
  },
  "language_info": {
   "codemirror_mode": {
    "name": "ipython",
    "version": 3
   },
   "file_extension": ".py",
   "mimetype": "text/x-python",
   "name": "python",
   "nbconvert_exporter": "python",
   "pygments_lexer": "ipython3",
   "version": "3.8.12"
  },
  "toc": {
   "base_numbering": 1,
   "nav_menu": {
    "height": "12px",
    "width": "164px"
   },
   "number_sections": true,
   "sideBar": true,
   "skip_h1_title": false,
   "title_cell": "Table of Contents",
   "title_sidebar": "Contents",
   "toc_cell": false,
   "toc_position": {
    "height": "calc(100% - 180px)",
    "left": "10px",
    "top": "150px",
    "width": "512px"
   },
   "toc_section_display": true,
   "toc_window_display": false
  }
 },
 "nbformat": 4,
 "nbformat_minor": 4
}
